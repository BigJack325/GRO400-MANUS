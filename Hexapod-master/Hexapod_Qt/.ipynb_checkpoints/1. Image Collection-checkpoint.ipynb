{
 "cells": [
  {
   "cell_type": "markdown",
   "metadata": {},
   "source": [
    "# 1. Import Dependencies"
   ]
  },
  {
   "cell_type": "code",
   "execution_count": 12,
   "metadata": {},
   "outputs": [],
   "source": [
    "# Import opencv\n",
    "import cv2 \n",
    "\n",
    "# Import uuid\n",
    "import uuid\n",
    "\n",
    "# Import Operating System\n",
    "import os\n",
    "\n",
    "# Import time\n",
    "import time"
   ]
  },
  {
   "cell_type": "markdown",
   "metadata": {},
   "source": [
    "# 2. Define Images to Collect"
   ]
  },
  {
   "cell_type": "code",
   "execution_count": 13,
   "metadata": {},
   "outputs": [],
   "source": [
    "labels = ['Happy','Angry']\n",
    "number_imgs = 5"
   ]
  },
  {
   "cell_type": "markdown",
   "metadata": {},
   "source": [
    "# 3. Setup Folders "
   ]
  },
  {
   "cell_type": "code",
   "execution_count": 14,
   "metadata": {},
   "outputs": [],
   "source": [
    "IMAGES_PATH = os.path.join('Tensorflow', 'workspace', 'images', 'collectedimages')"
   ]
  },
  {
   "cell_type": "code",
   "execution_count": 15,
   "metadata": {},
   "outputs": [],
   "source": [
    "if not os.path.exists(IMAGES_PATH):\n",
    "    if os.name == 'posix':\n",
    "        !mkdir -p {IMAGES_PATH}\n",
    "    if os.name == 'nt':\n",
    "         !mkdir {IMAGES_PATH}\n",
    "for label in labels:\n",
    "    path = os.path.join(IMAGES_PATH, label)\n",
    "    if not os.path.exists(path):\n",
    "        !mkdir {path}"
   ]
  },
  {
   "cell_type": "markdown",
   "metadata": {},
   "source": [
    "# 4. Capture Images"
   ]
  },
  {
   "cell_type": "code",
   "execution_count": 6,
   "metadata": {},
   "outputs": [
    {
     "name": "stdout",
     "output_type": "stream",
     "text": [
      "Collecting images for Happy\n",
      "Collecting image 0\n"
     ]
    }
   ],
   "source": [
    "cap = cv2.VideoCapture(0)\n",
    "for label in labels:\n",
    "    print('Collecting images for {}'.format(label))\n",
    "    time.sleep(5)\n",
    "    for imgnum in range(number_imgs):\n",
    "        print('Collecting image {}'.format(imgnum))\n",
    "        ret, frame = cap.read()\n",
    "        imgname = os.path.join(IMAGES_PATH,label,label+'.'+'{}.jpg'.format(str(uuid.uuid1())))\n",
    "        cv2.imwrite(imgname, frame)\n",
    "        cv2.imshow('frame', frame)\n",
    "        time.sleep(2)\n",
    "\n",
    "        if cv2.waitKey(1) & 0xFF == ord('q'):\n",
    "            break\n",
    "cap.release()\n",
    "cv2.destroyAllWindows()"
   ]
  },
  {
   "cell_type": "markdown",
   "metadata": {},
   "source": [
    "# 5. Image Labelling"
   ]
  },
  {
   "cell_type": "code",
   "execution_count": 8,
   "metadata": {},
   "outputs": [],
   "source": [
    "LABELIMG_PATH = os.path.join('Tensorflow', 'labelimg')"
   ]
  },
  {
   "cell_type": "code",
   "execution_count": 9,
   "metadata": {},
   "outputs": [],
   "source": [
    "if not os.path.exists(LABELIMG_PATH):\n",
    "    !mkdir {LABELIMG_PATH}\n",
    "    !git clone https://github.com/tzutalin/labelImg {LABELIMG_PATH}"
   ]
  },
  {
   "cell_type": "code",
   "execution_count": 10,
   "metadata": {},
   "outputs": [
    {
     "name": "stdout",
     "output_type": "stream",
     "text": [
      "pyrcc5 -o libs/resources.py resources.qrc\r\n"
     ]
    }
   ],
   "source": [
    "if os.name == 'posix':\n",
    "    !cd {LABELIMG_PATH} && make qt5py3\n",
    "if os.name =='nt':\n",
    "    !cd {LABELIMG_PATH} && pyrcc5 -o libs/resources.py resources.qrc"
   ]
  },
  {
   "cell_type": "code",
   "execution_count": 11,
   "metadata": {},
   "outputs": [
    {
     "name": "stdout",
     "output_type": "stream",
     "text": [
      "Image:/Users/jackson/Desktop/Programmation/Projet/GRO400-MANUS/Hexapod-master/Hexapod_Qt/Tensorflow/workspace/images/collectedimages/Angry/Angry.2d48409e-a2f7-11ec-9ab1-48bf6be6d4d2.jpg -> Annotation:/Users/jackson/Desktop/Programmation/Projet/GRO400-MANUS/Hexapod-master/Hexapod_Qt/Tensorflow/workspace/images/collectedimages/Angry/Angry.2d48409e-a2f7-11ec-9ab1-48bf6be6d4d2.xml\n",
      "Image:/Users/jackson/Desktop/Programmation/Projet/GRO400-MANUS/Hexapod-master/Hexapod_Qt/Tensorflow/workspace/images/collectedimages/Angry/Angry.2e8809c6-a2f7-11ec-9ab1-48bf6be6d4d2.jpg -> Annotation:/Users/jackson/Desktop/Programmation/Projet/GRO400-MANUS/Hexapod-master/Hexapod_Qt/Tensorflow/workspace/images/collectedimages/Angry/Angry.2e8809c6-a2f7-11ec-9ab1-48bf6be6d4d2.xml\n",
      "Image:/Users/jackson/Desktop/Programmation/Projet/GRO400-MANUS/Hexapod-master/Hexapod_Qt/Tensorflow/workspace/images/collectedimages/Angry/Angry.2fc8f7d2-a2f7-11ec-9ab1-48bf6be6d4d2.jpg -> Annotation:/Users/jackson/Desktop/Programmation/Projet/GRO400-MANUS/Hexapod-master/Hexapod_Qt/Tensorflow/workspace/images/collectedimages/Angry/Angry.2fc8f7d2-a2f7-11ec-9ab1-48bf6be6d4d2.xml\n",
      "Image:/Users/jackson/Desktop/Programmation/Projet/GRO400-MANUS/Hexapod-master/Hexapod_Qt/Tensorflow/workspace/images/collectedimages/Angry/Angry.3249eb4c-a2f7-11ec-9ab1-48bf6be6d4d2.jpg -> Annotation:/Users/jackson/Desktop/Programmation/Projet/GRO400-MANUS/Hexapod-master/Hexapod_Qt/Tensorflow/workspace/images/collectedimages/Angry/Angry.3249eb4c-a2f7-11ec-9ab1-48bf6be6d4d2.xml\n",
      "Image:/Users/jackson/Desktop/Programmation/Projet/GRO400-MANUS/Hexapod-master/Hexapod_Qt/Tensorflow/workspace/images/collectedimages/Angry/Angry.3109912e-a2f7-11ec-9ab1-48bf6be6d4d2.jpg -> Annotation:/Users/jackson/Desktop/Programmation/Projet/GRO400-MANUS/Hexapod-master/Hexapod_Qt/Tensorflow/workspace/images/collectedimages/Angry/Angry.3109912e-a2f7-11ec-9ab1-48bf6be6d4d2.xml\n",
      "Image:/Users/jackson/Desktop/Programmation/Projet/GRO400-MANUS/Hexapod-master/Hexapod_Qt/Tensorflow/workspace/images/collectedimages/Happy/Happy.7b4e2d9e-a2f7-11ec-95fc-48bf6be6d4d2.jpg -> Annotation:/Users/jackson/Desktop/Programmation/Projet/GRO400-MANUS/Hexapod-master/Hexapod_Qt/Tensorflow/workspace/images/collectedimages/Happy/Happy.7b4e2d9e-a2f7-11ec-95fc-48bf6be6d4d2.xml\n",
      "Image:/Users/jackson/Desktop/Programmation/Projet/GRO400-MANUS/Hexapod-master/Hexapod_Qt/Tensorflow/workspace/images/collectedimages/Happy/Happy.23eee2be-a2f7-11ec-9ab1-48bf6be6d4d2.jpg -> Annotation:/Users/jackson/Desktop/Programmation/Projet/GRO400-MANUS/Hexapod-master/Hexapod_Qt/Tensorflow/workspace/images/collectedimages/Happy/Happy.23eee2be-a2f7-11ec-9ab1-48bf6be6d4d2.xml\n",
      "Image:/Users/jackson/Desktop/Programmation/Projet/GRO400-MANUS/Hexapod-master/Hexapod_Qt/Tensorflow/workspace/images/collectedimages/Happy/Happy.27c96c60-a2f7-11ec-9ab1-48bf6be6d4d2.jpg -> Annotation:/Users/jackson/Desktop/Programmation/Projet/GRO400-MANUS/Hexapod-master/Hexapod_Qt/Tensorflow/workspace/images/collectedimages/Happy/Happy.27c96c60-a2f7-11ec-9ab1-48bf6be6d4d2.xml\n",
      "Image:/Users/jackson/Desktop/Programmation/Projet/GRO400-MANUS/Hexapod-master/Hexapod_Qt/Tensorflow/workspace/images/collectedimages/Happy/Happy.290a1f5c-a2f7-11ec-9ab1-48bf6be6d4d2.jpg -> Annotation:/Users/jackson/Desktop/Programmation/Projet/GRO400-MANUS/Hexapod-master/Hexapod_Qt/Tensorflow/workspace/images/collectedimages/Happy/Happy.290a1f5c-a2f7-11ec-9ab1-48bf6be6d4d2.xml\n",
      "Image:/Users/jackson/Desktop/Programmation/Projet/GRO400-MANUS/Hexapod-master/Hexapod_Qt/Tensorflow/workspace/images/collectedimages/Happy/Happy.2689165c-a2f7-11ec-9ab1-48bf6be6d4d2.jpg -> Annotation:/Users/jackson/Desktop/Programmation/Projet/GRO400-MANUS/Hexapod-master/Hexapod_Qt/Tensorflow/workspace/images/collectedimages/Happy/Happy.2689165c-a2f7-11ec-9ab1-48bf6be6d4d2.xml\n"
     ]
    }
   ],
   "source": [
    "!cd {LABELIMG_PATH} && python labelImg.py"
   ]
  },
  {
   "cell_type": "markdown",
   "metadata": {},
   "source": [
    "# 6. Move them into a Training and Testing Partition"
   ]
  },
  {
   "cell_type": "markdown",
   "metadata": {},
   "source": [
    "# OPTIONAL - 7. Compress them for Colab Training"
   ]
  },
  {
   "cell_type": "code",
   "execution_count": 20,
   "metadata": {},
   "outputs": [],
   "source": [
    "TRAIN_PATH = os.path.join('Tensorflow', 'workspace', 'images', 'train')\n",
    "TEST_PATH = os.path.join('Tensorflow', 'workspace', 'images', 'test')\n",
    "ARCHIVE_PATH = os.path.join('Tensorflow', 'workspace', 'images', 'archive.tar.gz')"
   ]
  },
  {
   "cell_type": "code",
   "execution_count": 21,
   "metadata": {},
   "outputs": [],
   "source": [
    "!tar -czf {ARCHIVE_PATH} {TRAIN_PATH} {TEST_PATH}"
   ]
  },
  {
   "cell_type": "code",
   "execution_count": null,
   "metadata": {},
   "outputs": [],
   "source": []
  }
 ],
 "metadata": {
  "kernelspec": {
   "display_name": "Qt_venv",
   "language": "python",
   "name": "qt_venv"
  },
  "language_info": {
   "codemirror_mode": {
    "name": "ipython",
    "version": 3
   },
   "file_extension": ".py",
   "mimetype": "text/x-python",
   "name": "python",
   "nbconvert_exporter": "python",
   "pygments_lexer": "ipython3",
   "version": "3.9.7"
  }
 },
 "nbformat": 4,
 "nbformat_minor": 2
}

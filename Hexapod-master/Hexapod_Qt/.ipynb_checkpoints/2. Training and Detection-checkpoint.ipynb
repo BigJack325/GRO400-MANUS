{
 "cells": [
  {
   "cell_type": "markdown",
   "metadata": {
    "id": "QUANWN3rpfC9"
   },
   "source": [
    "# 0. Setup Paths"
   ]
  },
  {
   "cell_type": "code",
   "execution_count": 2,
   "metadata": {
    "id": "146BB11JpfDA"
   },
   "outputs": [],
   "source": [
    "import os"
   ]
  },
  {
   "cell_type": "code",
   "execution_count": 3,
   "metadata": {
    "id": "42hJEdo_pfDB"
   },
   "outputs": [],
   "source": [
    "CUSTOM_MODEL_NAME = 'Ant' \n",
    "PRETRAINED_MODEL_NAME = 'ssd_mobilenet_v2_fpnlite_320x320_coco17_tpu-8'\n",
    "PRETRAINED_MODEL_URL = 'http://download.tensorflow.org/models/object_detection/tf2/20200711/ssd_mobilenet_v2_fpnlite_320x320_coco17_tpu-8.tar.gz'\n",
    "TF_RECORD_SCRIPT_NAME = 'generate_tfrecord.py'\n",
    "LABEL_MAP_NAME = 'label_map.pbtxt'"
   ]
  },
  {
   "cell_type": "code",
   "execution_count": 4,
   "metadata": {
    "id": "hbPhYVy_pfDB"
   },
   "outputs": [],
   "source": [
    "paths = {\n",
    "    'WORKSPACE_PATH': os.path.join('Tensorflow', 'workspace'),\n",
    "    'SCRIPTS_PATH': os.path.join('Tensorflow','scripts'),\n",
    "    'APIMODEL_PATH': os.path.join('Tensorflow','models'),\n",
    "    'ANNOTATION_PATH': os.path.join('Tensorflow', 'workspace','annotations'),\n",
    "    'IMAGE_PATH': os.path.join('Tensorflow', 'workspace','images'),\n",
    "    'MODEL_PATH': os.path.join('Tensorflow', 'workspace','models'),\n",
    "    'PRETRAINED_MODEL_PATH': os.path.join('Tensorflow', 'workspace','pre-trained-models'),\n",
    "    'CHECKPOINT_PATH': os.path.join('Tensorflow', 'workspace','models',CUSTOM_MODEL_NAME), \n",
    "    'OUTPUT_PATH': os.path.join('Tensorflow', 'workspace','models',CUSTOM_MODEL_NAME, 'export'), \n",
    "    #'TFJS_PATH':os.path.join('Tensorflow', 'workspace','models',CUSTOM_MODEL_NAME, 'tfjsexport'), \n",
    "    'TFLITE_PATH':os.path.join('Tensorflow', 'workspace','models',CUSTOM_MODEL_NAME, 'tfliteexport'), \n",
    "    'PROTOC_PATH':os.path.join('Tensorflow','protoc')\n",
    " }"
   ]
  },
  {
   "cell_type": "code",
   "execution_count": 5,
   "metadata": {
    "id": "LwhWZMI0pfDC"
   },
   "outputs": [],
   "source": [
    "files = {\n",
    "    'PIPELINE_CONFIG':os.path.join('Tensorflow', 'workspace','models', CUSTOM_MODEL_NAME, 'pipeline.config'),\n",
    "    'TF_RECORD_SCRIPT': os.path.join(paths['SCRIPTS_PATH'], TF_RECORD_SCRIPT_NAME), \n",
    "    'LABELMAP': os.path.join(paths['ANNOTATION_PATH'], LABEL_MAP_NAME)\n",
    "}"
   ]
  },
  {
   "cell_type": "code",
   "execution_count": 6,
   "metadata": {
    "id": "HR-TfDGrpfDC"
   },
   "outputs": [],
   "source": [
    "for path in paths.values():\n",
    "    if not os.path.exists(path):\n",
    "        if os.name == 'posix':\n",
    "            !mkdir -p {path}\n",
    "        if os.name == 'nt':\n",
    "            !mkdir {path}"
   ]
  },
  {
   "cell_type": "markdown",
   "metadata": {
    "id": "OLU-rs_ipfDE"
   },
   "source": [
    "# 1. Download TF Models Pretrained Models from Tensorflow Model Zoo and Install TFOD"
   ]
  },
  {
   "cell_type": "code",
   "execution_count": 6,
   "metadata": {},
   "outputs": [],
   "source": [
    "# https://www.tensorflow.org/install/source_windows"
   ]
  },
  {
   "cell_type": "code",
   "execution_count": 40,
   "metadata": {
    "id": "K-Cmz2edpfDE",
    "scrolled": true
   },
   "outputs": [],
   "source": [
    "import wget"
   ]
  },
  {
   "cell_type": "code",
   "execution_count": 41,
   "metadata": {
    "id": "iA1DIq5OpfDE"
   },
   "outputs": [],
   "source": [
    "if not os.path.exists(os.path.join(paths['APIMODEL_PATH'], 'research', 'object_detection')):\n",
    "    !git clone https://github.com/tensorflow/models {paths['APIMODEL_PATH']}"
   ]
  },
  {
   "cell_type": "code",
   "execution_count": 42,
   "metadata": {
    "id": "rJjMHbnDs3Tv"
   },
   "outputs": [
    {
     "name": "stdout",
     "output_type": "stream",
     "text": [
      "zsh:1: command not found: apt-get\n",
      "Processing /Users/jackson/Desktop/Programmation/Projet/GRO400-MANUS/Hexapod-master/Hexapod_Qt/Tensorflow/models/research\n",
      "  Preparing metadata (setup.py) ... \u001b[?25ldone\n",
      "\u001b[?25hRequirement already satisfied: avro-python3 in /Users/jackson/Desktop/Programmation/Projet/GRO400-MANUS/Hexapod-master/Hexapod_Qt/Qt_venv/lib/python3.9/site-packages (from object-detection==0.1) (1.10.2)\n",
      "Requirement already satisfied: apache-beam in /Users/jackson/Desktop/Programmation/Projet/GRO400-MANUS/Hexapod-master/Hexapod_Qt/Qt_venv/lib/python3.9/site-packages (from object-detection==0.1) (2.37.0)\n",
      "Requirement already satisfied: pillow in /Users/jackson/Desktop/Programmation/Projet/GRO400-MANUS/Hexapod-master/Hexapod_Qt/Qt_venv/lib/python3.9/site-packages (from object-detection==0.1) (9.0.1)\n",
      "Requirement already satisfied: lxml in /Users/jackson/Desktop/Programmation/Projet/GRO400-MANUS/Hexapod-master/Hexapod_Qt/Qt_venv/lib/python3.9/site-packages (from object-detection==0.1) (4.8.0)\n",
      "Requirement already satisfied: matplotlib in /Users/jackson/Desktop/Programmation/Projet/GRO400-MANUS/Hexapod-master/Hexapod_Qt/Qt_venv/lib/python3.9/site-packages (from object-detection==0.1) (3.5.1)\n",
      "Requirement already satisfied: Cython in /Users/jackson/Desktop/Programmation/Projet/GRO400-MANUS/Hexapod-master/Hexapod_Qt/Qt_venv/lib/python3.9/site-packages (from object-detection==0.1) (0.29.28)\n",
      "Requirement already satisfied: contextlib2 in /Users/jackson/Desktop/Programmation/Projet/GRO400-MANUS/Hexapod-master/Hexapod_Qt/Qt_venv/lib/python3.9/site-packages (from object-detection==0.1) (21.6.0)\n",
      "Requirement already satisfied: tf-slim in /Users/jackson/Desktop/Programmation/Projet/GRO400-MANUS/Hexapod-master/Hexapod_Qt/Qt_venv/lib/python3.9/site-packages (from object-detection==0.1) (1.1.0)\n",
      "Requirement already satisfied: six in /Users/jackson/Desktop/Programmation/Projet/GRO400-MANUS/Hexapod-master/Hexapod_Qt/Qt_venv/lib/python3.9/site-packages (from object-detection==0.1) (1.16.0)\n",
      "Requirement already satisfied: pycocotools in /Users/jackson/Desktop/Programmation/Projet/GRO400-MANUS/Hexapod-master/Hexapod_Qt/Qt_venv/lib/python3.9/site-packages (from object-detection==0.1) (2.0.4)\n",
      "Requirement already satisfied: lvis in /Users/jackson/Desktop/Programmation/Projet/GRO400-MANUS/Hexapod-master/Hexapod_Qt/Qt_venv/lib/python3.9/site-packages (from object-detection==0.1) (0.5.3)\n",
      "Requirement already satisfied: scipy in /Users/jackson/Desktop/Programmation/Projet/GRO400-MANUS/Hexapod-master/Hexapod_Qt/Qt_venv/lib/python3.9/site-packages (from object-detection==0.1) (1.8.0)\n",
      "Requirement already satisfied: pandas in /Users/jackson/Desktop/Programmation/Projet/GRO400-MANUS/Hexapod-master/Hexapod_Qt/Qt_venv/lib/python3.9/site-packages (from object-detection==0.1) (1.4.1)\n",
      "Requirement already satisfied: tf-models-official>=2.5.1 in /Users/jackson/Desktop/Programmation/Projet/GRO400-MANUS/Hexapod-master/Hexapod_Qt/Qt_venv/lib/python3.9/site-packages (from object-detection==0.1) (2.8.0)\n",
      "Requirement already satisfied: tensorflow_io in /Users/jackson/Desktop/Programmation/Projet/GRO400-MANUS/Hexapod-master/Hexapod_Qt/Qt_venv/lib/python3.9/site-packages (from object-detection==0.1) (0.24.0)\n",
      "Requirement already satisfied: keras in /Users/jackson/Desktop/Programmation/Projet/GRO400-MANUS/Hexapod-master/Hexapod_Qt/Qt_venv/lib/python3.9/site-packages (from object-detection==0.1) (2.8.0)\n",
      "Requirement already satisfied: seqeval in /Users/jackson/Desktop/Programmation/Projet/GRO400-MANUS/Hexapod-master/Hexapod_Qt/Qt_venv/lib/python3.9/site-packages (from tf-models-official>=2.5.1->object-detection==0.1) (1.2.2)\n",
      "Requirement already satisfied: sacrebleu in /Users/jackson/Desktop/Programmation/Projet/GRO400-MANUS/Hexapod-master/Hexapod_Qt/Qt_venv/lib/python3.9/site-packages (from tf-models-official>=2.5.1->object-detection==0.1) (2.0.0)\n",
      "Requirement already satisfied: kaggle>=1.3.9 in /Users/jackson/Desktop/Programmation/Projet/GRO400-MANUS/Hexapod-master/Hexapod_Qt/Qt_venv/lib/python3.9/site-packages (from tf-models-official>=2.5.1->object-detection==0.1) (1.5.12)\n",
      "Requirement already satisfied: tensorflow-datasets in /Users/jackson/Desktop/Programmation/Projet/GRO400-MANUS/Hexapod-master/Hexapod_Qt/Qt_venv/lib/python3.9/site-packages (from tf-models-official>=2.5.1->object-detection==0.1) (4.5.2)\n",
      "Requirement already satisfied: numpy>=1.15.4 in /Users/jackson/Desktop/Programmation/Projet/GRO400-MANUS/Hexapod-master/Hexapod_Qt/Qt_venv/lib/python3.9/site-packages (from tf-models-official>=2.5.1->object-detection==0.1) (1.21.5)\n",
      "Requirement already satisfied: py-cpuinfo>=3.3.0 in /Users/jackson/Desktop/Programmation/Projet/GRO400-MANUS/Hexapod-master/Hexapod_Qt/Qt_venv/lib/python3.9/site-packages (from tf-models-official>=2.5.1->object-detection==0.1) (8.0.0)\n",
      "Requirement already satisfied: pyyaml<6.0,>=5.1 in /Users/jackson/Desktop/Programmation/Projet/GRO400-MANUS/Hexapod-master/Hexapod_Qt/Qt_venv/lib/python3.9/site-packages (from tf-models-official>=2.5.1->object-detection==0.1) (5.4.1)\n",
      "Requirement already satisfied: tensorflow~=2.8.0 in /Users/jackson/Desktop/Programmation/Projet/GRO400-MANUS/Hexapod-master/Hexapod_Qt/Qt_venv/lib/python3.9/site-packages (from tf-models-official>=2.5.1->object-detection==0.1) (2.8.0)\n",
      "Requirement already satisfied: opencv-python-headless in /Users/jackson/Desktop/Programmation/Projet/GRO400-MANUS/Hexapod-master/Hexapod_Qt/Qt_venv/lib/python3.9/site-packages (from tf-models-official>=2.5.1->object-detection==0.1) (4.5.5.64)\n",
      "Requirement already satisfied: sentencepiece in /Users/jackson/Desktop/Programmation/Projet/GRO400-MANUS/Hexapod-master/Hexapod_Qt/Qt_venv/lib/python3.9/site-packages (from tf-models-official>=2.5.1->object-detection==0.1) (0.1.96)\n",
      "Requirement already satisfied: tensorflow-text~=2.8.0 in /Users/jackson/Desktop/Programmation/Projet/GRO400-MANUS/Hexapod-master/Hexapod_Qt/Qt_venv/lib/python3.9/site-packages (from tf-models-official>=2.5.1->object-detection==0.1) (2.8.1)\n",
      "Requirement already satisfied: oauth2client in /Users/jackson/Desktop/Programmation/Projet/GRO400-MANUS/Hexapod-master/Hexapod_Qt/Qt_venv/lib/python3.9/site-packages (from tf-models-official>=2.5.1->object-detection==0.1) (4.1.3)\n",
      "Requirement already satisfied: gin-config in /Users/jackson/Desktop/Programmation/Projet/GRO400-MANUS/Hexapod-master/Hexapod_Qt/Qt_venv/lib/python3.9/site-packages (from tf-models-official>=2.5.1->object-detection==0.1) (0.5.0)\n",
      "Requirement already satisfied: psutil>=5.4.3 in /Users/jackson/Desktop/Programmation/Projet/GRO400-MANUS/Hexapod-master/Hexapod_Qt/Qt_venv/lib/python3.9/site-packages (from tf-models-official>=2.5.1->object-detection==0.1) (5.9.0)\n",
      "Requirement already satisfied: google-api-python-client>=1.6.7 in /Users/jackson/Desktop/Programmation/Projet/GRO400-MANUS/Hexapod-master/Hexapod_Qt/Qt_venv/lib/python3.9/site-packages (from tf-models-official>=2.5.1->object-detection==0.1) (2.40.0)\n",
      "Requirement already satisfied: tensorflow-addons in /Users/jackson/Desktop/Programmation/Projet/GRO400-MANUS/Hexapod-master/Hexapod_Qt/Qt_venv/lib/python3.9/site-packages (from tf-models-official>=2.5.1->object-detection==0.1) (0.16.1)\n",
      "Requirement already satisfied: tensorflow-hub>=0.6.0 in /Users/jackson/Desktop/Programmation/Projet/GRO400-MANUS/Hexapod-master/Hexapod_Qt/Qt_venv/lib/python3.9/site-packages (from tf-models-official>=2.5.1->object-detection==0.1) (0.12.0)\n",
      "Requirement already satisfied: tensorflow-model-optimization>=0.4.1 in /Users/jackson/Desktop/Programmation/Projet/GRO400-MANUS/Hexapod-master/Hexapod_Qt/Qt_venv/lib/python3.9/site-packages (from tf-models-official>=2.5.1->object-detection==0.1) (0.7.1)\n",
      "Requirement already satisfied: python-dateutil>=2.8.1 in /Users/jackson/Desktop/Programmation/Projet/GRO400-MANUS/Hexapod-master/Hexapod_Qt/Qt_venv/lib/python3.9/site-packages (from pandas->object-detection==0.1) (2.8.2)\n",
      "Requirement already satisfied: pytz>=2020.1 in /Users/jackson/Desktop/Programmation/Projet/GRO400-MANUS/Hexapod-master/Hexapod_Qt/Qt_venv/lib/python3.9/site-packages (from pandas->object-detection==0.1) (2021.3)\n",
      "Requirement already satisfied: absl-py>=0.2.2 in /Users/jackson/Desktop/Programmation/Projet/GRO400-MANUS/Hexapod-master/Hexapod_Qt/Qt_venv/lib/python3.9/site-packages (from tf-slim->object-detection==0.1) (1.0.0)\n"
     ]
    },
    {
     "name": "stdout",
     "output_type": "stream",
     "text": [
      "Requirement already satisfied: dill<0.3.2,>=0.3.1.1 in /Users/jackson/Desktop/Programmation/Projet/GRO400-MANUS/Hexapod-master/Hexapod_Qt/Qt_venv/lib/python3.9/site-packages (from apache-beam->object-detection==0.1) (0.3.1.1)\n",
      "Requirement already satisfied: pyarrow<7.0.0,>=0.15.1 in /Users/jackson/Desktop/Programmation/Projet/GRO400-MANUS/Hexapod-master/Hexapod_Qt/Qt_venv/lib/python3.9/site-packages (from apache-beam->object-detection==0.1) (6.0.1)\n",
      "Requirement already satisfied: requests<3.0.0,>=2.24.0 in /Users/jackson/Desktop/Programmation/Projet/GRO400-MANUS/Hexapod-master/Hexapod_Qt/Qt_venv/lib/python3.9/site-packages (from apache-beam->object-detection==0.1) (2.27.1)\n",
      "Requirement already satisfied: grpcio<2,>=1.29.0 in /Users/jackson/Desktop/Programmation/Projet/GRO400-MANUS/Hexapod-master/Hexapod_Qt/Qt_venv/lib/python3.9/site-packages (from apache-beam->object-detection==0.1) (1.44.0)\n",
      "Requirement already satisfied: protobuf<4,>=3.12.2 in /Users/jackson/Desktop/Programmation/Projet/GRO400-MANUS/Hexapod-master/Hexapod_Qt/Qt_venv/lib/python3.9/site-packages (from apache-beam->object-detection==0.1) (3.19.4)\n",
      "Requirement already satisfied: cloudpickle<3,>=2.0.0 in /Users/jackson/Desktop/Programmation/Projet/GRO400-MANUS/Hexapod-master/Hexapod_Qt/Qt_venv/lib/python3.9/site-packages (from apache-beam->object-detection==0.1) (2.0.0)\n",
      "Requirement already satisfied: typing-extensions>=3.7.0 in /Users/jackson/Desktop/Programmation/Projet/GRO400-MANUS/Hexapod-master/Hexapod_Qt/Qt_venv/lib/python3.9/site-packages (from apache-beam->object-detection==0.1) (4.1.1)\n",
      "Requirement already satisfied: proto-plus<2,>=1.7.1 in /Users/jackson/Desktop/Programmation/Projet/GRO400-MANUS/Hexapod-master/Hexapod_Qt/Qt_venv/lib/python3.9/site-packages (from apache-beam->object-detection==0.1) (1.20.3)\n",
      "Requirement already satisfied: orjson<4.0 in /Users/jackson/Desktop/Programmation/Projet/GRO400-MANUS/Hexapod-master/Hexapod_Qt/Qt_venv/lib/python3.9/site-packages (from apache-beam->object-detection==0.1) (3.6.7)\n",
      "Requirement already satisfied: pymongo<4.0.0,>=3.8.0 in /Users/jackson/Desktop/Programmation/Projet/GRO400-MANUS/Hexapod-master/Hexapod_Qt/Qt_venv/lib/python3.9/site-packages (from apache-beam->object-detection==0.1) (3.12.3)\n",
      "Requirement already satisfied: hdfs<3.0.0,>=2.1.0 in /Users/jackson/Desktop/Programmation/Projet/GRO400-MANUS/Hexapod-master/Hexapod_Qt/Qt_venv/lib/python3.9/site-packages (from apache-beam->object-detection==0.1) (2.6.0)\n",
      "Requirement already satisfied: pydot<2,>=1.2.0 in /Users/jackson/Desktop/Programmation/Projet/GRO400-MANUS/Hexapod-master/Hexapod_Qt/Qt_venv/lib/python3.9/site-packages (from apache-beam->object-detection==0.1) (1.4.2)\n",
      "Requirement already satisfied: httplib2<0.20.0,>=0.8 in /Users/jackson/Desktop/Programmation/Projet/GRO400-MANUS/Hexapod-master/Hexapod_Qt/Qt_venv/lib/python3.9/site-packages (from apache-beam->object-detection==0.1) (0.19.1)\n",
      "Requirement already satisfied: crcmod<2.0,>=1.7 in /Users/jackson/Desktop/Programmation/Projet/GRO400-MANUS/Hexapod-master/Hexapod_Qt/Qt_venv/lib/python3.9/site-packages (from apache-beam->object-detection==0.1) (1.7)\n",
      "Requirement already satisfied: fastavro<2,>=0.23.6 in /Users/jackson/Desktop/Programmation/Projet/GRO400-MANUS/Hexapod-master/Hexapod_Qt/Qt_venv/lib/python3.9/site-packages (from apache-beam->object-detection==0.1) (1.4.10)\n",
      "Requirement already satisfied: kiwisolver>=1.1.0 in /Users/jackson/Desktop/Programmation/Projet/GRO400-MANUS/Hexapod-master/Hexapod_Qt/Qt_venv/lib/python3.9/site-packages (from lvis->object-detection==0.1) (1.3.2)\n",
      "Requirement already satisfied: pyparsing>=2.4.0 in /Users/jackson/Desktop/Programmation/Projet/GRO400-MANUS/Hexapod-master/Hexapod_Qt/Qt_venv/lib/python3.9/site-packages (from lvis->object-detection==0.1) (2.4.7)\n",
      "Requirement already satisfied: cycler>=0.10.0 in /Users/jackson/Desktop/Programmation/Projet/GRO400-MANUS/Hexapod-master/Hexapod_Qt/Qt_venv/lib/python3.9/site-packages (from lvis->object-detection==0.1) (0.11.0)\n",
      "Requirement already satisfied: opencv-python>=4.1.0.25 in /Users/jackson/Desktop/Programmation/Projet/GRO400-MANUS/Hexapod-master/Hexapod_Qt/Qt_venv/lib/python3.9/site-packages (from lvis->object-detection==0.1) (4.5.5.64)\n",
      "Requirement already satisfied: fonttools>=4.22.0 in /Users/jackson/Desktop/Programmation/Projet/GRO400-MANUS/Hexapod-master/Hexapod_Qt/Qt_venv/lib/python3.9/site-packages (from matplotlib->object-detection==0.1) (4.30.0)\n",
      "Requirement already satisfied: packaging>=20.0 in /Users/jackson/Desktop/Programmation/Projet/GRO400-MANUS/Hexapod-master/Hexapod_Qt/Qt_venv/lib/python3.9/site-packages (from matplotlib->object-detection==0.1) (21.3)\n",
      "Requirement already satisfied: tensorflow-io-gcs-filesystem==0.24.0 in /Users/jackson/Desktop/Programmation/Projet/GRO400-MANUS/Hexapod-master/Hexapod_Qt/Qt_venv/lib/python3.9/site-packages (from tensorflow_io->object-detection==0.1) (0.24.0)\n",
      "Requirement already satisfied: google-auth<3.0.0dev,>=1.16.0 in /Users/jackson/Desktop/Programmation/Projet/GRO400-MANUS/Hexapod-master/Hexapod_Qt/Qt_venv/lib/python3.9/site-packages (from google-api-python-client>=1.6.7->tf-models-official>=2.5.1->object-detection==0.1) (2.6.0)\n",
      "Requirement already satisfied: uritemplate<5,>=3.0.1 in /Users/jackson/Desktop/Programmation/Projet/GRO400-MANUS/Hexapod-master/Hexapod_Qt/Qt_venv/lib/python3.9/site-packages (from google-api-python-client>=1.6.7->tf-models-official>=2.5.1->object-detection==0.1) (4.1.1)\n",
      "Requirement already satisfied: google-auth-httplib2>=0.1.0 in /Users/jackson/Desktop/Programmation/Projet/GRO400-MANUS/Hexapod-master/Hexapod_Qt/Qt_venv/lib/python3.9/site-packages (from google-api-python-client>=1.6.7->tf-models-official>=2.5.1->object-detection==0.1) (0.1.0)\n",
      "Requirement already satisfied: google-api-core!=2.0.*,!=2.1.*,!=2.2.*,!=2.3.0,<3.0.0dev,>=1.31.5 in /Users/jackson/Desktop/Programmation/Projet/GRO400-MANUS/Hexapod-master/Hexapod_Qt/Qt_venv/lib/python3.9/site-packages (from google-api-python-client>=1.6.7->tf-models-official>=2.5.1->object-detection==0.1) (2.7.1)\n",
      "Requirement already satisfied: docopt in /Users/jackson/Desktop/Programmation/Projet/GRO400-MANUS/Hexapod-master/Hexapod_Qt/Qt_venv/lib/python3.9/site-packages (from hdfs<3.0.0,>=2.1.0->apache-beam->object-detection==0.1) (0.6.2)\n",
      "Requirement already satisfied: certifi in /Users/jackson/Desktop/Programmation/Projet/GRO400-MANUS/Hexapod-master/Hexapod_Qt/Qt_venv/lib/python3.9/site-packages (from kaggle>=1.3.9->tf-models-official>=2.5.1->object-detection==0.1) (2021.10.8)\n",
      "Requirement already satisfied: tqdm in /Users/jackson/Desktop/Programmation/Projet/GRO400-MANUS/Hexapod-master/Hexapod_Qt/Qt_venv/lib/python3.9/site-packages (from kaggle>=1.3.9->tf-models-official>=2.5.1->object-detection==0.1) (4.63.0)\n",
      "Requirement already satisfied: python-slugify in /Users/jackson/Desktop/Programmation/Projet/GRO400-MANUS/Hexapod-master/Hexapod_Qt/Qt_venv/lib/python3.9/site-packages (from kaggle>=1.3.9->tf-models-official>=2.5.1->object-detection==0.1) (6.1.1)\n",
      "Requirement already satisfied: urllib3 in /Users/jackson/Desktop/Programmation/Projet/GRO400-MANUS/Hexapod-master/Hexapod_Qt/Qt_venv/lib/python3.9/site-packages (from kaggle>=1.3.9->tf-models-official>=2.5.1->object-detection==0.1) (1.26.8)\n",
      "Requirement already satisfied: pyasn1>=0.1.7 in /Users/jackson/Desktop/Programmation/Projet/GRO400-MANUS/Hexapod-master/Hexapod_Qt/Qt_venv/lib/python3.9/site-packages (from oauth2client->tf-models-official>=2.5.1->object-detection==0.1) (0.4.8)\n",
      "Requirement already satisfied: pyasn1-modules>=0.0.5 in /Users/jackson/Desktop/Programmation/Projet/GRO400-MANUS/Hexapod-master/Hexapod_Qt/Qt_venv/lib/python3.9/site-packages (from oauth2client->tf-models-official>=2.5.1->object-detection==0.1) (0.2.8)\n",
      "Requirement already satisfied: rsa>=3.1.4 in /Users/jackson/Desktop/Programmation/Projet/GRO400-MANUS/Hexapod-master/Hexapod_Qt/Qt_venv/lib/python3.9/site-packages (from oauth2client->tf-models-official>=2.5.1->object-detection==0.1) (4.8)\n",
      "Requirement already satisfied: charset-normalizer~=2.0.0 in /Users/jackson/Desktop/Programmation/Projet/GRO400-MANUS/Hexapod-master/Hexapod_Qt/Qt_venv/lib/python3.9/site-packages (from requests<3.0.0,>=2.24.0->apache-beam->object-detection==0.1) (2.0.12)\n"
     ]
    },
    {
     "name": "stdout",
     "output_type": "stream",
     "text": [
      "Requirement already satisfied: idna<4,>=2.5 in /Users/jackson/Desktop/Programmation/Projet/GRO400-MANUS/Hexapod-master/Hexapod_Qt/Qt_venv/lib/python3.9/site-packages (from requests<3.0.0,>=2.24.0->apache-beam->object-detection==0.1) (3.3)\n",
      "Requirement already satisfied: tf-estimator-nightly==2.8.0.dev2021122109 in /Users/jackson/Desktop/Programmation/Projet/GRO400-MANUS/Hexapod-master/Hexapod_Qt/Qt_venv/lib/python3.9/site-packages (from tensorflow~=2.8.0->tf-models-official>=2.5.1->object-detection==0.1) (2.8.0.dev2021122109)\n",
      "Requirement already satisfied: libclang>=9.0.1 in /Users/jackson/Desktop/Programmation/Projet/GRO400-MANUS/Hexapod-master/Hexapod_Qt/Qt_venv/lib/python3.9/site-packages (from tensorflow~=2.8.0->tf-models-official>=2.5.1->object-detection==0.1) (13.0.0)\n",
      "Requirement already satisfied: tensorboard<2.9,>=2.8 in /Users/jackson/Desktop/Programmation/Projet/GRO400-MANUS/Hexapod-master/Hexapod_Qt/Qt_venv/lib/python3.9/site-packages (from tensorflow~=2.8.0->tf-models-official>=2.5.1->object-detection==0.1) (2.8.0)\n",
      "Requirement already satisfied: astunparse>=1.6.0 in /Users/jackson/Desktop/Programmation/Projet/GRO400-MANUS/Hexapod-master/Hexapod_Qt/Qt_venv/lib/python3.9/site-packages (from tensorflow~=2.8.0->tf-models-official>=2.5.1->object-detection==0.1) (1.6.3)\n",
      "Requirement already satisfied: opt-einsum>=2.3.2 in /Users/jackson/Desktop/Programmation/Projet/GRO400-MANUS/Hexapod-master/Hexapod_Qt/Qt_venv/lib/python3.9/site-packages (from tensorflow~=2.8.0->tf-models-official>=2.5.1->object-detection==0.1) (3.3.0)\n",
      "Requirement already satisfied: keras-preprocessing>=1.1.1 in /Users/jackson/Desktop/Programmation/Projet/GRO400-MANUS/Hexapod-master/Hexapod_Qt/Qt_venv/lib/python3.9/site-packages (from tensorflow~=2.8.0->tf-models-official>=2.5.1->object-detection==0.1) (1.1.2)\n",
      "Requirement already satisfied: termcolor>=1.1.0 in /Users/jackson/Desktop/Programmation/Projet/GRO400-MANUS/Hexapod-master/Hexapod_Qt/Qt_venv/lib/python3.9/site-packages (from tensorflow~=2.8.0->tf-models-official>=2.5.1->object-detection==0.1) (1.1.0)\n",
      "Requirement already satisfied: flatbuffers>=1.12 in /Users/jackson/Desktop/Programmation/Projet/GRO400-MANUS/Hexapod-master/Hexapod_Qt/Qt_venv/lib/python3.9/site-packages (from tensorflow~=2.8.0->tf-models-official>=2.5.1->object-detection==0.1) (2.0)\n",
      "Requirement already satisfied: gast>=0.2.1 in /Users/jackson/Desktop/Programmation/Projet/GRO400-MANUS/Hexapod-master/Hexapod_Qt/Qt_venv/lib/python3.9/site-packages (from tensorflow~=2.8.0->tf-models-official>=2.5.1->object-detection==0.1) (0.5.3)\n",
      "Requirement already satisfied: h5py>=2.9.0 in /Users/jackson/Desktop/Programmation/Projet/GRO400-MANUS/Hexapod-master/Hexapod_Qt/Qt_venv/lib/python3.9/site-packages (from tensorflow~=2.8.0->tf-models-official>=2.5.1->object-detection==0.1) (3.6.0)\n",
      "Requirement already satisfied: google-pasta>=0.1.1 in /Users/jackson/Desktop/Programmation/Projet/GRO400-MANUS/Hexapod-master/Hexapod_Qt/Qt_venv/lib/python3.9/site-packages (from tensorflow~=2.8.0->tf-models-official>=2.5.1->object-detection==0.1) (0.2.0)\n",
      "Requirement already satisfied: wrapt>=1.11.0 in /Users/jackson/Desktop/Programmation/Projet/GRO400-MANUS/Hexapod-master/Hexapod_Qt/Qt_venv/lib/python3.9/site-packages (from tensorflow~=2.8.0->tf-models-official>=2.5.1->object-detection==0.1) (1.14.0)\n",
      "Requirement already satisfied: setuptools in /Users/jackson/Desktop/Programmation/Projet/GRO400-MANUS/Hexapod-master/Hexapod_Qt/Qt_venv/lib/python3.9/site-packages (from tensorflow~=2.8.0->tf-models-official>=2.5.1->object-detection==0.1) (57.4.0)\n",
      "Requirement already satisfied: dm-tree~=0.1.1 in /Users/jackson/Desktop/Programmation/Projet/GRO400-MANUS/Hexapod-master/Hexapod_Qt/Qt_venv/lib/python3.9/site-packages (from tensorflow-model-optimization>=0.4.1->tf-models-official>=2.5.1->object-detection==0.1) (0.1.6)\n",
      "Requirement already satisfied: colorama in /Users/jackson/Desktop/Programmation/Projet/GRO400-MANUS/Hexapod-master/Hexapod_Qt/Qt_venv/lib/python3.9/site-packages (from sacrebleu->tf-models-official>=2.5.1->object-detection==0.1) (0.4.4)\n",
      "Requirement already satisfied: portalocker in /Users/jackson/Desktop/Programmation/Projet/GRO400-MANUS/Hexapod-master/Hexapod_Qt/Qt_venv/lib/python3.9/site-packages (from sacrebleu->tf-models-official>=2.5.1->object-detection==0.1) (2.4.0)\n",
      "Requirement already satisfied: tabulate>=0.8.9 in /Users/jackson/Desktop/Programmation/Projet/GRO400-MANUS/Hexapod-master/Hexapod_Qt/Qt_venv/lib/python3.9/site-packages (from sacrebleu->tf-models-official>=2.5.1->object-detection==0.1) (0.8.9)\n",
      "Requirement already satisfied: regex in /Users/jackson/Desktop/Programmation/Projet/GRO400-MANUS/Hexapod-master/Hexapod_Qt/Qt_venv/lib/python3.9/site-packages (from sacrebleu->tf-models-official>=2.5.1->object-detection==0.1) (2022.3.2)\n",
      "Requirement already satisfied: scikit-learn>=0.21.3 in /Users/jackson/Desktop/Programmation/Projet/GRO400-MANUS/Hexapod-master/Hexapod_Qt/Qt_venv/lib/python3.9/site-packages (from seqeval->tf-models-official>=2.5.1->object-detection==0.1) (1.0.2)\n",
      "Requirement already satisfied: typeguard>=2.7 in /Users/jackson/Desktop/Programmation/Projet/GRO400-MANUS/Hexapod-master/Hexapod_Qt/Qt_venv/lib/python3.9/site-packages (from tensorflow-addons->tf-models-official>=2.5.1->object-detection==0.1) (2.13.3)\n",
      "Requirement already satisfied: tensorflow-metadata in /Users/jackson/Desktop/Programmation/Projet/GRO400-MANUS/Hexapod-master/Hexapod_Qt/Qt_venv/lib/python3.9/site-packages (from tensorflow-datasets->tf-models-official>=2.5.1->object-detection==0.1) (1.7.0)\n",
      "Requirement already satisfied: promise in /Users/jackson/Desktop/Programmation/Projet/GRO400-MANUS/Hexapod-master/Hexapod_Qt/Qt_venv/lib/python3.9/site-packages (from tensorflow-datasets->tf-models-official>=2.5.1->object-detection==0.1) (2.3)\n",
      "Requirement already satisfied: wheel<1.0,>=0.23.0 in /Users/jackson/Desktop/Programmation/Projet/GRO400-MANUS/Hexapod-master/Hexapod_Qt/Qt_venv/lib/python3.9/site-packages (from astunparse>=1.6.0->tensorflow~=2.8.0->tf-models-official>=2.5.1->object-detection==0.1) (0.37.1)\n",
      "Requirement already satisfied: googleapis-common-protos<2.0dev,>=1.52.0 in /Users/jackson/Desktop/Programmation/Projet/GRO400-MANUS/Hexapod-master/Hexapod_Qt/Qt_venv/lib/python3.9/site-packages (from google-api-core!=2.0.*,!=2.1.*,!=2.2.*,!=2.3.0,<3.0.0dev,>=1.31.5->google-api-python-client>=1.6.7->tf-models-official>=2.5.1->object-detection==0.1) (1.55.0)\n",
      "Requirement already satisfied: cachetools<6.0,>=2.0.0 in /Users/jackson/Desktop/Programmation/Projet/GRO400-MANUS/Hexapod-master/Hexapod_Qt/Qt_venv/lib/python3.9/site-packages (from google-auth<3.0.0dev,>=1.16.0->google-api-python-client>=1.6.7->tf-models-official>=2.5.1->object-detection==0.1) (5.0.0)\n",
      "Requirement already satisfied: joblib>=0.11 in /Users/jackson/Desktop/Programmation/Projet/GRO400-MANUS/Hexapod-master/Hexapod_Qt/Qt_venv/lib/python3.9/site-packages (from scikit-learn>=0.21.3->seqeval->tf-models-official>=2.5.1->object-detection==0.1) (1.1.0)\n",
      "Requirement already satisfied: threadpoolctl>=2.0.0 in /Users/jackson/Desktop/Programmation/Projet/GRO400-MANUS/Hexapod-master/Hexapod_Qt/Qt_venv/lib/python3.9/site-packages (from scikit-learn>=0.21.3->seqeval->tf-models-official>=2.5.1->object-detection==0.1) (3.1.0)\n",
      "Requirement already satisfied: markdown>=2.6.8 in /Users/jackson/Desktop/Programmation/Projet/GRO400-MANUS/Hexapod-master/Hexapod_Qt/Qt_venv/lib/python3.9/site-packages (from tensorboard<2.9,>=2.8->tensorflow~=2.8.0->tf-models-official>=2.5.1->object-detection==0.1) (3.3.6)\n",
      "Requirement already satisfied: google-auth-oauthlib<0.5,>=0.4.1 in /Users/jackson/Desktop/Programmation/Projet/GRO400-MANUS/Hexapod-master/Hexapod_Qt/Qt_venv/lib/python3.9/site-packages (from tensorboard<2.9,>=2.8->tensorflow~=2.8.0->tf-models-official>=2.5.1->object-detection==0.1) (0.4.6)\n",
      "Requirement already satisfied: tensorboard-plugin-wit>=1.6.0 in /Users/jackson/Desktop/Programmation/Projet/GRO400-MANUS/Hexapod-master/Hexapod_Qt/Qt_venv/lib/python3.9/site-packages (from tensorboard<2.9,>=2.8->tensorflow~=2.8.0->tf-models-official>=2.5.1->object-detection==0.1) (1.8.1)\n",
      "Requirement already satisfied: werkzeug>=0.11.15 in /Users/jackson/Desktop/Programmation/Projet/GRO400-MANUS/Hexapod-master/Hexapod_Qt/Qt_venv/lib/python3.9/site-packages (from tensorboard<2.9,>=2.8->tensorflow~=2.8.0->tf-models-official>=2.5.1->object-detection==0.1) (2.0.3)\n",
      "Requirement already satisfied: tensorboard-data-server<0.7.0,>=0.6.0 in /Users/jackson/Desktop/Programmation/Projet/GRO400-MANUS/Hexapod-master/Hexapod_Qt/Qt_venv/lib/python3.9/site-packages (from tensorboard<2.9,>=2.8->tensorflow~=2.8.0->tf-models-official>=2.5.1->object-detection==0.1) (0.6.1)\n"
     ]
    },
    {
     "name": "stdout",
     "output_type": "stream",
     "text": [
      "Requirement already satisfied: text-unidecode>=1.3 in /Users/jackson/Desktop/Programmation/Projet/GRO400-MANUS/Hexapod-master/Hexapod_Qt/Qt_venv/lib/python3.9/site-packages (from python-slugify->kaggle>=1.3.9->tf-models-official>=2.5.1->object-detection==0.1) (1.3)\n",
      "Requirement already satisfied: requests-oauthlib>=0.7.0 in /Users/jackson/Desktop/Programmation/Projet/GRO400-MANUS/Hexapod-master/Hexapod_Qt/Qt_venv/lib/python3.9/site-packages (from google-auth-oauthlib<0.5,>=0.4.1->tensorboard<2.9,>=2.8->tensorflow~=2.8.0->tf-models-official>=2.5.1->object-detection==0.1) (1.3.1)\n",
      "Requirement already satisfied: importlib-metadata>=4.4 in /Users/jackson/Desktop/Programmation/Projet/GRO400-MANUS/Hexapod-master/Hexapod_Qt/Qt_venv/lib/python3.9/site-packages (from markdown>=2.6.8->tensorboard<2.9,>=2.8->tensorflow~=2.8.0->tf-models-official>=2.5.1->object-detection==0.1) (4.11.2)\n",
      "Requirement already satisfied: zipp>=0.5 in /Users/jackson/Desktop/Programmation/Projet/GRO400-MANUS/Hexapod-master/Hexapod_Qt/Qt_venv/lib/python3.9/site-packages (from importlib-metadata>=4.4->markdown>=2.6.8->tensorboard<2.9,>=2.8->tensorflow~=2.8.0->tf-models-official>=2.5.1->object-detection==0.1) (3.7.0)\n",
      "Requirement already satisfied: oauthlib>=3.0.0 in /Users/jackson/Desktop/Programmation/Projet/GRO400-MANUS/Hexapod-master/Hexapod_Qt/Qt_venv/lib/python3.9/site-packages (from requests-oauthlib>=0.7.0->google-auth-oauthlib<0.5,>=0.4.1->tensorboard<2.9,>=2.8->tensorflow~=2.8.0->tf-models-official>=2.5.1->object-detection==0.1) (3.2.0)\n",
      "Building wheels for collected packages: object-detection\n",
      "  Building wheel for object-detection (setup.py) ... \u001b[?25ldone\n",
      "\u001b[?25h  Created wheel for object-detection: filename=object_detection-0.1-py3-none-any.whl size=1653465 sha256=f4ab875c5b4c26ae7457dc10e12bef80f692a3bde3f913389a46e6a1345821c2\n",
      "  Stored in directory: /private/var/folders/4b/7l3pjxcd7_l5rg2k2lkbwk_80000gn/T/pip-ephem-wheel-cache-s8ivspd_/wheels/54/aa/2e/2cef946a064690e2440c2b94bb83a75f0eff2457a3a6183c75\n",
      "Successfully built object-detection\n",
      "Installing collected packages: object-detection\n",
      "  Attempting uninstall: object-detection\n",
      "    Found existing installation: object-detection 0.1\n",
      "    Uninstalling object-detection-0.1:\n",
      "      Successfully uninstalled object-detection-0.1\n",
      "Successfully installed object-detection-0.1\n"
     ]
    }
   ],
   "source": [
    "# Install Tensorflow Object Detection \n",
    "if os.name=='posix':  \n",
    "    !apt-get install protobuf-compiler\n",
    "    !cd Tensorflow/models/research && protoc object_detection/protos/*.proto --python_out=. && cp object_detection/packages/tf2/setup.py . && python -m pip install . \n",
    "    \n",
    "if os.name=='nt':\n",
    "    url=\"https://github.com/protocolbuffers/protobuf/releases/download/v3.15.6/protoc-3.15.6-win64.zip\"\n",
    "    wget.download(url)\n",
    "    !move protoc-3.15.6-win64.zip {paths['PROTOC_PATH']}\n",
    "    !cd {paths['PROTOC_PATH']} && tar -xf protoc-3.15.6-win64.zip\n",
    "    os.environ['PATH'] += os.pathsep + os.path.abspath(os.path.join(paths['PROTOC_PATH'], 'bin'))   \n",
    "    !cd Tensorflow/models/research && protoc object_detection/protos/*.proto --python_out=. && copy object_detection\\\\packages\\\\tf2\\\\setup.py setup.py && python setup.py build && python setup.py install\n",
    "    !cd Tensorflow/models/research/slim && pip install -e . "
   ]
  },
  {
   "cell_type": "code",
   "execution_count": 43,
   "metadata": {
    "scrolled": true
   },
   "outputs": [
    {
     "name": "stdout",
     "output_type": "stream",
     "text": [
      "Running tests under Python 3.9.7: /Users/jackson/Desktop/Programmation/Projet/GRO400-MANUS/Hexapod-master/Hexapod_Qt/Qt_venv/bin/python\n",
      "[ RUN      ] ModelBuilderTF2Test.test_create_center_net_deepmac\n",
      "2022-03-13 14:32:38.085354: I tensorflow/core/platform/cpu_feature_guard.cc:151] This TensorFlow binary is optimized with oneAPI Deep Neural Network Library (oneDNN) to use the following CPU instructions in performance-critical operations:  AVX2 FMA\n",
      "To enable them in other operations, rebuild TensorFlow with the appropriate compiler flags.\n",
      "/Users/jackson/Desktop/Programmation/Projet/GRO400-MANUS/Hexapod-master/Hexapod_Qt/Qt_venv/lib/python3.9/site-packages/object_detection/builders/model_builder.py:1100: DeprecationWarning: The 'warn' function is deprecated, use 'warning' instead\n",
      "  logging.warn(('Building experimental DeepMAC meta-arch.'\n",
      "W0313 14:32:38.617253 4634199552 model_builder.py:1100] Building experimental DeepMAC meta-arch. Some features may be omitted.\n",
      "INFO:tensorflow:time(__main__.ModelBuilderTF2Test.test_create_center_net_deepmac): 0.98s\n",
      "I0313 14:32:39.039134 4634199552 test_util.py:2373] time(__main__.ModelBuilderTF2Test.test_create_center_net_deepmac): 0.98s\n",
      "[       OK ] ModelBuilderTF2Test.test_create_center_net_deepmac\n",
      "[ RUN      ] ModelBuilderTF2Test.test_create_center_net_model0 (customize_head_params=True)\n",
      "INFO:tensorflow:time(__main__.ModelBuilderTF2Test.test_create_center_net_model0 (customize_head_params=True)): 1.02s\n",
      "I0313 14:32:40.061349 4634199552 test_util.py:2373] time(__main__.ModelBuilderTF2Test.test_create_center_net_model0 (customize_head_params=True)): 1.02s\n",
      "[       OK ] ModelBuilderTF2Test.test_create_center_net_model0 (customize_head_params=True)\n",
      "[ RUN      ] ModelBuilderTF2Test.test_create_center_net_model1 (customize_head_params=False)\n",
      "INFO:tensorflow:time(__main__.ModelBuilderTF2Test.test_create_center_net_model1 (customize_head_params=False)): 0.4s\n",
      "I0313 14:32:40.465035 4634199552 test_util.py:2373] time(__main__.ModelBuilderTF2Test.test_create_center_net_model1 (customize_head_params=False)): 0.4s\n",
      "[       OK ] ModelBuilderTF2Test.test_create_center_net_model1 (customize_head_params=False)\n",
      "[ RUN      ] ModelBuilderTF2Test.test_create_center_net_model_from_keypoints\n",
      "INFO:tensorflow:time(__main__.ModelBuilderTF2Test.test_create_center_net_model_from_keypoints): 0.5s\n",
      "I0313 14:32:40.967548 4634199552 test_util.py:2373] time(__main__.ModelBuilderTF2Test.test_create_center_net_model_from_keypoints): 0.5s\n",
      "[       OK ] ModelBuilderTF2Test.test_create_center_net_model_from_keypoints\n",
      "[ RUN      ] ModelBuilderTF2Test.test_create_center_net_model_mobilenet\n",
      "INFO:tensorflow:time(__main__.ModelBuilderTF2Test.test_create_center_net_model_mobilenet): 2.92s\n",
      "I0313 14:32:43.890923 4634199552 test_util.py:2373] time(__main__.ModelBuilderTF2Test.test_create_center_net_model_mobilenet): 2.92s\n",
      "[       OK ] ModelBuilderTF2Test.test_create_center_net_model_mobilenet\n",
      "[ RUN      ] ModelBuilderTF2Test.test_create_experimental_model\n",
      "INFO:tensorflow:time(__main__.ModelBuilderTF2Test.test_create_experimental_model): 0.0s\n",
      "I0313 14:32:43.891989 4634199552 test_util.py:2373] time(__main__.ModelBuilderTF2Test.test_create_experimental_model): 0.0s\n",
      "[       OK ] ModelBuilderTF2Test.test_create_experimental_model\n",
      "[ RUN      ] ModelBuilderTF2Test.test_create_faster_rcnn_from_config_with_crop_feature0 (True)\n",
      "INFO:tensorflow:time(__main__.ModelBuilderTF2Test.test_create_faster_rcnn_from_config_with_crop_feature0 (True)): 0.03s\n",
      "I0313 14:32:43.924747 4634199552 test_util.py:2373] time(__main__.ModelBuilderTF2Test.test_create_faster_rcnn_from_config_with_crop_feature0 (True)): 0.03s\n",
      "[       OK ] ModelBuilderTF2Test.test_create_faster_rcnn_from_config_with_crop_feature0 (True)\n",
      "[ RUN      ] ModelBuilderTF2Test.test_create_faster_rcnn_from_config_with_crop_feature1 (False)\n",
      "INFO:tensorflow:time(__main__.ModelBuilderTF2Test.test_create_faster_rcnn_from_config_with_crop_feature1 (False)): 0.03s\n",
      "I0313 14:32:43.951723 4634199552 test_util.py:2373] time(__main__.ModelBuilderTF2Test.test_create_faster_rcnn_from_config_with_crop_feature1 (False)): 0.03s\n",
      "[       OK ] ModelBuilderTF2Test.test_create_faster_rcnn_from_config_with_crop_feature1 (False)\n",
      "[ RUN      ] ModelBuilderTF2Test.test_create_faster_rcnn_model_from_config_with_example_miner\n",
      "INFO:tensorflow:time(__main__.ModelBuilderTF2Test.test_create_faster_rcnn_model_from_config_with_example_miner): 0.02s\n",
      "I0313 14:32:43.973620 4634199552 test_util.py:2373] time(__main__.ModelBuilderTF2Test.test_create_faster_rcnn_model_from_config_with_example_miner): 0.02s\n",
      "[       OK ] ModelBuilderTF2Test.test_create_faster_rcnn_model_from_config_with_example_miner\n",
      "[ RUN      ] ModelBuilderTF2Test.test_create_faster_rcnn_models_from_config_faster_rcnn_with_matmul\n",
      "INFO:tensorflow:time(__main__.ModelBuilderTF2Test.test_create_faster_rcnn_models_from_config_faster_rcnn_with_matmul): 0.15s\n",
      "I0313 14:32:44.128886 4634199552 test_util.py:2373] time(__main__.ModelBuilderTF2Test.test_create_faster_rcnn_models_from_config_faster_rcnn_with_matmul): 0.15s\n",
      "[       OK ] ModelBuilderTF2Test.test_create_faster_rcnn_models_from_config_faster_rcnn_with_matmul\n",
      "[ RUN      ] ModelBuilderTF2Test.test_create_faster_rcnn_models_from_config_faster_rcnn_without_matmul\n",
      "INFO:tensorflow:time(__main__.ModelBuilderTF2Test.test_create_faster_rcnn_models_from_config_faster_rcnn_without_matmul): 0.14s\n",
      "I0313 14:32:44.272180 4634199552 test_util.py:2373] time(__main__.ModelBuilderTF2Test.test_create_faster_rcnn_models_from_config_faster_rcnn_without_matmul): 0.14s\n",
      "[       OK ] ModelBuilderTF2Test.test_create_faster_rcnn_models_from_config_faster_rcnn_without_matmul\n",
      "[ RUN      ] ModelBuilderTF2Test.test_create_faster_rcnn_models_from_config_mask_rcnn_with_matmul\n",
      "INFO:tensorflow:time(__main__.ModelBuilderTF2Test.test_create_faster_rcnn_models_from_config_mask_rcnn_with_matmul): 0.13s\n",
      "I0313 14:32:44.405671 4634199552 test_util.py:2373] time(__main__.ModelBuilderTF2Test.test_create_faster_rcnn_models_from_config_mask_rcnn_with_matmul): 0.13s\n",
      "[       OK ] ModelBuilderTF2Test.test_create_faster_rcnn_models_from_config_mask_rcnn_with_matmul\n",
      "[ RUN      ] ModelBuilderTF2Test.test_create_faster_rcnn_models_from_config_mask_rcnn_without_matmul\n",
      "INFO:tensorflow:time(__main__.ModelBuilderTF2Test.test_create_faster_rcnn_models_from_config_mask_rcnn_without_matmul): 0.13s\n",
      "I0313 14:32:44.535974 4634199552 test_util.py:2373] time(__main__.ModelBuilderTF2Test.test_create_faster_rcnn_models_from_config_mask_rcnn_without_matmul): 0.13s\n",
      "[       OK ] ModelBuilderTF2Test.test_create_faster_rcnn_models_from_config_mask_rcnn_without_matmul\n",
      "[ RUN      ] ModelBuilderTF2Test.test_create_rfcn_model_from_config\n",
      "INFO:tensorflow:time(__main__.ModelBuilderTF2Test.test_create_rfcn_model_from_config): 0.18s\n",
      "I0313 14:32:44.712492 4634199552 test_util.py:2373] time(__main__.ModelBuilderTF2Test.test_create_rfcn_model_from_config): 0.18s\n",
      "[       OK ] ModelBuilderTF2Test.test_create_rfcn_model_from_config\n",
      "[ RUN      ] ModelBuilderTF2Test.test_create_ssd_fpn_model_from_config\n",
      "INFO:tensorflow:time(__main__.ModelBuilderTF2Test.test_create_ssd_fpn_model_from_config): 0.07s\n",
      "I0313 14:32:44.782248 4634199552 test_util.py:2373] time(__main__.ModelBuilderTF2Test.test_create_ssd_fpn_model_from_config): 0.07s\n",
      "[       OK ] ModelBuilderTF2Test.test_create_ssd_fpn_model_from_config\n",
      "[ RUN      ] ModelBuilderTF2Test.test_create_ssd_models_from_config\n",
      "I0313 14:32:45.160300 4634199552 ssd_efficientnet_bifpn_feature_extractor.py:145] EfficientDet EfficientNet backbone version: efficientnet-b0\n",
      "I0313 14:32:45.160937 4634199552 ssd_efficientnet_bifpn_feature_extractor.py:147] EfficientDet BiFPN num filters: 64\n",
      "I0313 14:32:45.161195 4634199552 ssd_efficientnet_bifpn_feature_extractor.py:148] EfficientDet BiFPN num iterations: 3\n",
      "I0313 14:32:45.165421 4634199552 efficientnet_model.py:144] round_filter input=32 output=32\n",
      "I0313 14:32:45.199621 4634199552 efficientnet_model.py:144] round_filter input=32 output=32\n",
      "I0313 14:32:45.199813 4634199552 efficientnet_model.py:144] round_filter input=16 output=16\n",
      "I0313 14:32:45.348036 4634199552 efficientnet_model.py:144] round_filter input=16 output=16\n",
      "I0313 14:32:45.348298 4634199552 efficientnet_model.py:144] round_filter input=24 output=24\n"
     ]
    },
    {
     "name": "stdout",
     "output_type": "stream",
     "text": [
      "I0313 14:32:45.655370 4634199552 efficientnet_model.py:144] round_filter input=24 output=24\n",
      "I0313 14:32:45.655738 4634199552 efficientnet_model.py:144] round_filter input=40 output=40\n",
      "I0313 14:32:45.968400 4634199552 efficientnet_model.py:144] round_filter input=40 output=40\n",
      "I0313 14:32:45.968581 4634199552 efficientnet_model.py:144] round_filter input=80 output=80\n",
      "I0313 14:32:46.378443 4634199552 efficientnet_model.py:144] round_filter input=80 output=80\n",
      "I0313 14:32:46.378629 4634199552 efficientnet_model.py:144] round_filter input=112 output=112\n",
      "I0313 14:32:46.976538 4634199552 efficientnet_model.py:144] round_filter input=112 output=112\n",
      "I0313 14:32:46.976837 4634199552 efficientnet_model.py:144] round_filter input=192 output=192\n",
      "I0313 14:32:47.596706 4634199552 efficientnet_model.py:144] round_filter input=192 output=192\n",
      "I0313 14:32:47.596892 4634199552 efficientnet_model.py:144] round_filter input=320 output=320\n",
      "I0313 14:32:47.728178 4634199552 efficientnet_model.py:144] round_filter input=1280 output=1280\n",
      "I0313 14:32:47.804084 4634199552 efficientnet_model.py:454] Building model efficientnet with params ModelConfig(width_coefficient=1.0, depth_coefficient=1.0, resolution=224, dropout_rate=0.2, blocks=(BlockConfig(input_filters=32, output_filters=16, kernel_size=3, num_repeat=1, expand_ratio=1, strides=(1, 1), se_ratio=0.25, id_skip=True, fused_conv=False, conv_type='depthwise'), BlockConfig(input_filters=16, output_filters=24, kernel_size=3, num_repeat=2, expand_ratio=6, strides=(2, 2), se_ratio=0.25, id_skip=True, fused_conv=False, conv_type='depthwise'), BlockConfig(input_filters=24, output_filters=40, kernel_size=5, num_repeat=2, expand_ratio=6, strides=(2, 2), se_ratio=0.25, id_skip=True, fused_conv=False, conv_type='depthwise'), BlockConfig(input_filters=40, output_filters=80, kernel_size=3, num_repeat=3, expand_ratio=6, strides=(2, 2), se_ratio=0.25, id_skip=True, fused_conv=False, conv_type='depthwise'), BlockConfig(input_filters=80, output_filters=112, kernel_size=5, num_repeat=3, expand_ratio=6, strides=(1, 1), se_ratio=0.25, id_skip=True, fused_conv=False, conv_type='depthwise'), BlockConfig(input_filters=112, output_filters=192, kernel_size=5, num_repeat=4, expand_ratio=6, strides=(2, 2), se_ratio=0.25, id_skip=True, fused_conv=False, conv_type='depthwise'), BlockConfig(input_filters=192, output_filters=320, kernel_size=3, num_repeat=1, expand_ratio=6, strides=(1, 1), se_ratio=0.25, id_skip=True, fused_conv=False, conv_type='depthwise')), stem_base_filters=32, top_base_filters=1280, activation='simple_swish', batch_norm='default', bn_momentum=0.99, bn_epsilon=0.001, weight_decay=5e-06, drop_connect_rate=0.2, depth_divisor=8, min_depth=None, use_se=True, input_channels=3, num_classes=1000, model_name='efficientnet', rescale_input=False, data_format='channels_last', dtype='float32')\n",
      "I0313 14:32:47.897681 4634199552 ssd_efficientnet_bifpn_feature_extractor.py:145] EfficientDet EfficientNet backbone version: efficientnet-b1\n",
      "I0313 14:32:47.897999 4634199552 ssd_efficientnet_bifpn_feature_extractor.py:147] EfficientDet BiFPN num filters: 88\n",
      "I0313 14:32:47.898155 4634199552 ssd_efficientnet_bifpn_feature_extractor.py:148] EfficientDet BiFPN num iterations: 4\n",
      "I0313 14:32:47.900303 4634199552 efficientnet_model.py:144] round_filter input=32 output=32\n",
      "I0313 14:32:47.918000 4634199552 efficientnet_model.py:144] round_filter input=32 output=32\n",
      "I0313 14:32:47.918157 4634199552 efficientnet_model.py:144] round_filter input=16 output=16\n",
      "I0313 14:32:48.092226 4634199552 efficientnet_model.py:144] round_filter input=16 output=16\n",
      "I0313 14:32:48.092391 4634199552 efficientnet_model.py:144] round_filter input=24 output=24\n",
      "I0313 14:32:48.538906 4634199552 efficientnet_model.py:144] round_filter input=24 output=24\n",
      "I0313 14:32:48.539236 4634199552 efficientnet_model.py:144] round_filter input=40 output=40\n",
      "I0313 14:32:49.056101 4634199552 efficientnet_model.py:144] round_filter input=40 output=40\n",
      "I0313 14:32:49.056430 4634199552 efficientnet_model.py:144] round_filter input=80 output=80\n",
      "I0313 14:32:49.683642 4634199552 efficientnet_model.py:144] round_filter input=80 output=80\n",
      "I0313 14:32:49.683820 4634199552 efficientnet_model.py:144] round_filter input=112 output=112\n",
      "I0313 14:32:50.179910 4634199552 efficientnet_model.py:144] round_filter input=112 output=112\n",
      "I0313 14:32:50.180079 4634199552 efficientnet_model.py:144] round_filter input=192 output=192\n",
      "I0313 14:32:50.925455 4634199552 efficientnet_model.py:144] round_filter input=192 output=192\n",
      "I0313 14:32:50.925642 4634199552 efficientnet_model.py:144] round_filter input=320 output=320\n",
      "I0313 14:32:51.316731 4634199552 efficientnet_model.py:144] round_filter input=1280 output=1280\n",
      "I0313 14:32:51.386176 4634199552 efficientnet_model.py:454] Building model efficientnet with params ModelConfig(width_coefficient=1.0, depth_coefficient=1.1, resolution=240, dropout_rate=0.2, blocks=(BlockConfig(input_filters=32, output_filters=16, kernel_size=3, num_repeat=1, expand_ratio=1, strides=(1, 1), se_ratio=0.25, id_skip=True, fused_conv=False, conv_type='depthwise'), BlockConfig(input_filters=16, output_filters=24, kernel_size=3, num_repeat=2, expand_ratio=6, strides=(2, 2), se_ratio=0.25, id_skip=True, fused_conv=False, conv_type='depthwise'), BlockConfig(input_filters=24, output_filters=40, kernel_size=5, num_repeat=2, expand_ratio=6, strides=(2, 2), se_ratio=0.25, id_skip=True, fused_conv=False, conv_type='depthwise'), BlockConfig(input_filters=40, output_filters=80, kernel_size=3, num_repeat=3, expand_ratio=6, strides=(2, 2), se_ratio=0.25, id_skip=True, fused_conv=False, conv_type='depthwise'), BlockConfig(input_filters=80, output_filters=112, kernel_size=5, num_repeat=3, expand_ratio=6, strides=(1, 1), se_ratio=0.25, id_skip=True, fused_conv=False, conv_type='depthwise'), BlockConfig(input_filters=112, output_filters=192, kernel_size=5, num_repeat=4, expand_ratio=6, strides=(2, 2), se_ratio=0.25, id_skip=True, fused_conv=False, conv_type='depthwise'), BlockConfig(input_filters=192, output_filters=320, kernel_size=3, num_repeat=1, expand_ratio=6, strides=(1, 1), se_ratio=0.25, id_skip=True, fused_conv=False, conv_type='depthwise')), stem_base_filters=32, top_base_filters=1280, activation='simple_swish', batch_norm='default', bn_momentum=0.99, bn_epsilon=0.001, weight_decay=5e-06, drop_connect_rate=0.2, depth_divisor=8, min_depth=None, use_se=True, input_channels=3, num_classes=1000, model_name='efficientnet', rescale_input=False, data_format='channels_last', dtype='float32')\n",
      "I0313 14:32:51.490935 4634199552 ssd_efficientnet_bifpn_feature_extractor.py:145] EfficientDet EfficientNet backbone version: efficientnet-b2\n",
      "I0313 14:32:51.491101 4634199552 ssd_efficientnet_bifpn_feature_extractor.py:147] EfficientDet BiFPN num filters: 112\n",
      "I0313 14:32:51.491189 4634199552 ssd_efficientnet_bifpn_feature_extractor.py:148] EfficientDet BiFPN num iterations: 5\n",
      "I0313 14:32:51.493901 4634199552 efficientnet_model.py:144] round_filter input=32 output=32\n",
      "I0313 14:32:51.515992 4634199552 efficientnet_model.py:144] round_filter input=32 output=32\n",
      "I0313 14:32:51.516190 4634199552 efficientnet_model.py:144] round_filter input=16 output=16\n",
      "I0313 14:32:51.711374 4634199552 efficientnet_model.py:144] round_filter input=16 output=16\n",
      "I0313 14:32:51.711560 4634199552 efficientnet_model.py:144] round_filter input=24 output=24\n",
      "I0313 14:32:52.186236 4634199552 efficientnet_model.py:144] round_filter input=24 output=24\n",
      "I0313 14:32:52.186398 4634199552 efficientnet_model.py:144] round_filter input=40 output=48\n",
      "I0313 14:32:52.636679 4634199552 efficientnet_model.py:144] round_filter input=40 output=48\n",
      "I0313 14:32:52.636836 4634199552 efficientnet_model.py:144] round_filter input=80 output=88\n",
      "I0313 14:32:53.249491 4634199552 efficientnet_model.py:144] round_filter input=80 output=88\n",
      "I0313 14:32:53.249660 4634199552 efficientnet_model.py:144] round_filter input=112 output=120\n",
      "I0313 14:32:53.752634 4634199552 efficientnet_model.py:144] round_filter input=112 output=120\n",
      "I0313 14:32:53.752826 4634199552 efficientnet_model.py:144] round_filter input=192 output=208\n",
      "I0313 14:32:54.860422 4634199552 efficientnet_model.py:144] round_filter input=192 output=208\n",
      "I0313 14:32:54.860678 4634199552 efficientnet_model.py:144] round_filter input=320 output=352\n"
     ]
    },
    {
     "name": "stdout",
     "output_type": "stream",
     "text": [
      "I0313 14:32:55.299194 4634199552 efficientnet_model.py:144] round_filter input=1280 output=1408\n",
      "I0313 14:32:55.419068 4634199552 efficientnet_model.py:454] Building model efficientnet with params ModelConfig(width_coefficient=1.1, depth_coefficient=1.2, resolution=260, dropout_rate=0.3, blocks=(BlockConfig(input_filters=32, output_filters=16, kernel_size=3, num_repeat=1, expand_ratio=1, strides=(1, 1), se_ratio=0.25, id_skip=True, fused_conv=False, conv_type='depthwise'), BlockConfig(input_filters=16, output_filters=24, kernel_size=3, num_repeat=2, expand_ratio=6, strides=(2, 2), se_ratio=0.25, id_skip=True, fused_conv=False, conv_type='depthwise'), BlockConfig(input_filters=24, output_filters=40, kernel_size=5, num_repeat=2, expand_ratio=6, strides=(2, 2), se_ratio=0.25, id_skip=True, fused_conv=False, conv_type='depthwise'), BlockConfig(input_filters=40, output_filters=80, kernel_size=3, num_repeat=3, expand_ratio=6, strides=(2, 2), se_ratio=0.25, id_skip=True, fused_conv=False, conv_type='depthwise'), BlockConfig(input_filters=80, output_filters=112, kernel_size=5, num_repeat=3, expand_ratio=6, strides=(1, 1), se_ratio=0.25, id_skip=True, fused_conv=False, conv_type='depthwise'), BlockConfig(input_filters=112, output_filters=192, kernel_size=5, num_repeat=4, expand_ratio=6, strides=(2, 2), se_ratio=0.25, id_skip=True, fused_conv=False, conv_type='depthwise'), BlockConfig(input_filters=192, output_filters=320, kernel_size=3, num_repeat=1, expand_ratio=6, strides=(1, 1), se_ratio=0.25, id_skip=True, fused_conv=False, conv_type='depthwise')), stem_base_filters=32, top_base_filters=1280, activation='simple_swish', batch_norm='default', bn_momentum=0.99, bn_epsilon=0.001, weight_decay=5e-06, drop_connect_rate=0.2, depth_divisor=8, min_depth=None, use_se=True, input_channels=3, num_classes=1000, model_name='efficientnet', rescale_input=False, data_format='channels_last', dtype='float32')\n",
      "I0313 14:32:55.621177 4634199552 ssd_efficientnet_bifpn_feature_extractor.py:145] EfficientDet EfficientNet backbone version: efficientnet-b3\n",
      "I0313 14:32:55.622330 4634199552 ssd_efficientnet_bifpn_feature_extractor.py:147] EfficientDet BiFPN num filters: 160\n",
      "I0313 14:32:55.622549 4634199552 ssd_efficientnet_bifpn_feature_extractor.py:148] EfficientDet BiFPN num iterations: 6\n",
      "I0313 14:32:55.625954 4634199552 efficientnet_model.py:144] round_filter input=32 output=40\n",
      "I0313 14:32:55.690186 4634199552 efficientnet_model.py:144] round_filter input=32 output=40\n",
      "I0313 14:32:55.690572 4634199552 efficientnet_model.py:144] round_filter input=16 output=24\n",
      "I0313 14:32:56.117846 4634199552 efficientnet_model.py:144] round_filter input=16 output=24\n",
      "I0313 14:32:56.118079 4634199552 efficientnet_model.py:144] round_filter input=24 output=32\n",
      "I0313 14:32:56.951981 4634199552 efficientnet_model.py:144] round_filter input=24 output=32\n",
      "I0313 14:32:56.952306 4634199552 efficientnet_model.py:144] round_filter input=40 output=48\n",
      "I0313 14:32:57.727515 4634199552 efficientnet_model.py:144] round_filter input=40 output=48\n",
      "I0313 14:32:57.727694 4634199552 efficientnet_model.py:144] round_filter input=80 output=96\n",
      "I0313 14:32:58.783176 4634199552 efficientnet_model.py:144] round_filter input=80 output=96\n",
      "I0313 14:32:58.783487 4634199552 efficientnet_model.py:144] round_filter input=112 output=136\n",
      "I0313 14:32:59.597758 4634199552 efficientnet_model.py:144] round_filter input=112 output=136\n",
      "I0313 14:32:59.597943 4634199552 efficientnet_model.py:144] round_filter input=192 output=232\n",
      "I0313 14:33:00.340039 4634199552 efficientnet_model.py:144] round_filter input=192 output=232\n",
      "I0313 14:33:00.340296 4634199552 efficientnet_model.py:144] round_filter input=320 output=384\n",
      "I0313 14:33:00.600346 4634199552 efficientnet_model.py:144] round_filter input=1280 output=1536\n",
      "I0313 14:33:00.685176 4634199552 efficientnet_model.py:454] Building model efficientnet with params ModelConfig(width_coefficient=1.2, depth_coefficient=1.4, resolution=300, dropout_rate=0.3, blocks=(BlockConfig(input_filters=32, output_filters=16, kernel_size=3, num_repeat=1, expand_ratio=1, strides=(1, 1), se_ratio=0.25, id_skip=True, fused_conv=False, conv_type='depthwise'), BlockConfig(input_filters=16, output_filters=24, kernel_size=3, num_repeat=2, expand_ratio=6, strides=(2, 2), se_ratio=0.25, id_skip=True, fused_conv=False, conv_type='depthwise'), BlockConfig(input_filters=24, output_filters=40, kernel_size=5, num_repeat=2, expand_ratio=6, strides=(2, 2), se_ratio=0.25, id_skip=True, fused_conv=False, conv_type='depthwise'), BlockConfig(input_filters=40, output_filters=80, kernel_size=3, num_repeat=3, expand_ratio=6, strides=(2, 2), se_ratio=0.25, id_skip=True, fused_conv=False, conv_type='depthwise'), BlockConfig(input_filters=80, output_filters=112, kernel_size=5, num_repeat=3, expand_ratio=6, strides=(1, 1), se_ratio=0.25, id_skip=True, fused_conv=False, conv_type='depthwise'), BlockConfig(input_filters=112, output_filters=192, kernel_size=5, num_repeat=4, expand_ratio=6, strides=(2, 2), se_ratio=0.25, id_skip=True, fused_conv=False, conv_type='depthwise'), BlockConfig(input_filters=192, output_filters=320, kernel_size=3, num_repeat=1, expand_ratio=6, strides=(1, 1), se_ratio=0.25, id_skip=True, fused_conv=False, conv_type='depthwise')), stem_base_filters=32, top_base_filters=1280, activation='simple_swish', batch_norm='default', bn_momentum=0.99, bn_epsilon=0.001, weight_decay=5e-06, drop_connect_rate=0.2, depth_divisor=8, min_depth=None, use_se=True, input_channels=3, num_classes=1000, model_name='efficientnet', rescale_input=False, data_format='channels_last', dtype='float32')\n",
      "I0313 14:33:00.784304 4634199552 ssd_efficientnet_bifpn_feature_extractor.py:145] EfficientDet EfficientNet backbone version: efficientnet-b4\n",
      "I0313 14:33:00.784471 4634199552 ssd_efficientnet_bifpn_feature_extractor.py:147] EfficientDet BiFPN num filters: 224\n",
      "I0313 14:33:00.784557 4634199552 ssd_efficientnet_bifpn_feature_extractor.py:148] EfficientDet BiFPN num iterations: 7\n",
      "I0313 14:33:00.787720 4634199552 efficientnet_model.py:144] round_filter input=32 output=48\n",
      "I0313 14:33:00.811000 4634199552 efficientnet_model.py:144] round_filter input=32 output=48\n",
      "I0313 14:33:00.811272 4634199552 efficientnet_model.py:144] round_filter input=16 output=24\n",
      "I0313 14:33:00.981023 4634199552 efficientnet_model.py:144] round_filter input=16 output=24\n",
      "I0313 14:33:00.981189 4634199552 efficientnet_model.py:144] round_filter input=24 output=32\n",
      "I0313 14:33:01.366810 4634199552 efficientnet_model.py:144] round_filter input=24 output=32\n",
      "I0313 14:33:01.367000 4634199552 efficientnet_model.py:144] round_filter input=40 output=56\n",
      "I0313 14:33:01.761425 4634199552 efficientnet_model.py:144] round_filter input=40 output=56\n",
      "I0313 14:33:01.761610 4634199552 efficientnet_model.py:144] round_filter input=80 output=112\n",
      "I0313 14:33:02.368435 4634199552 efficientnet_model.py:144] round_filter input=80 output=112\n",
      "I0313 14:33:02.368725 4634199552 efficientnet_model.py:144] round_filter input=112 output=160\n",
      "I0313 14:33:02.984523 4634199552 efficientnet_model.py:144] round_filter input=112 output=160\n",
      "I0313 14:33:02.984707 4634199552 efficientnet_model.py:144] round_filter input=192 output=272\n",
      "I0313 14:33:04.169725 4634199552 efficientnet_model.py:144] round_filter input=192 output=272\n",
      "I0313 14:33:04.169914 4634199552 efficientnet_model.py:144] round_filter input=320 output=448\n",
      "I0313 14:33:04.443124 4634199552 efficientnet_model.py:144] round_filter input=1280 output=1792\n",
      "I0313 14:33:04.522645 4634199552 efficientnet_model.py:454] Building model efficientnet with params ModelConfig(width_coefficient=1.4, depth_coefficient=1.8, resolution=380, dropout_rate=0.4, blocks=(BlockConfig(input_filters=32, output_filters=16, kernel_size=3, num_repeat=1, expand_ratio=1, strides=(1, 1), se_ratio=0.25, id_skip=True, fused_conv=False, conv_type='depthwise'), BlockConfig(input_filters=16, output_filters=24, kernel_size=3, num_repeat=2, expand_ratio=6, strides=(2, 2), se_ratio=0.25, id_skip=True, fused_conv=False, conv_type='depthwise'), BlockConfig(input_filters=24, output_filters=40, kernel_size=5, num_repeat=2, expand_ratio=6, strides=(2, 2), se_ratio=0.25, id_skip=True, fused_conv=False, conv_type='depthwise'), BlockConfig(input_filters=40, output_filters=80, kernel_size=3, num_repeat=3, expand_ratio=6, strides=(2, 2), se_ratio=0.25, id_skip=True, fused_conv=False, conv_type='depthwise'), BlockConfig(input_filters=80, output_filters=112, kernel_size=5, num_repeat=3, expand_ratio=6, strides=(1, 1), se_ratio=0.25, id_skip=True, fused_conv=False, conv_type='depthwise'), BlockConfig(input_filters=112, output_filters=192, kernel_size=5, num_repeat=4, expand_ratio=6, strides=(2, 2), se_ratio=0.25, id_skip=True, fused_conv=False, conv_type='depthwise'), BlockConfig(input_filters=192, output_filters=320, kernel_size=3, num_repeat=1, expand_ratio=6, strides=(1, 1), se_ratio=0.25, id_skip=True, fused_conv=False, conv_type='depthwise')), stem_base_filters=32, top_base_filters=1280, activation='simple_swish', batch_norm='default', bn_momentum=0.99, bn_epsilon=0.001, weight_decay=5e-06, drop_connect_rate=0.2, depth_divisor=8, min_depth=None, use_se=True, input_channels=3, num_classes=1000, model_name='efficientnet', rescale_input=False, data_format='channels_last', dtype='float32')\n"
     ]
    },
    {
     "name": "stdout",
     "output_type": "stream",
     "text": [
      "I0313 14:33:04.635317 4634199552 ssd_efficientnet_bifpn_feature_extractor.py:145] EfficientDet EfficientNet backbone version: efficientnet-b5\n",
      "I0313 14:33:04.635488 4634199552 ssd_efficientnet_bifpn_feature_extractor.py:147] EfficientDet BiFPN num filters: 288\n",
      "I0313 14:33:04.635576 4634199552 ssd_efficientnet_bifpn_feature_extractor.py:148] EfficientDet BiFPN num iterations: 7\n",
      "I0313 14:33:04.640004 4634199552 efficientnet_model.py:144] round_filter input=32 output=48\n",
      "I0313 14:33:04.669090 4634199552 efficientnet_model.py:144] round_filter input=32 output=48\n",
      "I0313 14:33:04.669291 4634199552 efficientnet_model.py:144] round_filter input=16 output=24\n",
      "I0313 14:33:04.923983 4634199552 efficientnet_model.py:144] round_filter input=16 output=24\n",
      "I0313 14:33:04.924187 4634199552 efficientnet_model.py:144] round_filter input=24 output=40\n",
      "I0313 14:33:05.413641 4634199552 efficientnet_model.py:144] round_filter input=24 output=40\n",
      "I0313 14:33:05.413829 4634199552 efficientnet_model.py:144] round_filter input=40 output=64\n",
      "I0313 14:33:05.906198 4634199552 efficientnet_model.py:144] round_filter input=40 output=64\n",
      "I0313 14:33:05.906417 4634199552 efficientnet_model.py:144] round_filter input=80 output=128\n",
      "I0313 14:33:06.601022 4634199552 efficientnet_model.py:144] round_filter input=80 output=128\n",
      "I0313 14:33:06.601221 4634199552 efficientnet_model.py:144] round_filter input=112 output=176\n",
      "I0313 14:33:07.352981 4634199552 efficientnet_model.py:144] round_filter input=112 output=176\n",
      "I0313 14:33:07.353170 4634199552 efficientnet_model.py:144] round_filter input=192 output=304\n",
      "I0313 14:33:08.620664 4634199552 efficientnet_model.py:144] round_filter input=192 output=304\n",
      "I0313 14:33:08.620851 4634199552 efficientnet_model.py:144] round_filter input=320 output=512\n",
      "I0313 14:33:09.078874 4634199552 efficientnet_model.py:144] round_filter input=1280 output=2048\n",
      "I0313 14:33:09.183588 4634199552 efficientnet_model.py:454] Building model efficientnet with params ModelConfig(width_coefficient=1.6, depth_coefficient=2.2, resolution=456, dropout_rate=0.4, blocks=(BlockConfig(input_filters=32, output_filters=16, kernel_size=3, num_repeat=1, expand_ratio=1, strides=(1, 1), se_ratio=0.25, id_skip=True, fused_conv=False, conv_type='depthwise'), BlockConfig(input_filters=16, output_filters=24, kernel_size=3, num_repeat=2, expand_ratio=6, strides=(2, 2), se_ratio=0.25, id_skip=True, fused_conv=False, conv_type='depthwise'), BlockConfig(input_filters=24, output_filters=40, kernel_size=5, num_repeat=2, expand_ratio=6, strides=(2, 2), se_ratio=0.25, id_skip=True, fused_conv=False, conv_type='depthwise'), BlockConfig(input_filters=40, output_filters=80, kernel_size=3, num_repeat=3, expand_ratio=6, strides=(2, 2), se_ratio=0.25, id_skip=True, fused_conv=False, conv_type='depthwise'), BlockConfig(input_filters=80, output_filters=112, kernel_size=5, num_repeat=3, expand_ratio=6, strides=(1, 1), se_ratio=0.25, id_skip=True, fused_conv=False, conv_type='depthwise'), BlockConfig(input_filters=112, output_filters=192, kernel_size=5, num_repeat=4, expand_ratio=6, strides=(2, 2), se_ratio=0.25, id_skip=True, fused_conv=False, conv_type='depthwise'), BlockConfig(input_filters=192, output_filters=320, kernel_size=3, num_repeat=1, expand_ratio=6, strides=(1, 1), se_ratio=0.25, id_skip=True, fused_conv=False, conv_type='depthwise')), stem_base_filters=32, top_base_filters=1280, activation='simple_swish', batch_norm='default', bn_momentum=0.99, bn_epsilon=0.001, weight_decay=5e-06, drop_connect_rate=0.2, depth_divisor=8, min_depth=None, use_se=True, input_channels=3, num_classes=1000, model_name='efficientnet', rescale_input=False, data_format='channels_last', dtype='float32')\n",
      "I0313 14:33:09.395802 4634199552 ssd_efficientnet_bifpn_feature_extractor.py:145] EfficientDet EfficientNet backbone version: efficientnet-b6\n",
      "I0313 14:33:09.396003 4634199552 ssd_efficientnet_bifpn_feature_extractor.py:147] EfficientDet BiFPN num filters: 384\n",
      "I0313 14:33:09.396116 4634199552 ssd_efficientnet_bifpn_feature_extractor.py:148] EfficientDet BiFPN num iterations: 8\n",
      "I0313 14:33:09.398376 4634199552 efficientnet_model.py:144] round_filter input=32 output=56\n",
      "I0313 14:33:09.425827 4634199552 efficientnet_model.py:144] round_filter input=32 output=56\n",
      "I0313 14:33:09.426089 4634199552 efficientnet_model.py:144] round_filter input=16 output=32\n",
      "I0313 14:33:09.685497 4634199552 efficientnet_model.py:144] round_filter input=16 output=32\n",
      "I0313 14:33:09.685718 4634199552 efficientnet_model.py:144] round_filter input=24 output=40\n",
      "I0313 14:33:10.286242 4634199552 efficientnet_model.py:144] round_filter input=24 output=40\n",
      "I0313 14:33:10.286432 4634199552 efficientnet_model.py:144] round_filter input=40 output=72\n",
      "I0313 14:33:11.184514 4634199552 efficientnet_model.py:144] round_filter input=40 output=72\n",
      "I0313 14:33:11.184705 4634199552 efficientnet_model.py:144] round_filter input=80 output=144\n",
      "I0313 14:33:11.990747 4634199552 efficientnet_model.py:144] round_filter input=80 output=144\n",
      "I0313 14:33:11.990946 4634199552 efficientnet_model.py:144] round_filter input=112 output=200\n",
      "I0313 14:33:12.832849 4634199552 efficientnet_model.py:144] round_filter input=112 output=200\n",
      "I0313 14:33:12.833063 4634199552 efficientnet_model.py:144] round_filter input=192 output=344\n",
      "I0313 14:33:14.193057 4634199552 efficientnet_model.py:144] round_filter input=192 output=344\n",
      "I0313 14:33:14.193245 4634199552 efficientnet_model.py:144] round_filter input=320 output=576\n",
      "I0313 14:33:14.676869 4634199552 efficientnet_model.py:144] round_filter input=1280 output=2304\n",
      "I0313 14:33:14.770344 4634199552 efficientnet_model.py:454] Building model efficientnet with params ModelConfig(width_coefficient=1.8, depth_coefficient=2.6, resolution=528, dropout_rate=0.5, blocks=(BlockConfig(input_filters=32, output_filters=16, kernel_size=3, num_repeat=1, expand_ratio=1, strides=(1, 1), se_ratio=0.25, id_skip=True, fused_conv=False, conv_type='depthwise'), BlockConfig(input_filters=16, output_filters=24, kernel_size=3, num_repeat=2, expand_ratio=6, strides=(2, 2), se_ratio=0.25, id_skip=True, fused_conv=False, conv_type='depthwise'), BlockConfig(input_filters=24, output_filters=40, kernel_size=5, num_repeat=2, expand_ratio=6, strides=(2, 2), se_ratio=0.25, id_skip=True, fused_conv=False, conv_type='depthwise'), BlockConfig(input_filters=40, output_filters=80, kernel_size=3, num_repeat=3, expand_ratio=6, strides=(2, 2), se_ratio=0.25, id_skip=True, fused_conv=False, conv_type='depthwise'), BlockConfig(input_filters=80, output_filters=112, kernel_size=5, num_repeat=3, expand_ratio=6, strides=(1, 1), se_ratio=0.25, id_skip=True, fused_conv=False, conv_type='depthwise'), BlockConfig(input_filters=112, output_filters=192, kernel_size=5, num_repeat=4, expand_ratio=6, strides=(2, 2), se_ratio=0.25, id_skip=True, fused_conv=False, conv_type='depthwise'), BlockConfig(input_filters=192, output_filters=320, kernel_size=3, num_repeat=1, expand_ratio=6, strides=(1, 1), se_ratio=0.25, id_skip=True, fused_conv=False, conv_type='depthwise')), stem_base_filters=32, top_base_filters=1280, activation='simple_swish', batch_norm='default', bn_momentum=0.99, bn_epsilon=0.001, weight_decay=5e-06, drop_connect_rate=0.2, depth_divisor=8, min_depth=None, use_se=True, input_channels=3, num_classes=1000, model_name='efficientnet', rescale_input=False, data_format='channels_last', dtype='float32')\n",
      "I0313 14:33:14.914856 4634199552 ssd_efficientnet_bifpn_feature_extractor.py:145] EfficientDet EfficientNet backbone version: efficientnet-b7\n",
      "I0313 14:33:14.915013 4634199552 ssd_efficientnet_bifpn_feature_extractor.py:147] EfficientDet BiFPN num filters: 384\n",
      "I0313 14:33:14.915095 4634199552 ssd_efficientnet_bifpn_feature_extractor.py:148] EfficientDet BiFPN num iterations: 8\n",
      "I0313 14:33:14.917089 4634199552 efficientnet_model.py:144] round_filter input=32 output=64\n",
      "I0313 14:33:14.934501 4634199552 efficientnet_model.py:144] round_filter input=32 output=64\n",
      "I0313 14:33:14.934664 4634199552 efficientnet_model.py:144] round_filter input=16 output=32\n",
      "I0313 14:33:15.264412 4634199552 efficientnet_model.py:144] round_filter input=16 output=32\n",
      "I0313 14:33:15.264605 4634199552 efficientnet_model.py:144] round_filter input=24 output=48\n"
     ]
    },
    {
     "name": "stdout",
     "output_type": "stream",
     "text": [
      "I0313 14:33:15.939833 4634199552 efficientnet_model.py:144] round_filter input=24 output=48\n",
      "I0313 14:33:15.940035 4634199552 efficientnet_model.py:144] round_filter input=40 output=80\n",
      "I0313 14:33:16.634298 4634199552 efficientnet_model.py:144] round_filter input=40 output=80\n",
      "I0313 14:33:16.634464 4634199552 efficientnet_model.py:144] round_filter input=80 output=160\n",
      "I0313 14:33:17.677141 4634199552 efficientnet_model.py:144] round_filter input=80 output=160\n",
      "I0313 14:33:17.677323 4634199552 efficientnet_model.py:144] round_filter input=112 output=224\n",
      "I0313 14:33:19.033781 4634199552 efficientnet_model.py:144] round_filter input=112 output=224\n",
      "I0313 14:33:19.033968 4634199552 efficientnet_model.py:144] round_filter input=192 output=384\n",
      "I0313 14:33:20.696753 4634199552 efficientnet_model.py:144] round_filter input=192 output=384\n",
      "I0313 14:33:20.696933 4634199552 efficientnet_model.py:144] round_filter input=320 output=640\n",
      "I0313 14:33:21.425743 4634199552 efficientnet_model.py:144] round_filter input=1280 output=2560\n",
      "I0313 14:33:21.530671 4634199552 efficientnet_model.py:454] Building model efficientnet with params ModelConfig(width_coefficient=2.0, depth_coefficient=3.1, resolution=600, dropout_rate=0.5, blocks=(BlockConfig(input_filters=32, output_filters=16, kernel_size=3, num_repeat=1, expand_ratio=1, strides=(1, 1), se_ratio=0.25, id_skip=True, fused_conv=False, conv_type='depthwise'), BlockConfig(input_filters=16, output_filters=24, kernel_size=3, num_repeat=2, expand_ratio=6, strides=(2, 2), se_ratio=0.25, id_skip=True, fused_conv=False, conv_type='depthwise'), BlockConfig(input_filters=24, output_filters=40, kernel_size=5, num_repeat=2, expand_ratio=6, strides=(2, 2), se_ratio=0.25, id_skip=True, fused_conv=False, conv_type='depthwise'), BlockConfig(input_filters=40, output_filters=80, kernel_size=3, num_repeat=3, expand_ratio=6, strides=(2, 2), se_ratio=0.25, id_skip=True, fused_conv=False, conv_type='depthwise'), BlockConfig(input_filters=80, output_filters=112, kernel_size=5, num_repeat=3, expand_ratio=6, strides=(1, 1), se_ratio=0.25, id_skip=True, fused_conv=False, conv_type='depthwise'), BlockConfig(input_filters=112, output_filters=192, kernel_size=5, num_repeat=4, expand_ratio=6, strides=(2, 2), se_ratio=0.25, id_skip=True, fused_conv=False, conv_type='depthwise'), BlockConfig(input_filters=192, output_filters=320, kernel_size=3, num_repeat=1, expand_ratio=6, strides=(1, 1), se_ratio=0.25, id_skip=True, fused_conv=False, conv_type='depthwise')), stem_base_filters=32, top_base_filters=1280, activation='simple_swish', batch_norm='default', bn_momentum=0.99, bn_epsilon=0.001, weight_decay=5e-06, drop_connect_rate=0.2, depth_divisor=8, min_depth=None, use_se=True, input_channels=3, num_classes=1000, model_name='efficientnet', rescale_input=False, data_format='channels_last', dtype='float32')\n",
      "INFO:tensorflow:time(__main__.ModelBuilderTF2Test.test_create_ssd_models_from_config): 36.92s\n",
      "I0313 14:33:21.701882 4634199552 test_util.py:2373] time(__main__.ModelBuilderTF2Test.test_create_ssd_models_from_config): 36.92s\n",
      "[       OK ] ModelBuilderTF2Test.test_create_ssd_models_from_config\n",
      "[ RUN      ] ModelBuilderTF2Test.test_invalid_faster_rcnn_batchnorm_update\n",
      "INFO:tensorflow:time(__main__.ModelBuilderTF2Test.test_invalid_faster_rcnn_batchnorm_update): 0.0s\n",
      "I0313 14:33:21.709956 4634199552 test_util.py:2373] time(__main__.ModelBuilderTF2Test.test_invalid_faster_rcnn_batchnorm_update): 0.0s\n",
      "[       OK ] ModelBuilderTF2Test.test_invalid_faster_rcnn_batchnorm_update\n",
      "[ RUN      ] ModelBuilderTF2Test.test_invalid_first_stage_nms_iou_threshold\n",
      "INFO:tensorflow:time(__main__.ModelBuilderTF2Test.test_invalid_first_stage_nms_iou_threshold): 0.0s\n",
      "I0313 14:33:21.712079 4634199552 test_util.py:2373] time(__main__.ModelBuilderTF2Test.test_invalid_first_stage_nms_iou_threshold): 0.0s\n",
      "[       OK ] ModelBuilderTF2Test.test_invalid_first_stage_nms_iou_threshold\n",
      "[ RUN      ] ModelBuilderTF2Test.test_invalid_model_config_proto\n",
      "INFO:tensorflow:time(__main__.ModelBuilderTF2Test.test_invalid_model_config_proto): 0.0s\n",
      "I0313 14:33:21.712681 4634199552 test_util.py:2373] time(__main__.ModelBuilderTF2Test.test_invalid_model_config_proto): 0.0s\n",
      "[       OK ] ModelBuilderTF2Test.test_invalid_model_config_proto\n",
      "[ RUN      ] ModelBuilderTF2Test.test_invalid_second_stage_batch_size\n",
      "INFO:tensorflow:time(__main__.ModelBuilderTF2Test.test_invalid_second_stage_batch_size): 0.0s\n",
      "I0313 14:33:21.714673 4634199552 test_util.py:2373] time(__main__.ModelBuilderTF2Test.test_invalid_second_stage_batch_size): 0.0s\n",
      "[       OK ] ModelBuilderTF2Test.test_invalid_second_stage_batch_size\n",
      "[ RUN      ] ModelBuilderTF2Test.test_session\n",
      "[  SKIPPED ] ModelBuilderTF2Test.test_session\n",
      "[ RUN      ] ModelBuilderTF2Test.test_unknown_faster_rcnn_feature_extractor\n",
      "INFO:tensorflow:time(__main__.ModelBuilderTF2Test.test_unknown_faster_rcnn_feature_extractor): 0.0s\n",
      "I0313 14:33:21.716474 4634199552 test_util.py:2373] time(__main__.ModelBuilderTF2Test.test_unknown_faster_rcnn_feature_extractor): 0.0s\n",
      "[       OK ] ModelBuilderTF2Test.test_unknown_faster_rcnn_feature_extractor\n",
      "[ RUN      ] ModelBuilderTF2Test.test_unknown_meta_architecture\n",
      "INFO:tensorflow:time(__main__.ModelBuilderTF2Test.test_unknown_meta_architecture): 0.0s\n",
      "I0313 14:33:21.716984 4634199552 test_util.py:2373] time(__main__.ModelBuilderTF2Test.test_unknown_meta_architecture): 0.0s\n",
      "[       OK ] ModelBuilderTF2Test.test_unknown_meta_architecture\n",
      "[ RUN      ] ModelBuilderTF2Test.test_unknown_ssd_feature_extractor\n",
      "INFO:tensorflow:time(__main__.ModelBuilderTF2Test.test_unknown_ssd_feature_extractor): 0.0s\n",
      "I0313 14:33:21.718270 4634199552 test_util.py:2373] time(__main__.ModelBuilderTF2Test.test_unknown_ssd_feature_extractor): 0.0s\n",
      "[       OK ] ModelBuilderTF2Test.test_unknown_ssd_feature_extractor\n",
      "----------------------------------------------------------------------\n",
      "Ran 24 tests in 43.666s\n",
      "\n",
      "OK (skipped=1)\n"
     ]
    }
   ],
   "source": [
    "VERIFICATION_SCRIPT = os.path.join(paths['APIMODEL_PATH'], 'research', 'object_detection', 'builders', 'model_builder_tf2_test.py')\n",
    "# Verify Installation\n",
    "!python {VERIFICATION_SCRIPT}"
   ]
  },
  {
   "cell_type": "code",
   "execution_count": 15,
   "metadata": {
    "collapsed": true
   },
   "outputs": [
    {
     "name": "stdout",
     "output_type": "stream",
     "text": [
      "Requirement already satisfied: tensorflow in d:\\youtube\\od\\tfodcourse\\tfod\\lib\\site-packages\\tensorflow-2.5.0rc0-py3.7-win-amd64.egg (2.5.0rc0)\n",
      "Requirement already satisfied: absl-py~=0.10 in d:\\youtube\\od\\tfodcourse\\tfod\\lib\\site-packages (from tensorflow) (0.12.0)\n",
      "Collecting astunparse~=1.6.3\n",
      "  Using cached astunparse-1.6.3-py2.py3-none-any.whl (12 kB)\n",
      "Collecting flatbuffers~=1.12.0\n",
      "  Using cached flatbuffers-1.12-py2.py3-none-any.whl (15 kB)\n",
      "Collecting gast==0.4.0\n",
      "  Using cached gast-0.4.0-py3-none-any.whl (9.8 kB)\n",
      "Collecting google-pasta~=0.2\n",
      "  Using cached google_pasta-0.2.0-py3-none-any.whl (57 kB)\n",
      "Collecting grpcio~=1.34.0\n",
      "  Using cached grpcio-1.34.1-cp37-cp37m-win_amd64.whl (2.9 MB)\n",
      "Collecting h5py~=3.1.0\n",
      "  Using cached h5py-3.1.0-cp37-cp37m-win_amd64.whl (2.7 MB)\n",
      "Collecting keras-nightly~=2.5.0.dev\n",
      "  Using cached keras_nightly-2.5.0.dev2021032900-py2.py3-none-any.whl (1.2 MB)\n",
      "Collecting keras-preprocessing~=1.1.2\n",
      "  Using cached Keras_Preprocessing-1.1.2-py2.py3-none-any.whl (42 kB)\n",
      "Requirement already satisfied: numpy~=1.19.2 in d:\\youtube\\od\\tfodcourse\\tfod\\lib\\site-packages (from tensorflow) (1.19.5)\n",
      "Collecting opt-einsum~=3.3.0\n",
      "  Using cached opt_einsum-3.3.0-py3-none-any.whl (65 kB)\n",
      "Requirement already satisfied: protobuf>=3.9.2 in d:\\youtube\\od\\tfodcourse\\tfod\\lib\\site-packages (from tensorflow) (3.15.7)\n",
      "Requirement already satisfied: six~=1.15.0 in d:\\youtube\\od\\tfodcourse\\tfod\\lib\\site-packages (from tensorflow) (1.15.0)\n",
      "Collecting tensorboard~=2.4\n",
      "  Using cached tensorboard-2.4.1-py3-none-any.whl (10.6 MB)\n",
      "Collecting termcolor~=1.1.0\n",
      "  Using cached termcolor-1.1.0-py3-none-any.whl\n",
      "Collecting tf-estimator-nightly==2.5.0.dev2021032501\n",
      "  Using cached tf_estimator_nightly-2.5.0.dev2021032501-py2.py3-none-any.whl (462 kB)\n",
      "Requirement already satisfied: typing-extensions~=3.7.4 in d:\\youtube\\od\\tfodcourse\\tfod\\lib\\site-packages\\typing_extensions-3.7.4.3-py3.7.egg (from tensorflow) (3.7.4.3)\n",
      "Requirement already satisfied: wheel~=0.35 in d:\\youtube\\od\\tfodcourse\\tfod\\lib\\site-packages (from tensorflow) (0.36.2)\n",
      "Collecting wrapt~=1.12.1\n",
      "  Using cached wrapt-1.12.1-cp37-cp37m-win_amd64.whl\n",
      "Collecting cached-property\n",
      "  Using cached cached_property-1.5.2-py2.py3-none-any.whl (7.6 kB)\n",
      "Requirement already satisfied: google-auth<2,>=1.6.3 in d:\\youtube\\od\\tfodcourse\\tfod\\lib\\site-packages (from tensorboard~=2.4->tensorflow) (1.28.0)\n",
      "Requirement already satisfied: tensorboard-plugin-wit>=1.6.0 in d:\\youtube\\od\\tfodcourse\\tfod\\lib\\site-packages (from tensorboard~=2.4->tensorflow) (1.8.0)\n",
      "Collecting google-auth-oauthlib<0.5,>=0.4.1\n",
      "  Using cached google_auth_oauthlib-0.4.4-py2.py3-none-any.whl (18 kB)\n",
      "Requirement already satisfied: requests<3,>=2.21.0 in d:\\youtube\\od\\tfodcourse\\tfod\\lib\\site-packages\\requests-2.25.1-py3.7.egg (from tensorboard~=2.4->tensorflow) (2.25.1)\n",
      "Collecting markdown>=2.6.8\n",
      "  Using cached Markdown-3.3.4-py3-none-any.whl (97 kB)\n",
      "Requirement already satisfied: setuptools>=41.0.0 in d:\\youtube\\od\\tfodcourse\\tfod\\lib\\site-packages (from tensorboard~=2.4->tensorflow) (54.2.0)\n",
      "Requirement already satisfied: werkzeug>=0.11.15 in d:\\youtube\\od\\tfodcourse\\tfod\\lib\\site-packages (from tensorboard~=2.4->tensorflow) (1.0.1)\n",
      "Requirement already satisfied: rsa<5,>=3.1.4 in d:\\youtube\\od\\tfodcourse\\tfod\\lib\\site-packages (from google-auth<2,>=1.6.3->tensorboard~=2.4->tensorflow) (4.7.2)\n",
      "Requirement already satisfied: pyasn1-modules>=0.2.1 in d:\\youtube\\od\\tfodcourse\\tfod\\lib\\site-packages (from google-auth<2,>=1.6.3->tensorboard~=2.4->tensorflow) (0.2.8)\n",
      "Requirement already satisfied: cachetools<5.0,>=2.0.0 in d:\\youtube\\od\\tfodcourse\\tfod\\lib\\site-packages (from google-auth<2,>=1.6.3->tensorboard~=2.4->tensorflow) (4.2.1)\n",
      "Requirement already satisfied: requests-oauthlib>=0.7.0 in d:\\youtube\\od\\tfodcourse\\tfod\\lib\\site-packages (from google-auth-oauthlib<0.5,>=0.4.1->tensorboard~=2.4->tensorflow) (1.3.0)\n",
      "Requirement already satisfied: importlib-metadata in d:\\youtube\\od\\tfodcourse\\tfod\\lib\\site-packages (from markdown>=2.6.8->tensorboard~=2.4->tensorflow) (3.10.0)\n",
      "Requirement already satisfied: pyasn1<0.5.0,>=0.4.6 in d:\\youtube\\od\\tfodcourse\\tfod\\lib\\site-packages (from pyasn1-modules>=0.2.1->google-auth<2,>=1.6.3->tensorboard~=2.4->tensorflow) (0.4.8)\n",
      "Requirement already satisfied: certifi>=2017.4.17 in d:\\youtube\\od\\tfodcourse\\tfod\\lib\\site-packages (from requests<3,>=2.21.0->tensorboard~=2.4->tensorflow) (2020.12.5)\n",
      "Requirement already satisfied: chardet<5,>=3.0.2 in d:\\youtube\\od\\tfodcourse\\tfod\\lib\\site-packages (from requests<3,>=2.21.0->tensorboard~=2.4->tensorflow) (4.0.0)\n",
      "Requirement already satisfied: idna<3,>=2.5 in d:\\youtube\\od\\tfodcourse\\tfod\\lib\\site-packages (from requests<3,>=2.21.0->tensorboard~=2.4->tensorflow) (2.10)\n",
      "Requirement already satisfied: urllib3<1.27,>=1.21.1 in d:\\youtube\\od\\tfodcourse\\tfod\\lib\\site-packages (from requests<3,>=2.21.0->tensorboard~=2.4->tensorflow) (1.26.4)\n",
      "Requirement already satisfied: oauthlib>=3.0.0 in d:\\youtube\\od\\tfodcourse\\tfod\\lib\\site-packages (from requests-oauthlib>=0.7.0->google-auth-oauthlib<0.5,>=0.4.1->tensorboard~=2.4->tensorflow) (3.1.0)\n",
      "Requirement already satisfied: zipp>=0.5 in d:\\youtube\\od\\tfodcourse\\tfod\\lib\\site-packages (from importlib-metadata->markdown>=2.6.8->tensorboard~=2.4->tensorflow) (3.4.1)\n",
      "Installing collected packages: markdown, grpcio, google-auth-oauthlib, cached-property, wrapt, tf-estimator-nightly, termcolor, tensorboard, opt-einsum, keras-preprocessing, keras-nightly, h5py, google-pasta, gast, flatbuffers, astunparse\n",
      "Successfully installed astunparse-1.6.3 cached-property-1.5.2 flatbuffers-1.12 gast-0.4.0 google-auth-oauthlib-0.4.4 google-pasta-0.2.0 grpcio-1.34.1 h5py-3.1.0 keras-nightly-2.5.0.dev2021032900 keras-preprocessing-1.1.2 markdown-3.3.4 opt-einsum-3.3.0 tensorboard-2.4.1 termcolor-1.1.0 tf-estimator-nightly-2.5.0.dev2021032501 wrapt-1.12.1\n"
     ]
    },
    {
     "name": "stderr",
     "output_type": "stream",
     "text": [
      "ERROR: pip's dependency resolver does not currently take into account all the packages that are installed. This behaviour is the source of the following dependency conflicts.\n",
      "apache-beam 2.28.0 requires crcmod<2.0,>=1.7, which is not installed.\n",
      "apache-beam 2.28.0 requires dill<0.3.2,>=0.3.1.1, which is not installed.\n",
      "apache-beam 2.28.0 requires fastavro<2,>=0.21.4, which is not installed.\n",
      "apache-beam 2.28.0 requires future<1.0.0,>=0.18.2, which is not installed.\n",
      "apache-beam 2.28.0 requires hdfs<3.0.0,>=2.1.0, which is not installed.\n",
      "apache-beam 2.28.0 requires httplib2<0.18.0,>=0.8, which is not installed.\n",
      "apache-beam 2.28.0 requires mock<3.0.0,>=1.0.1, which is not installed.\n",
      "tensorflow-datasets 4.2.0 requires attrs>=18.1.0, which is not installed.\n",
      "tensorflow-datasets 4.2.0 requires dill, which is not installed.\n",
      "tensorflow-datasets 4.2.0 requires future, which is not installed.\n",
      "tensorflow-datasets 4.2.0 requires importlib-resources, which is not installed.\n",
      "tensorflow-datasets 4.2.0 requires promise, which is not installed.\n",
      "tensorflow-datasets 4.2.0 requires tensorflow-metadata, which is not installed.\n",
      "tensorflow-datasets 4.2.0 requires tqdm, which is not installed.\n",
      "apache-beam 2.28.0 requires avro-python3!=1.9.2,<1.10.0,>=1.8.1, but you have avro-python3 1.10.2 which is incompatible.\n"
     ]
    }
   ],
   "source": [
    "!pip install tensorflow --upgrade"
   ]
  },
  {
   "cell_type": "code",
   "execution_count": 13,
   "metadata": {
    "collapsed": true
   },
   "outputs": [
    {
     "name": "stdout",
     "output_type": "stream",
     "text": [
      "Found existing installation: protobuf 3.15.7\n",
      "Uninstalling protobuf-3.15.7:\n",
      "  Successfully uninstalled protobuf-3.15.7\n",
      "Found existing installation: matplotlib 3.4.1\n",
      "Uninstalling matplotlib-3.4.1:\n",
      "  Successfully uninstalled matplotlib-3.4.1\n",
      "Collecting protobuf"
     ]
    },
    {
     "name": "stderr",
     "output_type": "stream",
     "text": [
      "ERROR: pip's dependency resolver does not currently take into account all the packages that are installed. This behaviour is the source of the following dependency conflicts.\n",
      "apache-beam 2.28.0 requires crcmod<2.0,>=1.7, which is not installed.\n",
      "apache-beam 2.28.0 requires dill<0.3.2,>=0.3.1.1, which is not installed.\n",
      "apache-beam 2.28.0 requires fastavro<2,>=0.21.4, which is not installed.\n",
      "apache-beam 2.28.0 requires future<1.0.0,>=0.18.2, which is not installed.\n",
      "apache-beam 2.28.0 requires grpcio<2,>=1.29.0, which is not installed.\n",
      "apache-beam 2.28.0 requires hdfs<3.0.0,>=2.1.0, which is not installed.\n",
      "apache-beam 2.28.0 requires httplib2<0.18.0,>=0.8, which is not installed.\n",
      "apache-beam 2.28.0 requires mock<3.0.0,>=1.0.1, which is not installed.\n",
      "tensorflow 2.5.0rc0 requires astunparse~=1.6.3, which is not installed.\n",
      "tensorflow 2.5.0rc0 requires flatbuffers~=1.12.0, which is not installed.\n",
      "tensorflow 2.5.0rc0 requires gast==0.4.0, which is not installed.\n",
      "tensorflow 2.5.0rc0 requires google-pasta~=0.2, which is not installed.\n",
      "tensorflow 2.5.0rc0 requires grpcio~=1.34.0, which is not installed.\n",
      "tensorflow 2.5.0rc0 requires h5py~=3.1.0, which is not installed.\n",
      "tensorflow 2.5.0rc0 requires keras-nightly~=2.5.0.dev, which is not installed.\n",
      "tensorflow 2.5.0rc0 requires keras-preprocessing~=1.1.2, which is not installed.\n",
      "tensorflow 2.5.0rc0 requires opt-einsum~=3.3.0, which is not installed.\n",
      "tensorflow 2.5.0rc0 requires tensorboard~=2.4, which is not installed.\n",
      "tensorflow 2.5.0rc0 requires termcolor~=1.1.0, which is not installed.\n",
      "tensorflow 2.5.0rc0 requires tf-estimator-nightly==2.5.0.dev2021032501, which is not installed.\n",
      "tensorflow 2.5.0rc0 requires wrapt~=1.12.1, which is not installed.\n",
      "tensorflow-datasets 4.2.0 requires attrs>=18.1.0, which is not installed.\n",
      "tensorflow-datasets 4.2.0 requires dill, which is not installed.\n",
      "tensorflow-datasets 4.2.0 requires future, which is not installed.\n",
      "tensorflow-datasets 4.2.0 requires importlib-resources, which is not installed.\n",
      "tensorflow-datasets 4.2.0 requires promise, which is not installed.\n",
      "tensorflow-datasets 4.2.0 requires tensorflow-metadata, which is not installed.\n",
      "tensorflow-datasets 4.2.0 requires termcolor, which is not installed.\n",
      "tensorflow-datasets 4.2.0 requires tqdm, which is not installed.\n",
      "google-cloud-bigquery 2.13.1 requires google-api-core[grpc]<2.0.0dev,>=1.23.0, which is not installed.\n",
      "google-cloud-bigquery 2.13.1 requires google-cloud-core<2.0dev,>=1.4.1, which is not installed.\n",
      "google-cloud-bigquery 2.13.1 requires google-resumable-media<2.0dev,>=0.6.0, which is not installed.\n",
      "google-cloud-bigquery 2.13.1 requires packaging>=14.3, which is not installed.\n",
      "google-cloud-bigquery 2.13.1 requires proto-plus>=1.10.0, which is not installed.\n",
      "apache-beam 2.28.0 requires avro-python3!=1.9.2,<1.10.0,>=1.8.1, but you have avro-python3 1.10.2 which is incompatible.\n"
     ]
    },
    {
     "name": "stdout",
     "output_type": "stream",
     "text": [
      "\n",
      "  Downloading protobuf-3.15.7-cp37-cp37m-win_amd64.whl (904 kB)\n",
      "Collecting matplotlib==3.2\n",
      "  Using cached matplotlib-3.2.0-cp37-cp37m-win_amd64.whl (9.2 MB)\n",
      "Requirement already satisfied: cycler>=0.10 in d:\\youtube\\od\\tfodcourse\\tfod\\lib\\site-packages\\cycler-0.10.0-py3.7.egg (from matplotlib==3.2) (0.10.0)\n",
      "Requirement already satisfied: kiwisolver>=1.0.1 in d:\\youtube\\od\\tfodcourse\\tfod\\lib\\site-packages\\kiwisolver-1.3.1-py3.7-win-amd64.egg (from matplotlib==3.2) (1.3.1)\n",
      "Requirement already satisfied: python-dateutil>=2.1 in d:\\youtube\\od\\tfodcourse\\tfod\\lib\\site-packages (from matplotlib==3.2) (2.8.1)\n",
      "Requirement already satisfied: pyparsing!=2.0.4,!=2.1.2,!=2.1.6,>=2.0.1 in d:\\youtube\\od\\tfodcourse\\tfod\\lib\\site-packages\\pyparsing-3.0.0b2-py3.7.egg (from matplotlib==3.2) (3.0.0b2)\n",
      "Requirement already satisfied: numpy>=1.11 in d:\\youtube\\od\\tfodcourse\\tfod\\lib\\site-packages (from matplotlib==3.2) (1.19.5)\n",
      "Requirement already satisfied: six in d:\\youtube\\od\\tfodcourse\\tfod\\lib\\site-packages (from cycler>=0.10->matplotlib==3.2) (1.15.0)\n",
      "Installing collected packages: protobuf, matplotlib\n",
      "Successfully installed matplotlib-3.2.0 protobuf-3.15.7\n"
     ]
    }
   ],
   "source": [
    "!pip uninstall protobuf matplotlib -y\n",
    "!pip install protobuf matplotlib==3.2"
   ]
  },
  {
   "cell_type": "code",
   "execution_count": 44,
   "metadata": {},
   "outputs": [],
   "source": [
    "import object_detection"
   ]
  },
  {
   "cell_type": "code",
   "execution_count": 15,
   "metadata": {
    "scrolled": true
   },
   "outputs": [
    {
     "name": "stdout",
     "output_type": "stream",
     "text": [
      "Package                       Version\r\n",
      "----------------------------- -------------------\r\n",
      "absl-py                       1.0.0\r\n",
      "apache-beam                   2.37.0\r\n",
      "appnope                       0.1.2\r\n",
      "asttokens                     2.0.5\r\n",
      "astunparse                    1.6.3\r\n",
      "avro-python3                  1.10.2\r\n",
      "backcall                      0.2.0\r\n",
      "cachetools                    5.0.0\r\n",
      "certifi                       2021.10.8\r\n",
      "charset-normalizer            2.0.12\r\n",
      "cloudpickle                   2.0.0\r\n",
      "colorama                      0.4.4\r\n",
      "contextlib2                   21.6.0\r\n",
      "crcmod                        1.7\r\n",
      "cycler                        0.11.0\r\n",
      "Cython                        0.29.28\r\n",
      "debugpy                       1.5.1\r\n",
      "decorator                     5.1.1\r\n",
      "dill                          0.3.1.1\r\n",
      "dm-tree                       0.1.6\r\n",
      "docopt                        0.6.2\r\n",
      "entrypoints                   0.4\r\n",
      "executing                     0.8.3\r\n",
      "fastavro                      1.4.10\r\n",
      "flatbuffers                   2.0\r\n",
      "fonttools                     4.30.0\r\n",
      "gast                          0.5.3\r\n",
      "gin-config                    0.5.0\r\n",
      "google-api-core               2.7.1\r\n",
      "google-api-python-client      2.40.0\r\n",
      "google-auth                   2.6.0\r\n",
      "google-auth-httplib2          0.1.0\r\n",
      "google-auth-oauthlib          0.4.6\r\n",
      "google-pasta                  0.2.0\r\n",
      "googleapis-common-protos      1.55.0\r\n",
      "grpcio                        1.44.0\r\n",
      "h5py                          3.6.0\r\n",
      "hdfs                          2.6.0\r\n",
      "httplib2                      0.19.1\r\n",
      "idna                          3.3\r\n",
      "importlib-metadata            4.11.2\r\n",
      "imutils                       0.5.4\r\n",
      "ipykernel                     6.9.1\r\n",
      "ipython                       8.1.1\r\n",
      "jedi                          0.18.1\r\n",
      "joblib                        1.1.0\r\n",
      "jupyter-client                7.1.2\r\n",
      "jupyter-core                  4.9.2\r\n",
      "kaggle                        1.5.12\r\n",
      "keras                         2.8.0\r\n",
      "Keras-Preprocessing           1.1.2\r\n",
      "kiwisolver                    1.3.2\r\n",
      "libclang                      13.0.0\r\n",
      "lvis                          0.5.3\r\n",
      "lxml                          4.8.0\r\n",
      "Markdown                      3.3.6\r\n",
      "matplotlib                    3.5.1\r\n",
      "matplotlib-inline             0.1.3\r\n",
      "nest-asyncio                  1.5.4\r\n",
      "numpy                         1.21.5\r\n",
      "oauth2client                  4.1.3\r\n",
      "oauthlib                      3.2.0\r\n",
      "object-detection              0.1\r\n",
      "opencv-python                 4.5.5.64\r\n",
      "opencv-python-headless        4.5.5.64\r\n",
      "opt-einsum                    3.3.0\r\n",
      "orjson                        3.6.7\r\n",
      "packaging                     21.3\r\n",
      "pandas                        1.4.1\r\n",
      "parso                         0.8.3\r\n",
      "pexpect                       4.8.0\r\n",
      "pickleshare                   0.7.5\r\n",
      "Pillow                        9.0.1\r\n",
      "pip                           22.0.4\r\n",
      "portalocker                   2.4.0\r\n",
      "promise                       2.3\r\n",
      "prompt-toolkit                3.0.28\r\n",
      "proto-plus                    1.20.3\r\n",
      "protobuf                      3.19.4\r\n",
      "psutil                        5.9.0\r\n",
      "ptyprocess                    0.7.0\r\n",
      "pure-eval                     0.2.2\r\n",
      "py-cpuinfo                    8.0.0\r\n",
      "pyarrow                       6.0.1\r\n",
      "pyasn1                        0.4.8\r\n",
      "pyasn1-modules                0.2.8\r\n",
      "pycocotools                   2.0.4\r\n",
      "pydot                         1.4.2\r\n",
      "Pygments                      2.11.2\r\n",
      "pymongo                       3.12.3\r\n",
      "pyparsing                     2.4.7\r\n",
      "PyQt5                         5.15.4\r\n",
      "PyQt5-Qt5                     5.15.2\r\n",
      "PyQt5-sip                     12.9.1\r\n",
      "PyQtChart                     5.15.5\r\n",
      "PyQtChart-Qt5                 5.15.2\r\n",
      "python-dateutil               2.8.2\r\n",
      "python-slugify                6.1.1\r\n",
      "pytz                          2021.3\r\n",
      "PyYAML                        5.4.1\r\n",
      "pyzmq                         22.3.0\r\n",
      "regex                         2022.3.2\r\n",
      "requests                      2.27.1\r\n",
      "requests-oauthlib             1.3.1\r\n",
      "rsa                           4.8\r\n",
      "sacrebleu                     2.0.0\r\n",
      "scikit-learn                  1.0.2\r\n",
      "scipy                         1.8.0\r\n",
      "sentencepiece                 0.1.96\r\n",
      "seqeval                       1.2.2\r\n",
      "setuptools                    57.4.0\r\n",
      "six                           1.16.0\r\n",
      "stack-data                    0.2.0\r\n",
      "tabulate                      0.8.9\r\n",
      "tensorboard                   2.8.0\r\n",
      "tensorboard-data-server       0.6.1\r\n",
      "tensorboard-plugin-wit        1.8.1\r\n",
      "tensorflow                    2.8.0\r\n",
      "tensorflow-addons             0.16.1\r\n",
      "tensorflow-datasets           4.5.2\r\n",
      "tensorflow-hub                0.12.0\r\n",
      "tensorflow-io                 0.24.0\r\n",
      "tensorflow-io-gcs-filesystem  0.24.0\r\n",
      "tensorflow-metadata           1.7.0\r\n",
      "tensorflow-model-optimization 0.7.1\r\n",
      "tensorflow-text               2.8.1\r\n",
      "termcolor                     1.1.0\r\n",
      "text-unidecode                1.3\r\n",
      "tf-estimator-nightly          2.8.0.dev2021122109\r\n",
      "tf-models-official            2.8.0\r\n",
      "tf-slim                       1.1.0\r\n",
      "threadpoolctl                 3.1.0\r\n",
      "tornado                       6.1\r\n",
      "tqdm                          4.63.0\r\n",
      "traitlets                     5.1.1\r\n",
      "typeguard                     2.13.3\r\n",
      "typing_extensions             4.1.1\r\n",
      "uritemplate                   4.1.1\r\n",
      "urllib3                       1.26.8\r\n",
      "wcwidth                       0.2.5\r\n",
      "Werkzeug                      2.0.3\r\n",
      "wget                          3.2\r\n",
      "wheel                         0.37.1\r\n",
      "wrapt                         1.14.0\r\n",
      "zipp                          3.7.0\r\n"
     ]
    }
   ],
   "source": [
    "!pip list"
   ]
  },
  {
   "cell_type": "code",
   "execution_count": 45,
   "metadata": {
    "colab": {
     "base_uri": "https://localhost:8080/"
    },
    "id": "csofht2npfDE",
    "outputId": "ff5471b2-bed2-43f2-959c-327a706527b6",
    "scrolled": true
   },
   "outputs": [
    {
     "name": "stdout",
     "output_type": "stream",
     "text": [
      "--2022-03-13 14:34:04--  http://download.tensorflow.org/models/object_detection/tf2/20200711/ssd_mobilenet_v2_fpnlite_320x320_coco17_tpu-8.tar.gz\n",
      "Resolving download.tensorflow.org (download.tensorflow.org)... 172.217.13.112\n",
      "Connecting to download.tensorflow.org (download.tensorflow.org)|172.217.13.112|:80... connected.\n",
      "HTTP request sent, awaiting response... 200 OK\n",
      "Length: 20515344 (20M) [application/x-tar]\n",
      "Saving to: ‘ssd_mobilenet_v2_fpnlite_320x320_coco17_tpu-8.tar.gz’\n",
      "\n",
      "ssd_mobilenet_v2_fp 100%[===================>]  19.56M  25.9MB/s    in 0.8s    \n",
      "\n",
      "2022-03-13 14:34:05 (25.9 MB/s) - ‘ssd_mobilenet_v2_fpnlite_320x320_coco17_tpu-8.tar.gz’ saved [20515344/20515344]\n",
      "\n",
      "x ssd_mobilenet_v2_fpnlite_320x320_coco17_tpu-8/\n",
      "x ssd_mobilenet_v2_fpnlite_320x320_coco17_tpu-8/checkpoint/\n",
      "x ssd_mobilenet_v2_fpnlite_320x320_coco17_tpu-8/checkpoint/ckpt-0.data-00000-of-00001\n",
      "x ssd_mobilenet_v2_fpnlite_320x320_coco17_tpu-8/checkpoint/checkpoint\n",
      "x ssd_mobilenet_v2_fpnlite_320x320_coco17_tpu-8/checkpoint/ckpt-0.index\n",
      "x ssd_mobilenet_v2_fpnlite_320x320_coco17_tpu-8/pipeline.config\n",
      "x ssd_mobilenet_v2_fpnlite_320x320_coco17_tpu-8/saved_model/\n",
      "x ssd_mobilenet_v2_fpnlite_320x320_coco17_tpu-8/saved_model/saved_model.pb\n",
      "x ssd_mobilenet_v2_fpnlite_320x320_coco17_tpu-8/saved_model/variables/\n",
      "x ssd_mobilenet_v2_fpnlite_320x320_coco17_tpu-8/saved_model/variables/variables.data-00000-of-00001\n",
      "x ssd_mobilenet_v2_fpnlite_320x320_coco17_tpu-8/saved_model/variables/variables.index\n"
     ]
    }
   ],
   "source": [
    "if os.name =='posix':\n",
    "    !wget {PRETRAINED_MODEL_URL}\n",
    "    !mv {PRETRAINED_MODEL_NAME+'.tar.gz'} {paths['PRETRAINED_MODEL_PATH']}\n",
    "    !cd {paths['PRETRAINED_MODEL_PATH']} && tar -zxvf {PRETRAINED_MODEL_NAME+'.tar.gz'}\n",
    "if os.name == 'nt':\n",
    "    wget.download(PRETRAINED_MODEL_URL)\n",
    "    !move {PRETRAINED_MODEL_NAME+'.tar.gz'} {paths['PRETRAINED_MODEL_PATH']}\n",
    "    !cd {paths['PRETRAINED_MODEL_PATH']} && tar -zxvf {PRETRAINED_MODEL_NAME+'.tar.gz'}"
   ]
  },
  {
   "cell_type": "markdown",
   "metadata": {
    "id": "M5KJTnkfpfDC"
   },
   "source": [
    "# 2. Create Label Map"
   ]
  },
  {
   "cell_type": "code",
   "execution_count": 7,
   "metadata": {
    "id": "p1BVDWo7pfDC"
   },
   "outputs": [],
   "source": [
    "labels = [{'name':'Happy', 'id':1},{'name':'Angry', 'id':2}]\n",
    "\n",
    "with open(files['LABELMAP'], 'w') as f:\n",
    "    for label in labels:\n",
    "        f.write('item { \\n')\n",
    "        f.write('\\tname:\\'{}\\'\\n'.format(label['name']))\n",
    "        f.write('\\tid:{}\\n'.format(label['id']))\n",
    "        f.write('}\\n')"
   ]
  },
  {
   "cell_type": "markdown",
   "metadata": {
    "id": "C88zyVELpfDC"
   },
   "source": [
    "# 3. Create TF records"
   ]
  },
  {
   "cell_type": "code",
   "execution_count": 8,
   "metadata": {
    "colab": {
     "base_uri": "https://localhost:8080/"
    },
    "id": "KWpb_BVUpfDD",
    "outputId": "56ce2a3f-3933-4ee6-8a9d-d5ec65f7d73c"
   },
   "outputs": [],
   "source": [
    "if not os.path.exists(files['TF_RECORD_SCRIPT']):\n",
    "    !git clone https://github.com/nicknochnack/GenerateTFRecord {paths['SCRIPTS_PATH']}"
   ]
  },
  {
   "cell_type": "code",
   "execution_count": 9,
   "metadata": {
    "colab": {
     "base_uri": "https://localhost:8080/"
    },
    "id": "UPFToGZqpfDD",
    "outputId": "0ebb456f-aadc-4a1f-96e6-fbfec1923e1c"
   },
   "outputs": [
    {
     "name": "stdout",
     "output_type": "stream",
     "text": [
      "Successfully created the TFRecord file: Tensorflow/workspace/annotations/train.record\n",
      "Successfully created the TFRecord file: Tensorflow/workspace/annotations/test.record\n"
     ]
    }
   ],
   "source": [
    "!python {files['TF_RECORD_SCRIPT']} -x {os.path.join(paths['IMAGE_PATH'], 'train')} -l {files['LABELMAP']} -o {os.path.join(paths['ANNOTATION_PATH'], 'train.record')} \n",
    "!python {files['TF_RECORD_SCRIPT']} -x {os.path.join(paths['IMAGE_PATH'], 'test')} -l {files['LABELMAP']} -o {os.path.join(paths['ANNOTATION_PATH'], 'test.record')} "
   ]
  },
  {
   "cell_type": "markdown",
   "metadata": {
    "id": "qT4QU7pLpfDE"
   },
   "source": [
    "# 4. Copy Model Config to Training Folder"
   ]
  },
  {
   "cell_type": "code",
   "execution_count": 53,
   "metadata": {
    "id": "cOjuTFbwpfDF"
   },
   "outputs": [],
   "source": [
    "if os.name =='posix':\n",
    "    !cp {os.path.join(paths['PRETRAINED_MODEL_PATH'], PRETRAINED_MODEL_NAME, 'pipeline.config')} {os.path.join(paths['CHECKPOINT_PATH'])}\n",
    "if os.name == 'nt':\n",
    "    !copy {os.path.join(paths['PRETRAINED_MODEL_PATH'], PRETRAINED_MODEL_NAME, 'pipeline.config')} {os.path.join(paths['CHECKPOINT_PATH'])}"
   ]
  },
  {
   "cell_type": "markdown",
   "metadata": {
    "id": "Ga8gpNslpfDF"
   },
   "source": [
    "# 5. Update Config For Transfer Learning"
   ]
  },
  {
   "cell_type": "code",
   "execution_count": 54,
   "metadata": {
    "id": "Z9hRrO_ppfDF"
   },
   "outputs": [],
   "source": [
    "import tensorflow as tf\n",
    "from object_detection.utils import config_util\n",
    "from object_detection.protos import pipeline_pb2\n",
    "from google.protobuf import text_format"
   ]
  },
  {
   "cell_type": "code",
   "execution_count": 55,
   "metadata": {
    "id": "c2A0mn4ipfDF"
   },
   "outputs": [],
   "source": [
    "config = config_util.get_configs_from_pipeline_file(files['PIPELINE_CONFIG'])"
   ]
  },
  {
   "cell_type": "code",
   "execution_count": 56,
   "metadata": {
    "colab": {
     "base_uri": "https://localhost:8080/"
    },
    "id": "uQA13-afpfDF",
    "outputId": "907496a4-a39d-4b13-8c2c-e5978ecb1f10"
   },
   "outputs": [
    {
     "data": {
      "text/plain": [
       "{'model': ssd {\n",
       "   num_classes: 90\n",
       "   image_resizer {\n",
       "     fixed_shape_resizer {\n",
       "       height: 320\n",
       "       width: 320\n",
       "     }\n",
       "   }\n",
       "   feature_extractor {\n",
       "     type: \"ssd_mobilenet_v2_fpn_keras\"\n",
       "     depth_multiplier: 1.0\n",
       "     min_depth: 16\n",
       "     conv_hyperparams {\n",
       "       regularizer {\n",
       "         l2_regularizer {\n",
       "           weight: 3.9999998989515007e-05\n",
       "         }\n",
       "       }\n",
       "       initializer {\n",
       "         random_normal_initializer {\n",
       "           mean: 0.0\n",
       "           stddev: 0.009999999776482582\n",
       "         }\n",
       "       }\n",
       "       activation: RELU_6\n",
       "       batch_norm {\n",
       "         decay: 0.996999979019165\n",
       "         scale: true\n",
       "         epsilon: 0.0010000000474974513\n",
       "       }\n",
       "     }\n",
       "     use_depthwise: true\n",
       "     override_base_feature_extractor_hyperparams: true\n",
       "     fpn {\n",
       "       min_level: 3\n",
       "       max_level: 7\n",
       "       additional_layer_depth: 128\n",
       "     }\n",
       "   }\n",
       "   box_coder {\n",
       "     faster_rcnn_box_coder {\n",
       "       y_scale: 10.0\n",
       "       x_scale: 10.0\n",
       "       height_scale: 5.0\n",
       "       width_scale: 5.0\n",
       "     }\n",
       "   }\n",
       "   matcher {\n",
       "     argmax_matcher {\n",
       "       matched_threshold: 0.5\n",
       "       unmatched_threshold: 0.5\n",
       "       ignore_thresholds: false\n",
       "       negatives_lower_than_unmatched: true\n",
       "       force_match_for_each_row: true\n",
       "       use_matmul_gather: true\n",
       "     }\n",
       "   }\n",
       "   similarity_calculator {\n",
       "     iou_similarity {\n",
       "     }\n",
       "   }\n",
       "   box_predictor {\n",
       "     weight_shared_convolutional_box_predictor {\n",
       "       conv_hyperparams {\n",
       "         regularizer {\n",
       "           l2_regularizer {\n",
       "             weight: 3.9999998989515007e-05\n",
       "           }\n",
       "         }\n",
       "         initializer {\n",
       "           random_normal_initializer {\n",
       "             mean: 0.0\n",
       "             stddev: 0.009999999776482582\n",
       "           }\n",
       "         }\n",
       "         activation: RELU_6\n",
       "         batch_norm {\n",
       "           decay: 0.996999979019165\n",
       "           scale: true\n",
       "           epsilon: 0.0010000000474974513\n",
       "         }\n",
       "       }\n",
       "       depth: 128\n",
       "       num_layers_before_predictor: 4\n",
       "       kernel_size: 3\n",
       "       class_prediction_bias_init: -4.599999904632568\n",
       "       share_prediction_tower: true\n",
       "       use_depthwise: true\n",
       "     }\n",
       "   }\n",
       "   anchor_generator {\n",
       "     multiscale_anchor_generator {\n",
       "       min_level: 3\n",
       "       max_level: 7\n",
       "       anchor_scale: 4.0\n",
       "       aspect_ratios: 1.0\n",
       "       aspect_ratios: 2.0\n",
       "       aspect_ratios: 0.5\n",
       "       scales_per_octave: 2\n",
       "     }\n",
       "   }\n",
       "   post_processing {\n",
       "     batch_non_max_suppression {\n",
       "       score_threshold: 9.99999993922529e-09\n",
       "       iou_threshold: 0.6000000238418579\n",
       "       max_detections_per_class: 100\n",
       "       max_total_detections: 100\n",
       "       use_static_shapes: false\n",
       "     }\n",
       "     score_converter: SIGMOID\n",
       "   }\n",
       "   normalize_loss_by_num_matches: true\n",
       "   loss {\n",
       "     localization_loss {\n",
       "       weighted_smooth_l1 {\n",
       "       }\n",
       "     }\n",
       "     classification_loss {\n",
       "       weighted_sigmoid_focal {\n",
       "         gamma: 2.0\n",
       "         alpha: 0.25\n",
       "       }\n",
       "     }\n",
       "     classification_weight: 1.0\n",
       "     localization_weight: 1.0\n",
       "   }\n",
       "   encode_background_as_zeros: true\n",
       "   normalize_loc_loss_by_codesize: true\n",
       "   inplace_batchnorm_update: true\n",
       "   freeze_batchnorm: false\n",
       " },\n",
       " 'train_config': batch_size: 128\n",
       " data_augmentation_options {\n",
       "   random_horizontal_flip {\n",
       "   }\n",
       " }\n",
       " data_augmentation_options {\n",
       "   random_crop_image {\n",
       "     min_object_covered: 0.0\n",
       "     min_aspect_ratio: 0.75\n",
       "     max_aspect_ratio: 3.0\n",
       "     min_area: 0.75\n",
       "     max_area: 1.0\n",
       "     overlap_thresh: 0.0\n",
       "   }\n",
       " }\n",
       " sync_replicas: true\n",
       " optimizer {\n",
       "   momentum_optimizer {\n",
       "     learning_rate {\n",
       "       cosine_decay_learning_rate {\n",
       "         learning_rate_base: 0.07999999821186066\n",
       "         total_steps: 50000\n",
       "         warmup_learning_rate: 0.026666000485420227\n",
       "         warmup_steps: 1000\n",
       "       }\n",
       "     }\n",
       "     momentum_optimizer_value: 0.8999999761581421\n",
       "   }\n",
       "   use_moving_average: false\n",
       " }\n",
       " fine_tune_checkpoint: \"PATH_TO_BE_CONFIGURED\"\n",
       " num_steps: 50000\n",
       " startup_delay_steps: 0.0\n",
       " replicas_to_aggregate: 8\n",
       " max_number_of_boxes: 100\n",
       " unpad_groundtruth_tensors: false\n",
       " fine_tune_checkpoint_type: \"classification\"\n",
       " fine_tune_checkpoint_version: V2,\n",
       " 'train_input_config': label_map_path: \"PATH_TO_BE_CONFIGURED\"\n",
       " tf_record_input_reader {\n",
       "   input_path: \"PATH_TO_BE_CONFIGURED\"\n",
       " },\n",
       " 'eval_config': metrics_set: \"coco_detection_metrics\"\n",
       " use_moving_averages: false,\n",
       " 'eval_input_configs': [label_map_path: \"PATH_TO_BE_CONFIGURED\"\n",
       " shuffle: false\n",
       " num_epochs: 1\n",
       " tf_record_input_reader {\n",
       "   input_path: \"PATH_TO_BE_CONFIGURED\"\n",
       " }\n",
       " ],\n",
       " 'eval_input_config': label_map_path: \"PATH_TO_BE_CONFIGURED\"\n",
       " shuffle: false\n",
       " num_epochs: 1\n",
       " tf_record_input_reader {\n",
       "   input_path: \"PATH_TO_BE_CONFIGURED\"\n",
       " }}"
      ]
     },
     "execution_count": 56,
     "metadata": {},
     "output_type": "execute_result"
    }
   ],
   "source": [
    "config"
   ]
  },
  {
   "cell_type": "code",
   "execution_count": 57,
   "metadata": {
    "id": "9vK5lotDpfDF"
   },
   "outputs": [],
   "source": [
    "pipeline_config = pipeline_pb2.TrainEvalPipelineConfig()\n",
    "with tf.io.gfile.GFile(files['PIPELINE_CONFIG'], \"r\") as f:                                                                                                                                                                                                                     \n",
    "    proto_str = f.read()                                                                                                                                                                                                                                          \n",
    "    text_format.Merge(proto_str, pipeline_config)  "
   ]
  },
  {
   "cell_type": "code",
   "execution_count": 58,
   "metadata": {
    "id": "rP43Ph0JpfDG"
   },
   "outputs": [],
   "source": [
    "pipeline_config.model.ssd.num_classes = len(labels)\n",
    "pipeline_config.train_config.batch_size = 4\n",
    "pipeline_config.train_config.fine_tune_checkpoint = os.path.join(paths['PRETRAINED_MODEL_PATH'], PRETRAINED_MODEL_NAME, 'checkpoint', 'ckpt-0')\n",
    "pipeline_config.train_config.fine_tune_checkpoint_type = \"detection\"\n",
    "pipeline_config.train_input_reader.label_map_path= files['LABELMAP']\n",
    "pipeline_config.train_input_reader.tf_record_input_reader.input_path[:] = [os.path.join(paths['ANNOTATION_PATH'], 'train.record')]\n",
    "pipeline_config.eval_input_reader[0].label_map_path = files['LABELMAP']\n",
    "pipeline_config.eval_input_reader[0].tf_record_input_reader.input_path[:] = [os.path.join(paths['ANNOTATION_PATH'], 'test.record')]"
   ]
  },
  {
   "cell_type": "code",
   "execution_count": 59,
   "metadata": {
    "id": "oJvfgwWqpfDG"
   },
   "outputs": [],
   "source": [
    "config_text = text_format.MessageToString(pipeline_config)                                                                                                                                                                                                        \n",
    "with tf.io.gfile.GFile(files['PIPELINE_CONFIG'], \"wb\") as f:                                                                                                                                                                                                                     \n",
    "    f.write(config_text)   "
   ]
  },
  {
   "cell_type": "markdown",
   "metadata": {
    "id": "Zr3ON7xMpfDG"
   },
   "source": [
    "# 6. Train the model"
   ]
  },
  {
   "cell_type": "code",
   "execution_count": 60,
   "metadata": {
    "id": "B-Y2UQmQpfDG"
   },
   "outputs": [],
   "source": [
    "TRAINING_SCRIPT = os.path.join(paths['APIMODEL_PATH'], 'research', 'object_detection', 'model_main_tf2.py')"
   ]
  },
  {
   "cell_type": "code",
   "execution_count": 61,
   "metadata": {
    "id": "jMP2XDfQpfDH"
   },
   "outputs": [],
   "source": [
    "command = \"python {} --model_dir={} --pipeline_config_path={} --num_train_steps=2000\".format(TRAINING_SCRIPT, paths['CHECKPOINT_PATH'],files['PIPELINE_CONFIG'])"
   ]
  },
  {
   "cell_type": "code",
   "execution_count": 62,
   "metadata": {
    "colab": {
     "base_uri": "https://localhost:8080/"
    },
    "id": "A4OXXi-ApfDH",
    "outputId": "117a0e83-012b-466e-b7a6-ccaa349ac5ab"
   },
   "outputs": [
    {
     "name": "stdout",
     "output_type": "stream",
     "text": [
      "python Tensorflow/models/research/object_detection/model_main_tf2.py --model_dir=Tensorflow/workspace/models/Ant --pipeline_config_path=Tensorflow/workspace/models/Ant/pipeline.config --num_train_steps=2000\n"
     ]
    }
   ],
   "source": [
    "print(command)"
   ]
  },
  {
   "cell_type": "code",
   "execution_count": null,
   "metadata": {
    "colab": {
     "base_uri": "https://localhost:8080/"
    },
    "id": "i3ZsJR-qpfDH",
    "outputId": "cabec5e1-45e6-4f2f-d9cf-297d9c1d0225"
   },
   "outputs": [],
   "source": [
    "!{command}"
   ]
  },
  {
   "cell_type": "markdown",
   "metadata": {
    "id": "4_YRZu7npfDH"
   },
   "source": [
    "# 7. Evaluate the Model"
   ]
  },
  {
   "cell_type": "code",
   "execution_count": 63,
   "metadata": {
    "id": "80L7-fdPpfDH"
   },
   "outputs": [],
   "source": [
    "command = \"python {} --model_dir={} --pipeline_config_path={} --checkpoint_dir={}\".format(TRAINING_SCRIPT, paths['CHECKPOINT_PATH'],files['PIPELINE_CONFIG'], paths['CHECKPOINT_PATH'])"
   ]
  },
  {
   "cell_type": "code",
   "execution_count": 64,
   "metadata": {
    "colab": {
     "base_uri": "https://localhost:8080/"
    },
    "id": "lYsgEPx9pfDH",
    "outputId": "8632d48b-91d2-45d9-bcb8-c1b172bf6eed"
   },
   "outputs": [
    {
     "name": "stdout",
     "output_type": "stream",
     "text": [
      "python Tensorflow/models/research/object_detection/model_main_tf2.py --model_dir=Tensorflow/workspace/models/Ant --pipeline_config_path=Tensorflow/workspace/models/Ant/pipeline.config --checkpoint_dir=Tensorflow/workspace/models/Ant\n"
     ]
    }
   ],
   "source": [
    "print(command)"
   ]
  },
  {
   "cell_type": "code",
   "execution_count": 22,
   "metadata": {
    "id": "lqTV2jGBpfDH"
   },
   "outputs": [
    {
     "name": "stdout",
     "output_type": "stream",
     "text": [
      "^C\n"
     ]
    }
   ],
   "source": [
    "!{command}"
   ]
  },
  {
   "cell_type": "markdown",
   "metadata": {
    "id": "orvRk02UpfDI"
   },
   "source": [
    "# 8. Load Train Model From Checkpoint"
   ]
  },
  {
   "cell_type": "code",
   "execution_count": 73,
   "metadata": {
    "id": "8TYk4_oIpfDI"
   },
   "outputs": [],
   "source": [
    "import os\n",
    "import tensorflow as tf\n",
    "from object_detection.utils import label_map_util\n",
    "from object_detection.utils import visualization_utils as viz_utils\n",
    "from object_detection.builders import model_builder\n",
    "from object_detection.utils import config_util"
   ]
  },
  {
   "cell_type": "code",
   "execution_count": 74,
   "metadata": {
    "id": "tDnQg-cYpfDI"
   },
   "outputs": [],
   "source": [
    "# Load pipeline config and build a detection model\n",
    "configs = config_util.get_configs_from_pipeline_file(files['PIPELINE_CONFIG'])\n",
    "detection_model = model_builder.build(model_config=configs['model'], is_training=False)\n",
    "\n",
    "# Restore checkpoint\n",
    "ckpt = tf.compat.v2.train.Checkpoint(model=detection_model)\n",
    "ckpt.restore(os.path.join(paths['CHECKPOINT_PATH'], 'ckpt-3')).expect_partial()\n",
    "\n",
    "@tf.function\n",
    "def detect_fn(image):\n",
    "    image, shapes = detection_model.preprocess(image)\n",
    "    prediction_dict = detection_model.predict(image, shapes)\n",
    "    detections = detection_model.postprocess(prediction_dict, shapes)\n",
    "    return detections"
   ]
  },
  {
   "cell_type": "markdown",
   "metadata": {
    "id": "0EmsmbBZpfDI"
   },
   "source": [
    "# 9. Detect from an Image"
   ]
  },
  {
   "cell_type": "code",
   "execution_count": 10,
   "metadata": {
    "id": "Y_MKiuZ4pfDI"
   },
   "outputs": [],
   "source": [
    "import cv2 \n",
    "import numpy as np\n",
    "from matplotlib import pyplot as plt\n",
    "%matplotlib inline"
   ]
  },
  {
   "cell_type": "code",
   "execution_count": 11,
   "metadata": {
    "id": "cBDbIhNapfDI"
   },
   "outputs": [
    {
     "ename": "NameError",
     "evalue": "name 'label_map_util' is not defined",
     "output_type": "error",
     "traceback": [
      "\u001b[0;31m---------------------------------------------------------------------------\u001b[0m",
      "\u001b[0;31mNameError\u001b[0m                                 Traceback (most recent call last)",
      "Input \u001b[0;32mIn [11]\u001b[0m, in \u001b[0;36m<cell line: 1>\u001b[0;34m()\u001b[0m\n\u001b[0;32m----> 1\u001b[0m category_index \u001b[38;5;241m=\u001b[39m \u001b[43mlabel_map_util\u001b[49m\u001b[38;5;241m.\u001b[39mcreate_category_index_from_labelmap(files[\u001b[38;5;124m'\u001b[39m\u001b[38;5;124mLABELMAP\u001b[39m\u001b[38;5;124m'\u001b[39m])\n",
      "\u001b[0;31mNameError\u001b[0m: name 'label_map_util' is not defined"
     ]
    }
   ],
   "source": [
    "category_index = label_map_util.create_category_index_from_labelmap(files['LABELMAP'])"
   ]
  },
  {
   "cell_type": "code",
   "execution_count": null,
   "metadata": {
    "id": "Lx3crOhOzITB"
   },
   "outputs": [],
   "source": [
    "IMAGE_PATH = os.path.join(paths['IMAGE_PATH'], 'test', 'cube.f72d442a-9fb6-11ec-865c-0dfe83b2110b.jpg')"
   ]
  },
  {
   "cell_type": "code",
   "execution_count": 39,
   "metadata": {
    "colab": {
     "base_uri": "https://localhost:8080/",
     "height": 269
    },
    "id": "Tpzn1SMry1yK",
    "outputId": "c392a2c5-10fe-4fc4-9998-a1d4c7db2bd3"
   },
   "outputs": [
    {
     "data": {
      "image/png": "[encoded data removed]",
      "text/plain": [
       "<Figure size 432x288 with 1 Axes>"
      ]
     },
     "metadata": {
      "needs_background": "light"
     },
     "output_type": "display_data"
    }
   ],
   "source": [
    "img = cv2.imread(IMAGE_PATH)\n",
    "image_np = np.array(img)\n",
    "\n",
    "input_tensor = tf.convert_to_tensor(np.expand_dims(image_np, 0), dtype=tf.float32)\n",
    "detections = detect_fn(input_tensor)\n",
    "\n",
    "num_detections = int(detections.pop('num_detections'))\n",
    "detections = {key: value[0, :num_detections].numpy()\n",
    "              for key, value in detections.items()}\n",
    "detections['num_detections'] = num_detections\n",
    "\n",
    "# detection_classes should be ints.\n",
    "detections['detection_classes'] = detections['detection_classes'].astype(np.int64)\n",
    "\n",
    "label_id_offset = 1\n",
    "image_np_with_detections = image_np.copy()\n",
    "\n",
    "viz_utils.visualize_boxes_and_labels_on_image_array(\n",
    "            image_np_with_detections,\n",
    "            detections['detection_boxes'],\n",
    "            detections['detection_classes']+label_id_offset,\n",
    "            detections['detection_scores'],\n",
    "            category_index,\n",
    "            use_normalized_coordinates=True,\n",
    "            max_boxes_to_draw=5,\n",
    "            min_score_thresh=.8,\n",
    "            agnostic_mode=False)\n",
    "\n",
    "plt.imshow(cv2.cvtColor(image_np_with_detections, cv2.COLOR_BGR2RGB))\n",
    "plt.show()"
   ]
  },
  {
   "cell_type": "markdown",
   "metadata": {
    "id": "IsNAaYAo0WVL"
   },
   "source": [
    "# 10. Real Time Detections from your Webcam"
   ]
  },
  {
   "cell_type": "code",
   "execution_count": 82,
   "metadata": {
    "id": "o_grs6OGpfDJ"
   },
   "outputs": [],
   "source": [
    "cap = cv2.VideoCapture(0)\n",
    "width = int(cap.get(cv2.CAP_PROP_FRAME_WIDTH))\n",
    "height = int(cap.get(cv2.CAP_PROP_FRAME_HEIGHT))\n",
    "\n",
    "while cap.isOpened(): \n",
    "    ret, frame = cap.read()\n",
    "    image_np = np.array(frame)\n",
    "    \n",
    "    input_tensor = tf.convert_to_tensor(np.expand_dims(image_np, 0), dtype=tf.float32)\n",
    "    detections = detect_fn(input_tensor)\n",
    "    \n",
    "    num_detections = int(detections.pop('num_detections'))\n",
    "    detections = {key: value[0, :num_detections].numpy()\n",
    "                  for key, value in detections.items()}\n",
    "    detections['num_detections'] = num_detections\n",
    "\n",
    "    # detection_classes should be ints.\n",
    "    detections['detection_classes'] = detections['detection_classes'].astype(np.int64)\n",
    "\n",
    "    label_id_offset = 1\n",
    "    image_np_with_detections = image_np.copy()\n",
    "\n",
    "    viz_utils.visualize_boxes_and_labels_on_image_array(\n",
    "                image_np_with_detections,\n",
    "                detections['detection_boxes'],\n",
    "                detections['detection_classes']+label_id_offset,\n",
    "                detections['detection_scores'],\n",
    "                category_index,\n",
    "                use_normalized_coordinates=True,\n",
    "                max_boxes_to_draw=5,\n",
    "                min_score_thresh=.8,\n",
    "                agnostic_mode=False)\n",
    "\n",
    "    cv2.imshow('object detection',  cv2.resize(image_np_with_detections, (800, 600)))\n",
    "    \n",
    "    if cv2.waitKey(10) & 0xFF == ord('q'):\n",
    "        cap.release()\n",
    "        cv2.destroyAllWindows()\n",
    "        break"
   ]
  },
  {
   "cell_type": "markdown",
   "metadata": {
    "id": "rzlM4jt0pfDJ"
   },
   "source": [
    "# 10. Freezing the Graph"
   ]
  },
  {
   "cell_type": "code",
   "execution_count": 12,
   "metadata": {
    "id": "n4olHB2npfDJ"
   },
   "outputs": [],
   "source": [
    "FREEZE_SCRIPT = os.path.join(paths['APIMODEL_PATH'], 'research', 'object_detection', 'exporter_main_v2.py ')"
   ]
  },
  {
   "cell_type": "code",
   "execution_count": 13,
   "metadata": {
    "id": "0AjO93QDpfDJ"
   },
   "outputs": [],
   "source": [
    "command = \"python {} --input_type=image_tensor --pipeline_config_path={} --trained_checkpoint_dir={} --output_directory={}\".format(FREEZE_SCRIPT ,files['PIPELINE_CONFIG'], paths['CHECKPOINT_PATH'], paths['OUTPUT_PATH'])"
   ]
  },
  {
   "cell_type": "code",
   "execution_count": 14,
   "metadata": {
    "colab": {
     "base_uri": "https://localhost:8080/"
    },
    "id": "F6Lsp3tCpfDJ",
    "outputId": "c3828529-bf06-4df5-d7f3-145890ec3edd"
   },
   "outputs": [
    {
     "name": "stdout",
     "output_type": "stream",
     "text": [
      "python Tensorflow/models/research/object_detection/exporter_main_v2.py  --input_type=image_tensor --pipeline_config_path=Tensorflow/workspace/models/Ant/pipeline.config --trained_checkpoint_dir=Tensorflow/workspace/models/Ant --output_directory=Tensorflow/workspace/models/Ant/export\n"
     ]
    }
   ],
   "source": [
    "print(command)"
   ]
  },
  {
   "cell_type": "code",
   "execution_count": 15,
   "metadata": {
    "colab": {
     "base_uri": "https://localhost:8080/"
    },
    "id": "1Sw1ULgHpfDJ",
    "outputId": "6fd441e1-9fc9-4889-d072-3395c21e40b6"
   },
   "outputs": [
    {
     "name": "stdout",
     "output_type": "stream",
     "text": [
      "2022-03-13 16:02:02.673587: I tensorflow/core/platform/cpu_feature_guard.cc:151] This TensorFlow binary is optimized with oneAPI Deep Neural Network Library (oneDNN) to use the following CPU instructions in performance-critical operations:  AVX2 FMA\n",
      "To enable them in other operations, rebuild TensorFlow with the appropriate compiler flags.\n",
      "WARNING:tensorflow:From /Users/jackson/Desktop/Programmation/Projet/GRO400-MANUS/Hexapod-master/Hexapod_Qt/Qt_venv/lib/python3.9/site-packages/tensorflow/python/autograph/impl/api.py:458: calling map_fn_v2 (from tensorflow.python.ops.map_fn) with back_prop=False is deprecated and will be removed in a future version.\n",
      "Instructions for updating:\n",
      "back_prop=False is deprecated. Consider using tf.stop_gradient instead.\n",
      "Instead of:\n",
      "results = tf.map_fn(fn, elems, back_prop=False)\n",
      "Use:\n",
      "results = tf.nest.map_structure(tf.stop_gradient, tf.map_fn(fn, elems))\n",
      "W0313 16:02:02.865192 4602283520 deprecation.py:610] From /Users/jackson/Desktop/Programmation/Projet/GRO400-MANUS/Hexapod-master/Hexapod_Qt/Qt_venv/lib/python3.9/site-packages/tensorflow/python/autograph/impl/api.py:458: calling map_fn_v2 (from tensorflow.python.ops.map_fn) with back_prop=False is deprecated and will be removed in a future version.\n",
      "Instructions for updating:\n",
      "back_prop=False is deprecated. Consider using tf.stop_gradient instead.\n",
      "Instead of:\n",
      "results = tf.map_fn(fn, elems, back_prop=False)\n",
      "Use:\n",
      "results = tf.nest.map_structure(tf.stop_gradient, tf.map_fn(fn, elems))\n",
      "2022-03-13 16:02:23.499618: W tensorflow/python/util/util.cc:368] Sets are not currently considered sequences, but this may change in the future, so consider avoiding using them.\n",
      "WARNING:tensorflow:Skipping full serialization of Keras layer <object_detection.meta_architectures.ssd_meta_arch.SSDMetaArch object at 0x7f80a5d775b0>, because it is not built.\n",
      "W0313 16:02:28.787755 4602283520 save_impl.py:71] Skipping full serialization of Keras layer <object_detection.meta_architectures.ssd_meta_arch.SSDMetaArch object at 0x7f80a5d775b0>, because it is not built.\n",
      "WARNING:tensorflow:Skipping full serialization of Keras layer <keras.layers.convolutional.SeparableConv2D object at 0x7f80a5e8f220>, because it is not built.\n",
      "W0313 16:02:29.099482 4602283520 save_impl.py:71] Skipping full serialization of Keras layer <keras.layers.convolutional.SeparableConv2D object at 0x7f80a5e8f220>, because it is not built.\n",
      "WARNING:tensorflow:Skipping full serialization of Keras layer <object_detection.core.freezable_batch_norm.FreezableBatchNorm object at 0x7f80a78de550>, because it is not built.\n",
      "W0313 16:02:29.099720 4602283520 save_impl.py:71] Skipping full serialization of Keras layer <object_detection.core.freezable_batch_norm.FreezableBatchNorm object at 0x7f80a78de550>, because it is not built.\n",
      "WARNING:tensorflow:Skipping full serialization of Keras layer <keras.layers.core.lambda_layer.Lambda object at 0x7f80a78de5e0>, because it is not built.\n",
      "W0313 16:02:29.099860 4602283520 save_impl.py:71] Skipping full serialization of Keras layer <keras.layers.core.lambda_layer.Lambda object at 0x7f80a78de5e0>, because it is not built.\n",
      "WARNING:tensorflow:Skipping full serialization of Keras layer <keras.layers.convolutional.SeparableConv2D object at 0x7f80a78de700>, because it is not built.\n",
      "W0313 16:02:29.099980 4602283520 save_impl.py:71] Skipping full serialization of Keras layer <keras.layers.convolutional.SeparableConv2D object at 0x7f80a78de700>, because it is not built.\n",
      "WARNING:tensorflow:Skipping full serialization of Keras layer <object_detection.core.freezable_batch_norm.FreezableBatchNorm object at 0x7f80a78ded30>, because it is not built.\n",
      "W0313 16:02:29.100085 4602283520 save_impl.py:71] Skipping full serialization of Keras layer <object_detection.core.freezable_batch_norm.FreezableBatchNorm object at 0x7f80a78ded30>, because it is not built.\n",
      "WARNING:tensorflow:Skipping full serialization of Keras layer <keras.layers.core.lambda_layer.Lambda object at 0x7f80a78de6a0>, because it is not built.\n",
      "W0313 16:02:29.100178 4602283520 save_impl.py:71] Skipping full serialization of Keras layer <keras.layers.core.lambda_layer.Lambda object at 0x7f80a78de6a0>, because it is not built.\n",
      "WARNING:tensorflow:Skipping full serialization of Keras layer <keras.layers.convolutional.SeparableConv2D object at 0x7f80a78eea00>, because it is not built.\n",
      "W0313 16:02:29.100275 4602283520 save_impl.py:71] Skipping full serialization of Keras layer <keras.layers.convolutional.SeparableConv2D object at 0x7f80a78eea00>, because it is not built.\n",
      "WARNING:tensorflow:Skipping full serialization of Keras layer <object_detection.core.freezable_batch_norm.FreezableBatchNorm object at 0x7f80a78ee4c0>, because it is not built.\n",
      "W0313 16:02:29.100372 4602283520 save_impl.py:71] Skipping full serialization of Keras layer <object_detection.core.freezable_batch_norm.FreezableBatchNorm object at 0x7f80a78ee4c0>, because it is not built.\n",
      "WARNING:tensorflow:Skipping full serialization of Keras layer <keras.layers.core.lambda_layer.Lambda object at 0x7f80a78ee880>, because it is not built.\n",
      "W0313 16:02:29.100466 4602283520 save_impl.py:71] Skipping full serialization of Keras layer <keras.layers.core.lambda_layer.Lambda object at 0x7f80a78ee880>, because it is not built.\n",
      "WARNING:tensorflow:Skipping full serialization of Keras layer <keras.layers.convolutional.SeparableConv2D object at 0x7f80a78ee760>, because it is not built.\n",
      "W0313 16:02:29.100570 4602283520 save_impl.py:71] Skipping full serialization of Keras layer <keras.layers.convolutional.SeparableConv2D object at 0x7f80a78ee760>, because it is not built.\n",
      "WARNING:tensorflow:Skipping full serialization of Keras layer <object_detection.core.freezable_batch_norm.FreezableBatchNorm object at 0x7f80a78ee2b0>, because it is not built.\n",
      "W0313 16:02:29.100664 4602283520 save_impl.py:71] Skipping full serialization of Keras layer <object_detection.core.freezable_batch_norm.FreezableBatchNorm object at 0x7f80a78ee2b0>, because it is not built.\n",
      "WARNING:tensorflow:Skipping full serialization of Keras layer <keras.layers.core.lambda_layer.Lambda object at 0x7f80a7caf580>, because it is not built.\n",
      "W0313 16:02:29.100756 4602283520 save_impl.py:71] Skipping full serialization of Keras layer <keras.layers.core.lambda_layer.Lambda object at 0x7f80a7caf580>, because it is not built.\n",
      "WARNING:tensorflow:Skipping full serialization of Keras layer <object_detection.core.freezable_batch_norm.FreezableBatchNorm object at 0x7f80a5e8f7f0>, because it is not built.\n",
      "W0313 16:02:29.100849 4602283520 save_impl.py:71] Skipping full serialization of Keras layer <object_detection.core.freezable_batch_norm.FreezableBatchNorm object at 0x7f80a5e8f7f0>, because it is not built.\n",
      "WARNING:tensorflow:Skipping full serialization of Keras layer <keras.layers.core.lambda_layer.Lambda object at 0x7f809e132fa0>, because it is not built.\n",
      "W0313 16:02:29.100929 4602283520 save_impl.py:71] Skipping full serialization of Keras layer <keras.layers.core.lambda_layer.Lambda object at 0x7f809e132fa0>, because it is not built.\n",
      "WARNING:tensorflow:Skipping full serialization of Keras layer <object_detection.core.freezable_batch_norm.FreezableBatchNorm object at 0x7f80a78b7520>, because it is not built.\n",
      "W0313 16:02:29.101022 4602283520 save_impl.py:71] Skipping full serialization of Keras layer <object_detection.core.freezable_batch_norm.FreezableBatchNorm object at 0x7f80a78b7520>, because it is not built.\n",
      "WARNING:tensorflow:Skipping full serialization of Keras layer <keras.layers.core.lambda_layer.Lambda object at 0x7f80a78b7fa0>, because it is not built.\n",
      "W0313 16:02:29.101112 4602283520 save_impl.py:71] Skipping full serialization of Keras layer <keras.layers.core.lambda_layer.Lambda object at 0x7f80a78b7fa0>, because it is not built.\n",
      "WARNING:tensorflow:Skipping full serialization of Keras layer <object_detection.core.freezable_batch_norm.FreezableBatchNorm object at 0x7f80a78b0550>, because it is not built.\n",
      "W0313 16:02:29.101200 4602283520 save_impl.py:71] Skipping full serialization of Keras layer <object_detection.core.freezable_batch_norm.FreezableBatchNorm object at 0x7f80a78b0550>, because it is not built.\n",
      "WARNING:tensorflow:Skipping full serialization of Keras layer <keras.layers.core.lambda_layer.Lambda object at 0x7f80a78b07c0>, because it is not built.\n",
      "W0313 16:02:29.101285 4602283520 save_impl.py:71] Skipping full serialization of Keras layer <keras.layers.core.lambda_layer.Lambda object at 0x7f80a78b07c0>, because it is not built.\n",
      "WARNING:tensorflow:Skipping full serialization of Keras layer <object_detection.core.freezable_batch_norm.FreezableBatchNorm object at 0x7f80a78b0400>, because it is not built.\n",
      "W0313 16:02:29.101372 4602283520 save_impl.py:71] Skipping full serialization of Keras layer <object_detection.core.freezable_batch_norm.FreezableBatchNorm object at 0x7f80a78b0400>, because it is not built.\n",
      "WARNING:tensorflow:Skipping full serialization of Keras layer <keras.layers.core.lambda_layer.Lambda object at 0x7f80a78b0790>, because it is not built.\n",
      "W0313 16:02:29.101464 4602283520 save_impl.py:71] Skipping full serialization of Keras layer <keras.layers.core.lambda_layer.Lambda object at 0x7f80a78b0790>, because it is not built.\n",
      "WARNING:tensorflow:Skipping full serialization of Keras layer <object_detection.core.freezable_batch_norm.FreezableBatchNorm object at 0x7f80a5e8f820>, because it is not built.\n",
      "W0313 16:02:29.101554 4602283520 save_impl.py:71] Skipping full serialization of Keras layer <object_detection.core.freezable_batch_norm.FreezableBatchNorm object at 0x7f80a5e8f820>, because it is not built.\n",
      "WARNING:tensorflow:Skipping full serialization of Keras layer <keras.layers.core.lambda_layer.Lambda object at 0x7f80a81222b0>, because it is not built.\n",
      "W0313 16:02:29.101634 4602283520 save_impl.py:71] Skipping full serialization of Keras layer <keras.layers.core.lambda_layer.Lambda object at 0x7f80a81222b0>, because it is not built.\n",
      "WARNING:tensorflow:Skipping full serialization of Keras layer <object_detection.core.freezable_batch_norm.FreezableBatchNorm object at 0x7f80a78e6f70>, because it is not built.\n",
      "W0313 16:02:29.101727 4602283520 save_impl.py:71] Skipping full serialization of Keras layer <object_detection.core.freezable_batch_norm.FreezableBatchNorm object at 0x7f80a78e6f70>, because it is not built.\n",
      "WARNING:tensorflow:Skipping full serialization of Keras layer <keras.layers.core.lambda_layer.Lambda object at 0x7f80a78e6400>, because it is not built.\n",
      "W0313 16:02:29.101814 4602283520 save_impl.py:71] Skipping full serialization of Keras layer <keras.layers.core.lambda_layer.Lambda object at 0x7f80a78e6400>, because it is not built.\n",
      "WARNING:tensorflow:Skipping full serialization of Keras layer <object_detection.core.freezable_batch_norm.FreezableBatchNorm object at 0x7f80a78e65e0>, because it is not built.\n",
      "W0313 16:02:29.101904 4602283520 save_impl.py:71] Skipping full serialization of Keras layer <object_detection.core.freezable_batch_norm.FreezableBatchNorm object at 0x7f80a78e65e0>, because it is not built.\n",
      "WARNING:tensorflow:Skipping full serialization of Keras layer <keras.layers.core.lambda_layer.Lambda object at 0x7f80a78e61f0>, because it is not built.\n",
      "W0313 16:02:29.101994 4602283520 save_impl.py:71] Skipping full serialization of Keras layer <keras.layers.core.lambda_layer.Lambda object at 0x7f80a78e61f0>, because it is not built.\n",
      "WARNING:tensorflow:Skipping full serialization of Keras layer <object_detection.core.freezable_batch_norm.FreezableBatchNorm object at 0x7f80a78e64f0>, because it is not built.\n",
      "W0313 16:02:29.102073 4602283520 save_impl.py:71] Skipping full serialization of Keras layer <object_detection.core.freezable_batch_norm.FreezableBatchNorm object at 0x7f80a78e64f0>, because it is not built.\n",
      "WARNING:tensorflow:Skipping full serialization of Keras layer <keras.layers.core.lambda_layer.Lambda object at 0x7f80a78e6190>, because it is not built.\n",
      "W0313 16:02:29.102172 4602283520 save_impl.py:71] Skipping full serialization of Keras layer <keras.layers.core.lambda_layer.Lambda object at 0x7f80a78e6190>, because it is not built.\n",
      "WARNING:tensorflow:Skipping full serialization of Keras layer <object_detection.core.freezable_batch_norm.FreezableBatchNorm object at 0x7f80a5e8f850>, because it is not built.\n",
      "W0313 16:02:29.102258 4602283520 save_impl.py:71] Skipping full serialization of Keras layer <object_detection.core.freezable_batch_norm.FreezableBatchNorm object at 0x7f80a5e8f850>, because it is not built.\n",
      "WARNING:tensorflow:Skipping full serialization of Keras layer <keras.layers.core.lambda_layer.Lambda object at 0x7f80a7901670>, because it is not built.\n",
      "W0313 16:02:29.102349 4602283520 save_impl.py:71] Skipping full serialization of Keras layer <keras.layers.core.lambda_layer.Lambda object at 0x7f80a7901670>, because it is not built.\n",
      "WARNING:tensorflow:Skipping full serialization of Keras layer <object_detection.core.freezable_batch_norm.FreezableBatchNorm object at 0x7f80a812f9a0>, because it is not built.\n",
      "W0313 16:02:29.102446 4602283520 save_impl.py:71] Skipping full serialization of Keras layer <object_detection.core.freezable_batch_norm.FreezableBatchNorm object at 0x7f80a812f9a0>, because it is not built.\n",
      "WARNING:tensorflow:Skipping full serialization of Keras layer <keras.layers.core.lambda_layer.Lambda object at 0x7f80a812fa30>, because it is not built.\n",
      "W0313 16:02:29.102535 4602283520 save_impl.py:71] Skipping full serialization of Keras layer <keras.layers.core.lambda_layer.Lambda object at 0x7f80a812fa30>, because it is not built.\n",
      "WARNING:tensorflow:Skipping full serialization of Keras layer <object_detection.core.freezable_batch_norm.FreezableBatchNorm object at 0x7f80a812fd30>, because it is not built.\n",
      "W0313 16:02:29.102618 4602283520 save_impl.py:71] Skipping full serialization of Keras layer <object_detection.core.freezable_batch_norm.FreezableBatchNorm object at 0x7f80a812fd30>, because it is not built.\n",
      "WARNING:tensorflow:Skipping full serialization of Keras layer <keras.layers.core.lambda_layer.Lambda object at 0x7f80a812fe80>, because it is not built.\n",
      "W0313 16:02:29.102704 4602283520 save_impl.py:71] Skipping full serialization of Keras layer <keras.layers.core.lambda_layer.Lambda object at 0x7f80a812fe80>, because it is not built.\n",
      "WARNING:tensorflow:Skipping full serialization of Keras layer <object_detection.core.freezable_batch_norm.FreezableBatchNorm object at 0x7f80a812fee0>, because it is not built.\n",
      "W0313 16:02:29.102879 4602283520 save_impl.py:71] Skipping full serialization of Keras layer <object_detection.core.freezable_batch_norm.FreezableBatchNorm object at 0x7f80a812fee0>, because it is not built.\n",
      "WARNING:tensorflow:Skipping full serialization of Keras layer <keras.layers.core.lambda_layer.Lambda object at 0x7f80a61f19d0>, because it is not built.\n",
      "W0313 16:02:29.102974 4602283520 save_impl.py:71] Skipping full serialization of Keras layer <keras.layers.core.lambda_layer.Lambda object at 0x7f80a61f19d0>, because it is not built.\n",
      "WARNING:tensorflow:Skipping full serialization of Keras layer <object_detection.core.freezable_batch_norm.FreezableBatchNorm object at 0x7f80a813b430>, because it is not built.\n",
      "W0313 16:02:29.103059 4602283520 save_impl.py:71] Skipping full serialization of Keras layer <object_detection.core.freezable_batch_norm.FreezableBatchNorm object at 0x7f80a813b430>, because it is not built.\n",
      "WARNING:tensorflow:Skipping full serialization of Keras layer <keras.layers.core.lambda_layer.Lambda object at 0x7f80a78ed9d0>, because it is not built.\n",
      "W0313 16:02:29.103144 4602283520 save_impl.py:71] Skipping full serialization of Keras layer <keras.layers.core.lambda_layer.Lambda object at 0x7f80a78ed9d0>, because it is not built.\n",
      "WARNING:tensorflow:Skipping full serialization of Keras layer <object_detection.core.freezable_batch_norm.FreezableBatchNorm object at 0x7f80a812beb0>, because it is not built.\n",
      "W0313 16:02:29.103235 4602283520 save_impl.py:71] Skipping full serialization of Keras layer <object_detection.core.freezable_batch_norm.FreezableBatchNorm object at 0x7f80a812beb0>, because it is not built.\n",
      "WARNING:tensorflow:Skipping full serialization of Keras layer <keras.layers.core.lambda_layer.Lambda object at 0x7f80a812b9a0>, because it is not built.\n",
      "W0313 16:02:29.103323 4602283520 save_impl.py:71] Skipping full serialization of Keras layer <keras.layers.core.lambda_layer.Lambda object at 0x7f80a812b9a0>, because it is not built.\n",
      "WARNING:tensorflow:Skipping full serialization of Keras layer <object_detection.core.freezable_batch_norm.FreezableBatchNorm object at 0x7f80a812bd90>, because it is not built.\n",
      "W0313 16:02:29.103413 4602283520 save_impl.py:71] Skipping full serialization of Keras layer <object_detection.core.freezable_batch_norm.FreezableBatchNorm object at 0x7f80a812bd90>, because it is not built.\n",
      "WARNING:tensorflow:Skipping full serialization of Keras layer <keras.layers.core.lambda_layer.Lambda object at 0x7f80a812b100>, because it is not built.\n",
      "W0313 16:02:29.103502 4602283520 save_impl.py:71] Skipping full serialization of Keras layer <keras.layers.core.lambda_layer.Lambda object at 0x7f80a812b100>, because it is not built.\n",
      "WARNING:tensorflow:Skipping full serialization of Keras layer <object_detection.core.freezable_batch_norm.FreezableBatchNorm object at 0x7f80a812b5b0>, because it is not built.\n",
      "W0313 16:02:29.103589 4602283520 save_impl.py:71] Skipping full serialization of Keras layer <object_detection.core.freezable_batch_norm.FreezableBatchNorm object at 0x7f80a812b5b0>, because it is not built.\n",
      "WARNING:tensorflow:Skipping full serialization of Keras layer <keras.layers.core.lambda_layer.Lambda object at 0x7f80a812b910>, because it is not built.\n",
      "W0313 16:02:29.103677 4602283520 save_impl.py:71] Skipping full serialization of Keras layer <keras.layers.core.lambda_layer.Lambda object at 0x7f80a812b910>, because it is not built.\n"
     ]
    },
    {
     "name": "stdout",
     "output_type": "stream",
     "text": [
      "W0313 16:02:51.228364 4602283520 save.py:260] Found untraced functions such as WeightSharedConvolutionalBoxPredictor_layer_call_fn, WeightSharedConvolutionalBoxPredictor_layer_call_and_return_conditional_losses, WeightSharedConvolutionalBoxHead_layer_call_fn, WeightSharedConvolutionalBoxHead_layer_call_and_return_conditional_losses, WeightSharedConvolutionalClassHead_layer_call_fn while saving (showing 5 of 104). These functions will not be directly callable after loading.\n",
      "INFO:tensorflow:Assets written to: Tensorflow/workspace/models/Ant/export/saved_model/assets\n",
      "I0313 16:02:57.756685 4602283520 builder_impl.py:779] Assets written to: Tensorflow/workspace/models/Ant/export/saved_model/assets\n",
      "INFO:tensorflow:Writing pipeline config file to Tensorflow/workspace/models/Ant/export/pipeline.config\n",
      "I0313 16:02:58.987967 4602283520 config_util.py:253] Writing pipeline config file to Tensorflow/workspace/models/Ant/export/pipeline.config\n"
     ]
    }
   ],
   "source": [
    "!{command}"
   ]
  },
  {
   "cell_type": "markdown",
   "metadata": {
    "id": "wTPmdqaXpfDK"
   },
   "source": [
    "# 11. Conversion to TFJS"
   ]
  },
  {
   "cell_type": "code",
   "execution_count": 19,
   "metadata": {
    "colab": {
     "base_uri": "https://localhost:8080/"
    },
    "id": "gZ6UzY_fpfDK",
    "outputId": "0c84722e-1c2b-4002-d857-80827ade828a",
    "scrolled": true
   },
   "outputs": [
    {
     "name": "stdout",
     "output_type": "stream",
     "text": [
      "Collecting tensorflowjs\n",
      "  Using cached tensorflowjs-3.3.0-py3-none-any.whl (63 kB)\n",
      "Requirement already satisfied: six<2,>=1.12.0 in d:\\youtube\\od\\tfodcourse\\tfod\\lib\\site-packages (from tensorflowjs) (1.15.0)\n",
      "Collecting tensorflow-hub<0.10,>=0.7.0\n",
      "  Using cached tensorflow_hub-0.9.0-py2.py3-none-any.whl (103 kB)\n",
      "Requirement already satisfied: h5py<3,>=2.8.0 in d:\\youtube\\od\\tfodcourse\\tfod\\lib\\site-packages (from tensorflowjs) (2.10.0)\n",
      "Requirement already satisfied: tensorflow<3,>=2.1.0 in d:\\youtube\\od\\tfodcourse\\tfod\\lib\\site-packages (from tensorflowjs) (2.4.0)\n",
      "Requirement already satisfied: numpy>=1.7 in d:\\youtube\\od\\tfodcourse\\tfod\\lib\\site-packages (from h5py<3,>=2.8.0->tensorflowjs) (1.19.5)\n",
      "Requirement already satisfied: flatbuffers~=1.12.0 in d:\\youtube\\od\\tfodcourse\\tfod\\lib\\site-packages (from tensorflow<3,>=2.1.0->tensorflowjs) (1.12)\n",
      "Requirement already satisfied: gast==0.3.3 in d:\\youtube\\od\\tfodcourse\\tfod\\lib\\site-packages (from tensorflow<3,>=2.1.0->tensorflowjs) (0.3.3)\n",
      "Requirement already satisfied: wrapt~=1.12.1 in d:\\youtube\\od\\tfodcourse\\tfod\\lib\\site-packages (from tensorflow<3,>=2.1.0->tensorflowjs) (1.12.1)\n",
      "Requirement already satisfied: tensorboard~=2.4 in d:\\youtube\\od\\tfodcourse\\tfod\\lib\\site-packages (from tensorflow<3,>=2.1.0->tensorflowjs) (2.4.1)\n",
      "Requirement already satisfied: termcolor~=1.1.0 in d:\\youtube\\od\\tfodcourse\\tfod\\lib\\site-packages (from tensorflow<3,>=2.1.0->tensorflowjs) (1.1.0)\n",
      "Requirement already satisfied: protobuf>=3.9.2 in d:\\youtube\\od\\tfodcourse\\tfod\\lib\\site-packages (from tensorflow<3,>=2.1.0->tensorflowjs) (3.15.7)\n",
      "Requirement already satisfied: wheel~=0.35 in d:\\youtube\\od\\tfodcourse\\tfod\\lib\\site-packages (from tensorflow<3,>=2.1.0->tensorflowjs) (0.36.2)\n",
      "Requirement already satisfied: tensorflow-estimator<2.5.0,>=2.4.0rc0 in d:\\youtube\\od\\tfodcourse\\tfod\\lib\\site-packages (from tensorflow<3,>=2.1.0->tensorflowjs) (2.4.0)\n",
      "Requirement already satisfied: absl-py~=0.10 in d:\\youtube\\od\\tfodcourse\\tfod\\lib\\site-packages (from tensorflow<3,>=2.1.0->tensorflowjs) (0.12.0)\n",
      "Requirement already satisfied: opt-einsum~=3.3.0 in d:\\youtube\\od\\tfodcourse\\tfod\\lib\\site-packages (from tensorflow<3,>=2.1.0->tensorflowjs) (3.3.0)\n",
      "Requirement already satisfied: grpcio~=1.32.0 in d:\\youtube\\od\\tfodcourse\\tfod\\lib\\site-packages (from tensorflow<3,>=2.1.0->tensorflowjs) (1.32.0)\n",
      "Requirement already satisfied: keras-preprocessing~=1.1.2 in d:\\youtube\\od\\tfodcourse\\tfod\\lib\\site-packages (from tensorflow<3,>=2.1.0->tensorflowjs) (1.1.2)\n",
      "Requirement already satisfied: astunparse~=1.6.3 in d:\\youtube\\od\\tfodcourse\\tfod\\lib\\site-packages (from tensorflow<3,>=2.1.0->tensorflowjs) (1.6.3)\n",
      "Requirement already satisfied: typing-extensions~=3.7.4 in d:\\youtube\\od\\tfodcourse\\tfod\\lib\\site-packages\\typing_extensions-3.7.4.3-py3.7.egg (from tensorflow<3,>=2.1.0->tensorflowjs) (3.7.4.3)\n",
      "Requirement already satisfied: google-pasta~=0.2 in d:\\youtube\\od\\tfodcourse\\tfod\\lib\\site-packages (from tensorflow<3,>=2.1.0->tensorflowjs) (0.2.0)\n",
      "Requirement already satisfied: google-auth-oauthlib<0.5,>=0.4.1 in d:\\youtube\\od\\tfodcourse\\tfod\\lib\\site-packages (from tensorboard~=2.4->tensorflow<3,>=2.1.0->tensorflowjs) (0.4.4)\n",
      "Requirement already satisfied: werkzeug>=0.11.15 in d:\\youtube\\od\\tfodcourse\\tfod\\lib\\site-packages (from tensorboard~=2.4->tensorflow<3,>=2.1.0->tensorflowjs) (1.0.1)\n",
      "Requirement already satisfied: requests<3,>=2.21.0 in d:\\youtube\\od\\tfodcourse\\tfod\\lib\\site-packages\\requests-2.25.1-py3.7.egg (from tensorboard~=2.4->tensorflow<3,>=2.1.0->tensorflowjs) (2.25.1)\n",
      "Requirement already satisfied: google-auth<2,>=1.6.3 in d:\\youtube\\od\\tfodcourse\\tfod\\lib\\site-packages (from tensorboard~=2.4->tensorflow<3,>=2.1.0->tensorflowjs) (1.28.0)\n",
      "Requirement already satisfied: setuptools>=41.0.0 in d:\\youtube\\od\\tfodcourse\\tfod\\lib\\site-packages (from tensorboard~=2.4->tensorflow<3,>=2.1.0->tensorflowjs) (54.2.0)\n",
      "Requirement already satisfied: markdown>=2.6.8 in d:\\youtube\\od\\tfodcourse\\tfod\\lib\\site-packages (from tensorboard~=2.4->tensorflow<3,>=2.1.0->tensorflowjs) (3.3.4)\n",
      "Requirement already satisfied: tensorboard-plugin-wit>=1.6.0 in d:\\youtube\\od\\tfodcourse\\tfod\\lib\\site-packages (from tensorboard~=2.4->tensorflow<3,>=2.1.0->tensorflowjs) (1.8.0)\n",
      "Requirement already satisfied: rsa<5,>=3.1.4 in d:\\youtube\\od\\tfodcourse\\tfod\\lib\\site-packages (from google-auth<2,>=1.6.3->tensorboard~=2.4->tensorflow<3,>=2.1.0->tensorflowjs) (4.7.2)\n",
      "Requirement already satisfied: pyasn1-modules>=0.2.1 in d:\\youtube\\od\\tfodcourse\\tfod\\lib\\site-packages (from google-auth<2,>=1.6.3->tensorboard~=2.4->tensorflow<3,>=2.1.0->tensorflowjs) (0.2.8)\n",
      "Requirement already satisfied: cachetools<5.0,>=2.0.0 in d:\\youtube\\od\\tfodcourse\\tfod\\lib\\site-packages (from google-auth<2,>=1.6.3->tensorboard~=2.4->tensorflow<3,>=2.1.0->tensorflowjs) (4.2.1)\n",
      "Requirement already satisfied: requests-oauthlib>=0.7.0 in d:\\youtube\\od\\tfodcourse\\tfod\\lib\\site-packages (from google-auth-oauthlib<0.5,>=0.4.1->tensorboard~=2.4->tensorflow<3,>=2.1.0->tensorflowjs) (1.3.0)\n",
      "Requirement already satisfied: importlib-metadata in d:\\youtube\\od\\tfodcourse\\tfod\\lib\\site-packages (from markdown>=2.6.8->tensorboard~=2.4->tensorflow<3,>=2.1.0->tensorflowjs) (3.10.0)\n",
      "Requirement already satisfied: pyasn1<0.5.0,>=0.4.6 in d:\\youtube\\od\\tfodcourse\\tfod\\lib\\site-packages (from pyasn1-modules>=0.2.1->google-auth<2,>=1.6.3->tensorboard~=2.4->tensorflow<3,>=2.1.0->tensorflowjs) (0.4.8)\n",
      "Requirement already satisfied: certifi>=2017.4.17 in d:\\youtube\\od\\tfodcourse\\tfod\\lib\\site-packages (from requests<3,>=2.21.0->tensorboard~=2.4->tensorflow<3,>=2.1.0->tensorflowjs) (2020.12.5)\n",
      "Requirement already satisfied: chardet<5,>=3.0.2 in d:\\youtube\\od\\tfodcourse\\tfod\\lib\\site-packages (from requests<3,>=2.21.0->tensorboard~=2.4->tensorflow<3,>=2.1.0->tensorflowjs) (4.0.0)\n",
      "Requirement already satisfied: idna<3,>=2.5 in d:\\youtube\\od\\tfodcourse\\tfod\\lib\\site-packages (from requests<3,>=2.21.0->tensorboard~=2.4->tensorflow<3,>=2.1.0->tensorflowjs) (2.10)\n",
      "Requirement already satisfied: urllib3<1.27,>=1.21.1 in d:\\youtube\\od\\tfodcourse\\tfod\\lib\\site-packages (from requests<3,>=2.21.0->tensorboard~=2.4->tensorflow<3,>=2.1.0->tensorflowjs) (1.26.4)\n",
      "Requirement already satisfied: oauthlib>=3.0.0 in d:\\youtube\\od\\tfodcourse\\tfod\\lib\\site-packages (from requests-oauthlib>=0.7.0->google-auth-oauthlib<0.5,>=0.4.1->tensorboard~=2.4->tensorflow<3,>=2.1.0->tensorflowjs) (3.1.0)\n",
      "Requirement already satisfied: zipp>=0.5 in d:\\youtube\\od\\tfodcourse\\tfod\\lib\\site-packages (from importlib-metadata->markdown>=2.6.8->tensorboard~=2.4->tensorflow<3,>=2.1.0->tensorflowjs) (3.4.1)\n",
      "Installing collected packages: tensorflow-hub, tensorflowjs\n",
      "  Attempting uninstall: tensorflow-hub\n",
      "    Found existing installation: tensorflow-hub 0.11.0\n",
      "    Uninstalling tensorflow-hub-0.11.0:\n",
      "      Successfully uninstalled tensorflow-hub-0.11.0\n",
      "Successfully installed tensorflow-hub-0.9.0 tensorflowjs-3.3.0\n"
     ]
    }
   ],
   "source": [
    "!pip install tensorflowjs"
   ]
  },
  {
   "cell_type": "code",
   "execution_count": 20,
   "metadata": {
    "id": "0oxbVynHpfDK"
   },
   "outputs": [],
   "source": [
    "command = \"tensorflowjs_converter --input_format=tf_saved_model --output_node_names='detection_boxes,detection_classes,detection_features,detection_multiclass_scores,detection_scores,num_detections,raw_detection_boxes,raw_detection_scores' --output_format=tfjs_graph_model --signature_name=serving_default {} {}\".format(os.path.join(paths['OUTPUT_PATH'], 'saved_model'), paths['TFJS_PATH'])"
   ]
  },
  {
   "cell_type": "code",
   "execution_count": 21,
   "metadata": {
    "colab": {
     "base_uri": "https://localhost:8080/"
    },
    "id": "DB2AGNmJpfDK",
    "outputId": "fbc9f747-f511-47e8-df8f-5ea65cef0374"
   },
   "outputs": [
    {
     "name": "stdout",
     "output_type": "stream",
     "text": [
      "tensorflowjs_converter --input_format=tf_saved_model --output_node_names='detection_boxes,detection_classes,detection_features,detection_multiclass_scores,detection_scores,num_detections,raw_detection_boxes,raw_detection_scores' --output_format=tfjs_graph_model --signature_name=serving_default Tensorflow\\workspace\\models\\my_ssd_mobnet\\export\\saved_model Tensorflow\\workspace\\models\\my_ssd_mobnet\\tfjsexport\n"
     ]
    }
   ],
   "source": [
    "print(command)"
   ]
  },
  {
   "cell_type": "code",
   "execution_count": 22,
   "metadata": {
    "colab": {
     "base_uri": "https://localhost:8080/"
    },
    "id": "K7rfT4-hpfDK",
    "outputId": "532707fd-6feb-4bc6-84a3-325b5d16303c"
   },
   "outputs": [
    {
     "name": "stdout",
     "output_type": "stream",
     "text": [
      "Writing weight file Tensorflow\\workspace\\models\\my_ssd_mobnet\\tfjsexport\\model.json...\n"
     ]
    },
    {
     "name": "stderr",
     "output_type": "stream",
     "text": [
      "2021-04-03 11:54:23.153051: I tensorflow/stream_executor/platform/default/dso_loader.cc:49] Successfully opened dynamic library cudart64_110.dll\n",
      "2021-04-03 11:54:25.644887: I tensorflow/compiler/jit/xla_cpu_device.cc:41] Not creating XLA devices, tf_xla_enable_xla_devices not set\n",
      "2021-04-03 11:54:25.645576: I tensorflow/stream_executor/platform/default/dso_loader.cc:49] Successfully opened dynamic library nvcuda.dll\n",
      "2021-04-03 11:54:25.667969: I tensorflow/core/common_runtime/gpu/gpu_device.cc:1720] Found device 0 with properties: \n",
      "pciBusID: 0000:2b:00.0 name: GeForce RTX 2070 SUPER computeCapability: 7.5\n",
      "coreClock: 1.785GHz coreCount: 40 deviceMemorySize: 8.00GiB deviceMemoryBandwidth: 417.29GiB/s\n",
      "2021-04-03 11:54:25.668001: I tensorflow/stream_executor/platform/default/dso_loader.cc:49] Successfully opened dynamic library cudart64_110.dll\n",
      "2021-04-03 11:54:25.671400: I tensorflow/stream_executor/platform/default/dso_loader.cc:49] Successfully opened dynamic library cublas64_11.dll\n",
      "2021-04-03 11:54:25.671416: I tensorflow/stream_executor/platform/default/dso_loader.cc:49] Successfully opened dynamic library cublasLt64_11.dll\n",
      "2021-04-03 11:54:25.673240: I tensorflow/stream_executor/platform/default/dso_loader.cc:49] Successfully opened dynamic library cufft64_10.dll\n",
      "2021-04-03 11:54:25.673772: I tensorflow/stream_executor/platform/default/dso_loader.cc:49] Successfully opened dynamic library curand64_10.dll\n",
      "2021-04-03 11:54:25.677306: I tensorflow/stream_executor/platform/default/dso_loader.cc:49] Successfully opened dynamic library cusolver64_10.dll\n",
      "2021-04-03 11:54:25.678684: I tensorflow/stream_executor/platform/default/dso_loader.cc:49] Successfully opened dynamic library cusparse64_11.dll\n",
      "2021-04-03 11:54:25.679228: I tensorflow/stream_executor/platform/default/dso_loader.cc:49] Successfully opened dynamic library cudnn64_8.dll\n",
      "2021-04-03 11:54:25.679291: I tensorflow/core/common_runtime/gpu/gpu_device.cc:1862] Adding visible gpu devices: 0\n",
      "2021-04-03 11:54:25.679494: I tensorflow/core/platform/cpu_feature_guard.cc:142] This TensorFlow binary is optimized with oneAPI Deep Neural Network Library (oneDNN) to use the following CPU instructions in performance-critical operations:  AVX2\n",
      "To enable them in other operations, rebuild TensorFlow with the appropriate compiler flags.\n",
      "2021-04-03 11:54:25.680122: I tensorflow/core/common_runtime/gpu/gpu_device.cc:1720] Found device 0 with properties: \n",
      "pciBusID: 0000:2b:00.0 name: GeForce RTX 2070 SUPER computeCapability: 7.5\n",
      "coreClock: 1.785GHz coreCount: 40 deviceMemorySize: 8.00GiB deviceMemoryBandwidth: 417.29GiB/s\n",
      "2021-04-03 11:54:25.680135: I tensorflow/stream_executor/platform/default/dso_loader.cc:49] Successfully opened dynamic library cudart64_110.dll\n",
      "2021-04-03 11:54:25.680141: I tensorflow/stream_executor/platform/default/dso_loader.cc:49] Successfully opened dynamic library cublas64_11.dll\n",
      "2021-04-03 11:54:25.680148: I tensorflow/stream_executor/platform/default/dso_loader.cc:49] Successfully opened dynamic library cublasLt64_11.dll\n",
      "2021-04-03 11:54:25.680152: I tensorflow/stream_executor/platform/default/dso_loader.cc:49] Successfully opened dynamic library cufft64_10.dll\n",
      "2021-04-03 11:54:25.680158: I tensorflow/stream_executor/platform/default/dso_loader.cc:49] Successfully opened dynamic library curand64_10.dll\n",
      "2021-04-03 11:54:25.680163: I tensorflow/stream_executor/platform/default/dso_loader.cc:49] Successfully opened dynamic library cusolver64_10.dll\n",
      "2021-04-03 11:54:25.680167: I tensorflow/stream_executor/platform/default/dso_loader.cc:49] Successfully opened dynamic library cusparse64_11.dll\n",
      "2021-04-03 11:54:25.680171: I tensorflow/stream_executor/platform/default/dso_loader.cc:49] Successfully opened dynamic library cudnn64_8.dll\n",
      "2021-04-03 11:54:25.680197: I tensorflow/core/common_runtime/gpu/gpu_device.cc:1862] Adding visible gpu devices: 0\n",
      "2021-04-03 11:54:26.114383: I tensorflow/core/common_runtime/gpu/gpu_device.cc:1261] Device interconnect StreamExecutor with strength 1 edge matrix:\n",
      "2021-04-03 11:54:26.114403: I tensorflow/core/common_runtime/gpu/gpu_device.cc:1267]      0 \n",
      "2021-04-03 11:54:26.114407: I tensorflow/core/common_runtime/gpu/gpu_device.cc:1280] 0:   N \n",
      "2021-04-03 11:54:26.114533: I tensorflow/core/common_runtime/gpu/gpu_device.cc:1406] Created TensorFlow device (/job:localhost/replica:0/task:0/device:GPU:0 with 6611 MB memory) -> physical GPU (device: 0, name: GeForce RTX 2070 SUPER, pci bus id: 0000:2b:00.0, compute capability: 7.5)\n",
      "2021-04-03 11:54:26.114935: I tensorflow/compiler/jit/xla_gpu_device.cc:99] Not creating XLA devices, tf_xla_enable_xla_devices not set\n",
      "2021-04-03 11:54:34.068925: I tensorflow/core/grappler/devices.cc:69] Number of eligible GPUs (core count >= 8, compute capability >= 0.0): 1\n",
      "2021-04-03 11:54:34.069068: I tensorflow/core/grappler/clusters/single_machine.cc:356] Starting new session\n",
      "2021-04-03 11:54:34.070081: I tensorflow/core/common_runtime/gpu/gpu_device.cc:1720] Found device 0 with properties: \n",
      "pciBusID: 0000:2b:00.0 name: GeForce RTX 2070 SUPER computeCapability: 7.5\n",
      "coreClock: 1.785GHz coreCount: 40 deviceMemorySize: 8.00GiB deviceMemoryBandwidth: 417.29GiB/s\n",
      "2021-04-03 11:54:34.070099: I tensorflow/stream_executor/platform/default/dso_loader.cc:49] Successfully opened dynamic library cudart64_110.dll\n",
      "2021-04-03 11:54:34.070106: I tensorflow/stream_executor/platform/default/dso_loader.cc:49] Successfully opened dynamic library cublas64_11.dll\n",
      "2021-04-03 11:54:34.070112: I tensorflow/stream_executor/platform/default/dso_loader.cc:49] Successfully opened dynamic library cublasLt64_11.dll\n",
      "2021-04-03 11:54:34.070119: I tensorflow/stream_executor/platform/default/dso_loader.cc:49] Successfully opened dynamic library cufft64_10.dll\n",
      "2021-04-03 11:54:34.070123: I tensorflow/stream_executor/platform/default/dso_loader.cc:49] Successfully opened dynamic library curand64_10.dll\n",
      "2021-04-03 11:54:34.070130: I tensorflow/stream_executor/platform/default/dso_loader.cc:49] Successfully opened dynamic library cusolver64_10.dll\n",
      "2021-04-03 11:54:34.070134: I tensorflow/stream_executor/platform/default/dso_loader.cc:49] Successfully opened dynamic library cusparse64_11.dll\n",
      "2021-04-03 11:54:34.070141: I tensorflow/stream_executor/platform/default/dso_loader.cc:49] Successfully opened dynamic library cudnn64_8.dll\n",
      "2021-04-03 11:54:34.070164: I tensorflow/core/common_runtime/gpu/gpu_device.cc:1862] Adding visible gpu devices: 0\n",
      "2021-04-03 11:54:34.070202: I tensorflow/core/common_runtime/gpu/gpu_device.cc:1261] Device interconnect StreamExecutor with strength 1 edge matrix:\n",
      "2021-04-03 11:54:34.070208: I tensorflow/core/common_runtime/gpu/gpu_device.cc:1267]      0 \n",
      "2021-04-03 11:54:34.070211: I tensorflow/core/common_runtime/gpu/gpu_device.cc:1280] 0:   N \n",
      "2021-04-03 11:54:34.070267: I tensorflow/core/common_runtime/gpu/gpu_device.cc:1406] Created TensorFlow device (/job:localhost/replica:0/task:0/device:GPU:0 with 6611 MB memory) -> physical GPU (device: 0, name: GeForce RTX 2070 SUPER, pci bus id: 0000:2b:00.0, compute capability: 7.5)\n",
      "2021-04-03 11:54:34.070284: I tensorflow/compiler/jit/xla_gpu_device.cc:99] Not creating XLA devices, tf_xla_enable_xla_devices not set\n",
      "2021-04-03 11:54:34.396918: I tensorflow/core/grappler/optimizers/meta_optimizer.cc:928] Optimization results for grappler item: graph_to_optimize\n",
      "  function_optimizer: Graph size after: 4000 nodes (3591), 8430 edges (8014), time = 217.05ms.\n",
      "  function_optimizer: function_optimizer did nothing. time = 4.085ms.\n",
      "\n",
      "2021-04-03 11:54:37.417793: I tensorflow/core/grappler/optimizers/meta_optimizer.cc:928] Optimization results for grappler item: graph_to_optimize\n",
      "  debug_stripper: Graph size after: 3683 nodes (0), 8201 edges (0), time = 79.922ms.\n",
      "  model_pruner: Graph size after: 3232 nodes (-451), 7750 edges (-451), time = 125.865ms.\n",
      "  constant_folding: Graph size after: 1551 nodes (-1681), 5834 edges (-1916), time = 199.089ms.\n",
      "  arithmetic_optimizer: Graph size after: 1551 nodes (0), 5834 edges (0), time = 33.234ms.\n",
      "  dependency_optimizer: Graph size after: 1453 nodes (-98), 1650 edges (-4184), time = 22.074ms.\n",
      "  model_pruner: Graph size after: 1453 nodes (0), 1650 edges (0), time = 9.534ms.\n",
      "  constant_folding: Graph size after: 1453 nodes (0), 1650 edges (0), time = 29.71ms.\n",
      "  arithmetic_optimizer: Graph size after: 1453 nodes (0), 1650 edges (0), time = 22.603ms.\n",
      "  dependency_optimizer: Graph size after: 1453 nodes (0), 1650 edges (0), time = 14.027ms.\n",
      "  debug_stripper: debug_stripper did nothing. time = 1.378ms.\n",
      "  model_pruner: Graph size after: 1453 nodes (0), 1650 edges (0), time = 7.504ms.\n",
      "  constant_folding: Graph size after: 1453 nodes (0), 1650 edges (0), time = 29.06ms.\n",
      "  arithmetic_optimizer: Graph size after: 1453 nodes (0), 1650 edges (0), time = 23.745ms.\n",
      "  dependency_optimizer: Graph size after: 1453 nodes (0), 1650 edges (0), time = 12.714ms.\n",
      "  model_pruner: Graph size after: 1453 nodes (0), 1650 edges (0), time = 8.842ms.\n",
      "  constant_folding: Graph size after: 1453 nodes (0), 1650 edges (0), time = 29.59ms.\n",
      "  arithmetic_optimizer: Graph size after: 1453 nodes (0), 1650 edges (0), time = 23.085ms.\n",
      "  dependency_optimizer: Graph size after: 1453 nodes (0), 1650 edges (0), time = 14.073ms.\n",
      "\n",
      "2021-04-03 11:54:45.020557: I tensorflow/core/grappler/optimizers/meta_optimizer.cc:928] Optimization results for grappler item: graph_to_optimize\n",
      "  remapper: Graph size after: 1415 nodes (-114), 1308 edges (-114), time = 6.93ms.\n",
      "  constant_folding: Graph size after: 1111 nodes (-304), 1308 edges (0), time = 45.571ms.\n",
      "  arithmetic_optimizer: Graph size after: 1111 nodes (0), 1308 edges (0), time = 18.394ms.\n",
      "  dependency_optimizer: Graph size after: 1111 nodes (0), 1308 edges (0), time = 9.992ms.\n",
      "  remapper: Graph size after: 1111 nodes (0), 1308 edges (0), time = 5.143ms.\n",
      "  constant_folding: Graph size after: 1111 nodes (0), 1308 edges (0), time = 22.813ms.\n",
      "  arithmetic_optimizer: Graph size after: 1111 nodes (0), 1308 edges (0), time = 18.23ms.\n",
      "  dependency_optimizer: Graph size after: 1111 nodes (0), 1308 edges (0), time = 9.571ms.\n",
      "\n"
     ]
    }
   ],
   "source": [
    "!{command}"
   ]
  },
  {
   "cell_type": "code",
   "execution_count": null,
   "metadata": {
    "id": "o8_hm-itpfDK"
   },
   "outputs": [],
   "source": [
    "# Test Code: https://github.com/nicknochnack/RealTimeSignLanguageDetectionwithTFJS"
   ]
  },
  {
   "cell_type": "markdown",
   "metadata": {
    "id": "VtUw73FHpfDK"
   },
   "source": [
    "# 12. Conversion to TFLite"
   ]
  },
  {
   "cell_type": "code",
   "execution_count": 16,
   "metadata": {
    "id": "XviMtewLpfDK"
   },
   "outputs": [],
   "source": [
    "TFLITE_SCRIPT = os.path.join(paths['APIMODEL_PATH'], 'research', 'object_detection', 'export_tflite_graph_tf2.py ')"
   ]
  },
  {
   "cell_type": "code",
   "execution_count": 17,
   "metadata": {
    "id": "us86cjC4pfDL"
   },
   "outputs": [],
   "source": [
    "command = \"python {} --pipeline_config_path={} --trained_checkpoint_dir={} --output_directory={}\".format(TFLITE_SCRIPT ,files['PIPELINE_CONFIG'], paths['CHECKPOINT_PATH'], paths['TFLITE_PATH'])"
   ]
  },
  {
   "cell_type": "code",
   "execution_count": 18,
   "metadata": {
    "colab": {
     "base_uri": "https://localhost:8080/"
    },
    "id": "n1r5YO3rpfDL",
    "outputId": "5fcdf7a4-eee2-4365-f1ca-1751968379ea"
   },
   "outputs": [
    {
     "name": "stdout",
     "output_type": "stream",
     "text": [
      "python Tensorflow/models/research/object_detection/export_tflite_graph_tf2.py  --pipeline_config_path=Tensorflow/workspace/models/Ant/pipeline.config --trained_checkpoint_dir=Tensorflow/workspace/models/Ant --output_directory=Tensorflow/workspace/models/Ant/tfliteexport\n"
     ]
    }
   ],
   "source": [
    "print(command)"
   ]
  },
  {
   "cell_type": "code",
   "execution_count": 19,
   "metadata": {
    "colab": {
     "base_uri": "https://localhost:8080/"
    },
    "id": "I-xWpHN8pfDL",
    "outputId": "7f6bacd8-d077-43b5-c131-5b081fba24a4"
   },
   "outputs": [
    {
     "name": "stdout",
     "output_type": "stream",
     "text": [
      "2022-03-13 16:03:25.077309: I tensorflow/core/platform/cpu_feature_guard.cc:151] This TensorFlow binary is optimized with oneAPI Deep Neural Network Library (oneDNN) to use the following CPU instructions in performance-critical operations:  AVX2 FMA\n",
      "To enable them in other operations, rebuild TensorFlow with the appropriate compiler flags.\n",
      "2022-03-13 16:03:36.821707: W tensorflow/python/util/util.cc:368] Sets are not currently considered sequences, but this may change in the future, so consider avoiding using them.\n",
      "WARNING:tensorflow:Skipping full serialization of Keras layer <object_detection.meta_architectures.ssd_meta_arch.SSDMetaArch object at 0x7f81a5d4e1f0>, because it is not built.\n",
      "W0313 16:03:39.302490 4523173376 save_impl.py:71] Skipping full serialization of Keras layer <object_detection.meta_architectures.ssd_meta_arch.SSDMetaArch object at 0x7f81a5d4e1f0>, because it is not built.\n",
      "WARNING:tensorflow:Skipping full serialization of Keras layer <keras.layers.convolutional.SeparableConv2D object at 0x7f81a5d4edc0>, because it is not built.\n",
      "W0313 16:03:39.604626 4523173376 save_impl.py:71] Skipping full serialization of Keras layer <keras.layers.convolutional.SeparableConv2D object at 0x7f81a5d4edc0>, because it is not built.\n",
      "WARNING:tensorflow:Skipping full serialization of Keras layer <object_detection.core.freezable_batch_norm.FreezableBatchNorm object at 0x7f81a76b90a0>, because it is not built.\n",
      "W0313 16:03:39.604866 4523173376 save_impl.py:71] Skipping full serialization of Keras layer <object_detection.core.freezable_batch_norm.FreezableBatchNorm object at 0x7f81a76b90a0>, because it is not built.\n",
      "WARNING:tensorflow:Skipping full serialization of Keras layer <keras.layers.core.lambda_layer.Lambda object at 0x7f81a76b99d0>, because it is not built.\n",
      "W0313 16:03:39.604979 4523173376 save_impl.py:71] Skipping full serialization of Keras layer <keras.layers.core.lambda_layer.Lambda object at 0x7f81a76b99d0>, because it is not built.\n",
      "WARNING:tensorflow:Skipping full serialization of Keras layer <keras.layers.convolutional.SeparableConv2D object at 0x7f81a76b9df0>, because it is not built.\n",
      "W0313 16:03:39.605073 4523173376 save_impl.py:71] Skipping full serialization of Keras layer <keras.layers.convolutional.SeparableConv2D object at 0x7f81a76b9df0>, because it is not built.\n",
      "WARNING:tensorflow:Skipping full serialization of Keras layer <object_detection.core.freezable_batch_norm.FreezableBatchNorm object at 0x7f81a76aedf0>, because it is not built.\n",
      "W0313 16:03:39.605167 4523173376 save_impl.py:71] Skipping full serialization of Keras layer <object_detection.core.freezable_batch_norm.FreezableBatchNorm object at 0x7f81a76aedf0>, because it is not built.\n",
      "WARNING:tensorflow:Skipping full serialization of Keras layer <keras.layers.core.lambda_layer.Lambda object at 0x7f81a60ce160>, because it is not built.\n",
      "W0313 16:03:39.605261 4523173376 save_impl.py:71] Skipping full serialization of Keras layer <keras.layers.core.lambda_layer.Lambda object at 0x7f81a60ce160>, because it is not built.\n",
      "WARNING:tensorflow:Skipping full serialization of Keras layer <keras.layers.convolutional.SeparableConv2D object at 0x7f819e2e23a0>, because it is not built.\n",
      "W0313 16:03:39.605354 4523173376 save_impl.py:71] Skipping full serialization of Keras layer <keras.layers.convolutional.SeparableConv2D object at 0x7f819e2e23a0>, because it is not built.\n",
      "WARNING:tensorflow:Skipping full serialization of Keras layer <object_detection.core.freezable_batch_norm.FreezableBatchNorm object at 0x7f81a77255b0>, because it is not built.\n",
      "W0313 16:03:39.605434 4523173376 save_impl.py:71] Skipping full serialization of Keras layer <object_detection.core.freezable_batch_norm.FreezableBatchNorm object at 0x7f81a77255b0>, because it is not built.\n",
      "WARNING:tensorflow:Skipping full serialization of Keras layer <keras.layers.core.lambda_layer.Lambda object at 0x7f81a7725b20>, because it is not built.\n",
      "W0313 16:03:39.605535 4523173376 save_impl.py:71] Skipping full serialization of Keras layer <keras.layers.core.lambda_layer.Lambda object at 0x7f81a7725b20>, because it is not built.\n",
      "WARNING:tensorflow:Skipping full serialization of Keras layer <keras.layers.convolutional.SeparableConv2D object at 0x7f81a7725670>, because it is not built.\n",
      "W0313 16:03:39.605625 4523173376 save_impl.py:71] Skipping full serialization of Keras layer <keras.layers.convolutional.SeparableConv2D object at 0x7f81a7725670>, because it is not built.\n",
      "WARNING:tensorflow:Skipping full serialization of Keras layer <object_detection.core.freezable_batch_norm.FreezableBatchNorm object at 0x7f81a77250a0>, because it is not built.\n",
      "W0313 16:03:39.605716 4523173376 save_impl.py:71] Skipping full serialization of Keras layer <object_detection.core.freezable_batch_norm.FreezableBatchNorm object at 0x7f81a77250a0>, because it is not built.\n",
      "WARNING:tensorflow:Skipping full serialization of Keras layer <keras.layers.core.lambda_layer.Lambda object at 0x7f81a7725400>, because it is not built.\n",
      "W0313 16:03:39.605808 4523173376 save_impl.py:71] Skipping full serialization of Keras layer <keras.layers.core.lambda_layer.Lambda object at 0x7f81a7725400>, because it is not built.\n",
      "WARNING:tensorflow:Skipping full serialization of Keras layer <object_detection.core.freezable_batch_norm.FreezableBatchNorm object at 0x7f81a76bca90>, because it is not built.\n",
      "W0313 16:03:39.605896 4523173376 save_impl.py:71] Skipping full serialization of Keras layer <object_detection.core.freezable_batch_norm.FreezableBatchNorm object at 0x7f81a76bca90>, because it is not built.\n",
      "WARNING:tensorflow:Skipping full serialization of Keras layer <keras.layers.core.lambda_layer.Lambda object at 0x7f81a6798a60>, because it is not built.\n",
      "W0313 16:03:39.605988 4523173376 save_impl.py:71] Skipping full serialization of Keras layer <keras.layers.core.lambda_layer.Lambda object at 0x7f81a6798a60>, because it is not built.\n",
      "WARNING:tensorflow:Skipping full serialization of Keras layer <object_detection.core.freezable_batch_norm.FreezableBatchNorm object at 0x7f81a7778eb0>, because it is not built.\n",
      "W0313 16:03:39.606064 4523173376 save_impl.py:71] Skipping full serialization of Keras layer <object_detection.core.freezable_batch_norm.FreezableBatchNorm object at 0x7f81a7778eb0>, because it is not built.\n",
      "WARNING:tensorflow:Skipping full serialization of Keras layer <keras.layers.core.lambda_layer.Lambda object at 0x7f81a7778e50>, because it is not built.\n",
      "W0313 16:03:39.606158 4523173376 save_impl.py:71] Skipping full serialization of Keras layer <keras.layers.core.lambda_layer.Lambda object at 0x7f81a7778e50>, because it is not built.\n",
      "WARNING:tensorflow:Skipping full serialization of Keras layer <object_detection.core.freezable_batch_norm.FreezableBatchNorm object at 0x7f81a612ab80>, because it is not built.\n",
      "W0313 16:03:39.606253 4523173376 save_impl.py:71] Skipping full serialization of Keras layer <object_detection.core.freezable_batch_norm.FreezableBatchNorm object at 0x7f81a612ab80>, because it is not built.\n",
      "WARNING:tensorflow:Skipping full serialization of Keras layer <keras.layers.core.lambda_layer.Lambda object at 0x7f81a612abb0>, because it is not built.\n",
      "W0313 16:03:39.606343 4523173376 save_impl.py:71] Skipping full serialization of Keras layer <keras.layers.core.lambda_layer.Lambda object at 0x7f81a612abb0>, because it is not built.\n",
      "WARNING:tensorflow:Skipping full serialization of Keras layer <object_detection.core.freezable_batch_norm.FreezableBatchNorm object at 0x7f81a6050880>, because it is not built.\n",
      "W0313 16:03:39.606437 4523173376 save_impl.py:71] Skipping full serialization of Keras layer <object_detection.core.freezable_batch_norm.FreezableBatchNorm object at 0x7f81a6050880>, because it is not built.\n",
      "WARNING:tensorflow:Skipping full serialization of Keras layer <keras.layers.core.lambda_layer.Lambda object at 0x7f81a6050700>, because it is not built.\n",
      "W0313 16:03:39.606515 4523173376 save_impl.py:71] Skipping full serialization of Keras layer <keras.layers.core.lambda_layer.Lambda object at 0x7f81a6050700>, because it is not built.\n",
      "WARNING:tensorflow:Skipping full serialization of Keras layer <object_detection.core.freezable_batch_norm.FreezableBatchNorm object at 0x7f81a769d9a0>, because it is not built.\n",
      "W0313 16:03:39.606609 4523173376 save_impl.py:71] Skipping full serialization of Keras layer <object_detection.core.freezable_batch_norm.FreezableBatchNorm object at 0x7f81a769d9a0>, because it is not built.\n",
      "WARNING:tensorflow:Skipping full serialization of Keras layer <keras.layers.core.lambda_layer.Lambda object at 0x7f81a769dc10>, because it is not built.\n",
      "W0313 16:03:39.606698 4523173376 save_impl.py:71] Skipping full serialization of Keras layer <keras.layers.core.lambda_layer.Lambda object at 0x7f81a769dc10>, because it is not built.\n",
      "WARNING:tensorflow:Skipping full serialization of Keras layer <object_detection.core.freezable_batch_norm.FreezableBatchNorm object at 0x7f81a76c5550>, because it is not built.\n",
      "W0313 16:03:39.606791 4523173376 save_impl.py:71] Skipping full serialization of Keras layer <object_detection.core.freezable_batch_norm.FreezableBatchNorm object at 0x7f81a76c5550>, because it is not built.\n",
      "WARNING:tensorflow:Skipping full serialization of Keras layer <keras.layers.core.lambda_layer.Lambda object at 0x7f81a76c5d30>, because it is not built.\n",
      "W0313 16:03:39.606883 4523173376 save_impl.py:71] Skipping full serialization of Keras layer <keras.layers.core.lambda_layer.Lambda object at 0x7f81a76c5d30>, because it is not built.\n",
      "WARNING:tensorflow:Skipping full serialization of Keras layer <object_detection.core.freezable_batch_norm.FreezableBatchNorm object at 0x7f81a638c2e0>, because it is not built.\n",
      "W0313 16:03:39.606961 4523173376 save_impl.py:71] Skipping full serialization of Keras layer <object_detection.core.freezable_batch_norm.FreezableBatchNorm object at 0x7f81a638c2e0>, because it is not built.\n",
      "WARNING:tensorflow:Skipping full serialization of Keras layer <keras.layers.core.lambda_layer.Lambda object at 0x7f81a638cb50>, because it is not built.\n",
      "W0313 16:03:39.607053 4523173376 save_impl.py:71] Skipping full serialization of Keras layer <keras.layers.core.lambda_layer.Lambda object at 0x7f81a638cb50>, because it is not built.\n",
      "WARNING:tensorflow:Skipping full serialization of Keras layer <object_detection.core.freezable_batch_norm.FreezableBatchNorm object at 0x7f81a638c9a0>, because it is not built.\n",
      "W0313 16:03:39.607141 4523173376 save_impl.py:71] Skipping full serialization of Keras layer <object_detection.core.freezable_batch_norm.FreezableBatchNorm object at 0x7f81a638c9a0>, because it is not built.\n",
      "WARNING:tensorflow:Skipping full serialization of Keras layer <keras.layers.core.lambda_layer.Lambda object at 0x7f81a638c3d0>, because it is not built.\n",
      "W0313 16:03:39.607234 4523173376 save_impl.py:71] Skipping full serialization of Keras layer <keras.layers.core.lambda_layer.Lambda object at 0x7f81a638c3d0>, because it is not built.\n",
      "WARNING:tensorflow:Skipping full serialization of Keras layer <object_detection.core.freezable_batch_norm.FreezableBatchNorm object at 0x7f81a768e550>, because it is not built.\n",
      "W0313 16:03:39.607324 4523173376 save_impl.py:71] Skipping full serialization of Keras layer <object_detection.core.freezable_batch_norm.FreezableBatchNorm object at 0x7f81a768e550>, because it is not built.\n",
      "WARNING:tensorflow:Skipping full serialization of Keras layer <keras.layers.core.lambda_layer.Lambda object at 0x7f81a768e580>, because it is not built.\n",
      "W0313 16:03:39.607420 4523173376 save_impl.py:71] Skipping full serialization of Keras layer <keras.layers.core.lambda_layer.Lambda object at 0x7f81a768e580>, because it is not built.\n",
      "WARNING:tensorflow:Skipping full serialization of Keras layer <object_detection.core.freezable_batch_norm.FreezableBatchNorm object at 0x7f819e42cb50>, because it is not built.\n",
      "W0313 16:03:39.607504 4523173376 save_impl.py:71] Skipping full serialization of Keras layer <object_detection.core.freezable_batch_norm.FreezableBatchNorm object at 0x7f819e42cb50>, because it is not built.\n",
      "WARNING:tensorflow:Skipping full serialization of Keras layer <keras.layers.core.lambda_layer.Lambda object at 0x7f819e42cf40>, because it is not built.\n",
      "W0313 16:03:39.607673 4523173376 save_impl.py:71] Skipping full serialization of Keras layer <keras.layers.core.lambda_layer.Lambda object at 0x7f819e42cf40>, because it is not built.\n",
      "WARNING:tensorflow:Skipping full serialization of Keras layer <object_detection.core.freezable_batch_norm.FreezableBatchNorm object at 0x7f819e42c730>, because it is not built.\n",
      "W0313 16:03:39.607759 4523173376 save_impl.py:71] Skipping full serialization of Keras layer <object_detection.core.freezable_batch_norm.FreezableBatchNorm object at 0x7f819e42c730>, because it is not built.\n",
      "WARNING:tensorflow:Skipping full serialization of Keras layer <keras.layers.core.lambda_layer.Lambda object at 0x7f819e42cfa0>, because it is not built.\n",
      "W0313 16:03:39.607848 4523173376 save_impl.py:71] Skipping full serialization of Keras layer <keras.layers.core.lambda_layer.Lambda object at 0x7f819e42cfa0>, because it is not built.\n",
      "WARNING:tensorflow:Skipping full serialization of Keras layer <object_detection.core.freezable_batch_norm.FreezableBatchNorm object at 0x7f819e371a30>, because it is not built.\n",
      "W0313 16:03:39.607941 4523173376 save_impl.py:71] Skipping full serialization of Keras layer <object_detection.core.freezable_batch_norm.FreezableBatchNorm object at 0x7f819e371a30>, because it is not built.\n",
      "WARNING:tensorflow:Skipping full serialization of Keras layer <keras.layers.core.lambda_layer.Lambda object at 0x7f819e371790>, because it is not built.\n",
      "W0313 16:03:39.608038 4523173376 save_impl.py:71] Skipping full serialization of Keras layer <keras.layers.core.lambda_layer.Lambda object at 0x7f819e371790>, because it is not built.\n",
      "WARNING:tensorflow:Skipping full serialization of Keras layer <object_detection.core.freezable_batch_norm.FreezableBatchNorm object at 0x7f81a638bbb0>, because it is not built.\n",
      "W0313 16:03:39.608118 4523173376 save_impl.py:71] Skipping full serialization of Keras layer <object_detection.core.freezable_batch_norm.FreezableBatchNorm object at 0x7f81a638bbb0>, because it is not built.\n",
      "WARNING:tensorflow:Skipping full serialization of Keras layer <keras.layers.core.lambda_layer.Lambda object at 0x7f81a611e1f0>, because it is not built.\n",
      "W0313 16:03:39.608216 4523173376 save_impl.py:71] Skipping full serialization of Keras layer <keras.layers.core.lambda_layer.Lambda object at 0x7f81a611e1f0>, because it is not built.\n",
      "WARNING:tensorflow:Skipping full serialization of Keras layer <object_detection.core.freezable_batch_norm.FreezableBatchNorm object at 0x7f81a60e0730>, because it is not built.\n",
      "W0313 16:03:39.608304 4523173376 save_impl.py:71] Skipping full serialization of Keras layer <object_detection.core.freezable_batch_norm.FreezableBatchNorm object at 0x7f81a60e0730>, because it is not built.\n",
      "WARNING:tensorflow:Skipping full serialization of Keras layer <keras.layers.core.lambda_layer.Lambda object at 0x7f81a60e0fa0>, because it is not built.\n",
      "W0313 16:03:39.608397 4523173376 save_impl.py:71] Skipping full serialization of Keras layer <keras.layers.core.lambda_layer.Lambda object at 0x7f81a60e0fa0>, because it is not built.\n",
      "WARNING:tensorflow:Skipping full serialization of Keras layer <object_detection.core.freezable_batch_norm.FreezableBatchNorm object at 0x7f81a6379100>, because it is not built.\n",
      "W0313 16:03:39.608485 4523173376 save_impl.py:71] Skipping full serialization of Keras layer <object_detection.core.freezable_batch_norm.FreezableBatchNorm object at 0x7f81a6379100>, because it is not built.\n",
      "WARNING:tensorflow:Skipping full serialization of Keras layer <keras.layers.core.lambda_layer.Lambda object at 0x7f81a6379df0>, because it is not built.\n",
      "W0313 16:03:39.608577 4523173376 save_impl.py:71] Skipping full serialization of Keras layer <keras.layers.core.lambda_layer.Lambda object at 0x7f81a6379df0>, because it is not built.\n",
      "WARNING:tensorflow:Skipping full serialization of Keras layer <object_detection.core.freezable_batch_norm.FreezableBatchNorm object at 0x7f81a63794f0>, because it is not built.\n",
      "W0313 16:03:39.608664 4523173376 save_impl.py:71] Skipping full serialization of Keras layer <object_detection.core.freezable_batch_norm.FreezableBatchNorm object at 0x7f81a63794f0>, because it is not built.\n",
      "WARNING:tensorflow:Skipping full serialization of Keras layer <keras.layers.core.lambda_layer.Lambda object at 0x7f81a6379fa0>, because it is not built.\n",
      "W0313 16:03:39.608767 4523173376 save_impl.py:71] Skipping full serialization of Keras layer <keras.layers.core.lambda_layer.Lambda object at 0x7f81a6379fa0>, because it is not built.\n"
     ]
    },
    {
     "name": "stdout",
     "output_type": "stream",
     "text": [
      "W0313 16:04:01.399896 4523173376 save.py:260] Found untraced functions such as WeightSharedConvolutionalBoxPredictor_layer_call_fn, WeightSharedConvolutionalBoxPredictor_layer_call_and_return_conditional_losses, WeightSharedConvolutionalBoxHead_layer_call_fn, WeightSharedConvolutionalBoxHead_layer_call_and_return_conditional_losses, WeightSharedConvolutionalClassHead_layer_call_fn while saving (showing 5 of 104). These functions will not be directly callable after loading.\n",
      "INFO:tensorflow:Assets written to: Tensorflow/workspace/models/Ant/tfliteexport/saved_model/assets\n",
      "I0313 16:04:07.298621 4523173376 builder_impl.py:779] Assets written to: Tensorflow/workspace/models/Ant/tfliteexport/saved_model/assets\n"
     ]
    }
   ],
   "source": [
    "!{command}"
   ]
  },
  {
   "cell_type": "code",
   "execution_count": 20,
   "metadata": {
    "id": "iJfYMbN6pfDL"
   },
   "outputs": [],
   "source": [
    "FROZEN_TFLITE_PATH = os.path.join(paths['TFLITE_PATH'], 'saved_model')\n",
    "TFLITE_MODEL = os.path.join(paths['TFLITE_PATH'], 'saved_model', 'detect.tflite')"
   ]
  },
  {
   "cell_type": "code",
   "execution_count": 21,
   "metadata": {},
   "outputs": [],
   "source": [
    "command = \"tflite_convert \\\n",
    "--saved_model_dir={} \\\n",
    "--output_file={} \\\n",
    "--input_shapes=1,300,300,3 \\\n",
    "--input_arrays=normalized_input_image_tensor \\\n",
    "--output_arrays='TFLite_Detection_PostProcess','TFLite_Detection_PostProcess:1','TFLite_Detection_PostProcess:2','TFLite_Detection_PostProcess:3' \\\n",
    "--inference_type=FLOAT \\\n",
    "--allow_custom_ops\".format(FROZEN_TFLITE_PATH, TFLITE_MODEL, )"
   ]
  },
  {
   "cell_type": "code",
   "execution_count": 22,
   "metadata": {
    "colab": {
     "base_uri": "https://localhost:8080/"
    },
    "id": "E8GwUeoFpfDL",
    "outputId": "fac43ea4-cc85-471b-a362-e994b06fd583"
   },
   "outputs": [
    {
     "name": "stdout",
     "output_type": "stream",
     "text": [
      "tflite_convert --saved_model_dir=Tensorflow/workspace/models/Ant/tfliteexport/saved_model --output_file=Tensorflow/workspace/models/Ant/tfliteexport/saved_model/detect.tflite --input_shapes=1,300,300,3 --input_arrays=normalized_input_image_tensor --output_arrays='TFLite_Detection_PostProcess','TFLite_Detection_PostProcess:1','TFLite_Detection_PostProcess:2','TFLite_Detection_PostProcess:3' --inference_type=FLOAT --allow_custom_ops\n"
     ]
    }
   ],
   "source": [
    "print(command)"
   ]
  },
  {
   "cell_type": "code",
   "execution_count": 23,
   "metadata": {
    "colab": {
     "base_uri": "https://localhost:8080/"
    },
    "id": "Nbd7gqHMpfDL",
    "outputId": "7c8fe6d5-2415-4641-8548-39d425c202f7"
   },
   "outputs": [
    {
     "name": "stdout",
     "output_type": "stream",
     "text": [
      "2022-03-13 16:04:23.644300: I tensorflow/core/platform/cpu_feature_guard.cc:151] This TensorFlow binary is optimized with oneAPI Deep Neural Network Library (oneDNN) to use the following CPU instructions in performance-critical operations:  AVX2 FMA\n",
      "To enable them in other operations, rebuild TensorFlow with the appropriate compiler flags.\n",
      "2022-03-13 16:04:35.667776: W tensorflow/compiler/mlir/lite/python/tf_tfl_flatbuffer_helpers.cc:357] Ignored output_format.\n",
      "2022-03-13 16:04:35.667811: W tensorflow/compiler/mlir/lite/python/tf_tfl_flatbuffer_helpers.cc:360] Ignored drop_control_dependency.\n",
      "2022-03-13 16:04:35.672186: I tensorflow/cc/saved_model/reader.cc:43] Reading SavedModel from: Tensorflow/workspace/models/Ant/tfliteexport/saved_model\n",
      "2022-03-13 16:04:35.766248: I tensorflow/cc/saved_model/reader.cc:78] Reading meta graph with tags { serve }\n",
      "2022-03-13 16:04:35.766299: I tensorflow/cc/saved_model/reader.cc:119] Reading SavedModel debug info (if present) from: Tensorflow/workspace/models/Ant/tfliteexport/saved_model\n",
      "2022-03-13 16:04:36.058454: I tensorflow/cc/saved_model/loader.cc:228] Restoring SavedModel bundle.\n",
      "2022-03-13 16:04:37.156963: I tensorflow/cc/saved_model/loader.cc:212] Running initialization op on SavedModel bundle at path: Tensorflow/workspace/models/Ant/tfliteexport/saved_model\n",
      "2022-03-13 16:04:37.836624: I tensorflow/cc/saved_model/loader.cc:301] SavedModel load for tags { serve }; Status: success: OK. Took 2164619 microseconds.\n",
      "2022-03-13 16:04:39.030695: I tensorflow/compiler/mlir/tensorflow/utils/dump_mlir_util.cc:237] disabling MLIR crash reproducer, set env var `MLIR_CRASH_REPRODUCER_DIRECTORY` to enable.\n",
      "2022-03-13 16:04:40.186553: I tensorflow/compiler/mlir/lite/flatbuffer_export.cc:1963] Estimated count of arithmetic ops: 1.702 G  ops, equivalently 0.851 G  MACs\n",
      "\n",
      "Estimated count of arithmetic ops: 1.702 G  ops, equivalently 0.851 G  MACs\n",
      "W0313 16:04:40.461954 4519028224 lite.py:769] Buffer deduplication procedure will be skipped when flatbuffer library is not properly loaded\n"
     ]
    }
   ],
   "source": [
    "!{command}"
   ]
  },
  {
   "cell_type": "markdown",
   "metadata": {
    "id": "5NQqZRdA21Uc"
   },
   "source": [
    "# 13. Zip and Export Models "
   ]
  },
  {
   "cell_type": "code",
   "execution_count": null,
   "metadata": {
    "id": "tTVTGCQp2ZJJ"
   },
   "outputs": [],
   "source": [
    "!tar -czf models.tar.gz {paths['CHECKPOINT_PATH']}"
   ]
  },
  {
   "cell_type": "code",
   "execution_count": null,
   "metadata": {
    "colab": {
     "base_uri": "https://localhost:8080/"
    },
    "id": "whShhB0x3PYJ",
    "outputId": "b773201d-35c9-46a8-b893-4a76bd4d5d97"
   },
   "outputs": [],
   "source": [
    "from google.colab import drive\n",
    "drive.mount('/content/drive')"
   ]
  }
 ],
 "metadata": {
  "accelerator": "GPU",
  "colab": {
   "name": "3. Training and Detection.ipynb",
   "provenance": []
  },
  "kernelspec": {
   "display_name": "Qt_venv",
   "language": "python",
   "name": "qt_venv"
  },
  "language_info": {
   "codemirror_mode": {
    "name": "ipython",
    "version": 3
   },
   "file_extension": ".py",
   "mimetype": "text/x-python",
   "name": "python",
   "nbconvert_exporter": "python",
   "pygments_lexer": "ipython3",
   "version": "3.9.7"
  }
 },
 "nbformat": 4,
 "nbformat_minor": 1
}

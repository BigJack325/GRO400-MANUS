{
 "cells": [
  {
   "cell_type": "markdown",
   "metadata": {},
   "source": [
    "# 1. Import Dependencies"
   ]
  },
  {
   "cell_type": "code",
   "execution_count": 11,
   "metadata": {},
   "outputs": [],
   "source": [
    "# Import opencv\n",
    "import cv2 \n",
    "\n",
    "# Import uuid\n",
    "import uuid\n",
    "\n",
    "# Import Operating System\n",
    "import os\n",
    "\n",
    "# Import time\n",
    "import time\n",
    "\n",
    "# Import VideoStream\n",
    "from imutils.video import VideoStream\n",
    "\n",
    "from picamera import PiCamera"
   ]
  },
  {
   "cell_type": "markdown",
   "metadata": {},
   "source": [
    "# 2. Define Images to Collect"
   ]
  },
  {
   "cell_type": "code",
   "execution_count": 21,
   "metadata": {},
   "outputs": [],
   "source": [
    "labels = ['Happy']\n",
    "number_imgs = 30"
   ]
  },
  {
   "cell_type": "markdown",
   "metadata": {},
   "source": [
    "# 3. Setup Folders "
   ]
  },
  {
   "cell_type": "code",
   "execution_count": 22,
   "metadata": {},
   "outputs": [],
   "source": [
    "IMAGES_PATH = os.path.join('Tensorflow', 'workspace', 'images', 'collectedimages')"
   ]
  },
  {
   "cell_type": "code",
   "execution_count": 23,
   "metadata": {},
   "outputs": [],
   "source": [
    "if not os.path.exists(IMAGES_PATH):\n",
    "    if os.name == 'posix':\n",
    "        !mkdir -p {IMAGES_PATH}\n",
    "    if os.name == 'nt':\n",
    "         !mkdir {IMAGES_PATH}\n",
    "for label in labels:\n",
    "    path = os.path.join(IMAGES_PATH, label)\n",
    "    if not os.path.exists(path):\n",
    "        !mkdir {path}"
   ]
  },
  {
   "cell_type": "markdown",
   "metadata": {},
   "source": [
    "# 4. Capture Images"
   ]
  },
  {
   "cell_type": "code",
   "execution_count": 24,
   "metadata": {},
   "outputs": [
    {
     "name": "stdout",
     "output_type": "stream",
     "text": [
      "Collecting images for Happy\n",
      "Collecting image 0\n",
      "Done taking image\n",
      "Collecting image 1\n",
      "Done taking image\n",
      "Collecting image 2\n",
      "Done taking image\n",
      "Collecting image 3\n",
      "Done taking image\n",
      "Collecting image 4\n",
      "Done taking image\n",
      "Collecting image 5\n",
      "Done taking image\n",
      "Collecting image 6\n",
      "Done taking image\n",
      "Collecting image 7\n",
      "Done taking image\n",
      "Collecting image 8\n",
      "Done taking image\n",
      "Collecting image 9\n",
      "Done taking image\n",
      "Collecting image 10\n",
      "Done taking image\n",
      "Collecting image 11\n",
      "Done taking image\n",
      "Collecting image 12\n",
      "Done taking image\n",
      "Collecting image 13\n",
      "Done taking image\n",
      "Collecting image 14\n",
      "Done taking image\n",
      "Collecting image 15\n",
      "Done taking image\n",
      "Collecting image 16\n",
      "Done taking image\n",
      "Collecting image 17\n",
      "Done taking image\n",
      "Collecting image 18\n",
      "Done taking image\n",
      "Collecting image 19\n",
      "Done taking image\n",
      "Collecting image 20\n",
      "Done taking image\n",
      "Collecting image 21\n",
      "Done taking image\n",
      "Collecting image 22\n",
      "Done taking image\n",
      "Collecting image 23\n",
      "Done taking image\n",
      "Collecting image 24\n",
      "Done taking image\n",
      "Collecting image 25\n",
      "Done taking image\n",
      "Collecting image 26\n",
      "Done taking image\n",
      "Collecting image 27\n",
      "Done taking image\n",
      "Collecting image 28\n",
      "Done taking image\n",
      "Collecting image 29\n",
      "Done taking image\n"
     ]
    }
   ],
   "source": [
    "cap = VideoStream(src=0,usePiCamera=True).start()\n",
    "# cap = PiCamera()\n",
    "\n",
    "for label in labels:\n",
    "    print('Collecting images for {}'.format(label))\n",
    "    time.sleep(5)\n",
    "    for imgnum in range(number_imgs):\n",
    "        print('Collecting image {}'.format(imgnum))\n",
    "        frame = cap.read()\n",
    "        imgname = os.path.join(IMAGES_PATH,label,label+'.'+'{}.jpg'.format(str(uuid.uuid1())))\n",
    "        # frame = cap.capture(imgname)\n",
    "        cv2.imwrite(imgname, frame)\n",
    "        print(\"Done taking image\")\n",
    "        time.sleep(3)\n",
    "\n",
    "cap.stop()\n",
    "# cap.close()\n"
   ]
  },
  {
   "cell_type": "markdown",
   "metadata": {},
   "source": [
    "# 5. Image Labelling"
   ]
  },
  {
   "cell_type": "code",
   "execution_count": 2,
   "metadata": {},
   "outputs": [],
   "source": [
    "LABELIMG_PATH = os.path.join('Tensorflow', 'labelimg')"
   ]
  },
  {
   "cell_type": "code",
   "execution_count": 3,
   "metadata": {},
   "outputs": [],
   "source": [
    "if not os.path.exists(LABELIMG_PATH):\n",
    "    !mkdir {LABELIMG_PATH}\n",
    "    !git clone https://github.com/tzutalin/labelImg {LABELIMG_PATH}"
   ]
  },
  {
   "cell_type": "code",
   "execution_count": 4,
   "metadata": {},
   "outputs": [
    {
     "name": "stdout",
     "output_type": "stream",
     "text": [
      "pyrcc5 -o libs/resources.py resources.qrc\n"
     ]
    }
   ],
   "source": [
    "if os.name == 'posix':\n",
    "    !cd {LABELIMG_PATH} && make qt5py3\n",
    "if os.name =='nt':\n",
    "    !cd {LABELIMG_PATH} && pyrcc5 -o libs/resources.py resources.qrc"
   ]
  },
  {
   "cell_type": "code",
   "execution_count": 5,
   "metadata": {},
<<<<<<< Updated upstream
   "outputs": [],
=======
   "outputs": [
    {
     "name": "stdout",
     "output_type": "stream",
     "text": [
      "/home/patrice/Documents/GRO400-MANUS/Hexapod-master/Hexapod_Qt/Tensorflow/labelimg/labelImg.py:210: DeprecationWarning: an integer is required (got type DockWidgetFeatures).  Implicit conversion to integers using __int__ is deprecated, and may be removed in a future version of Python.\n",
      "  self.dock.setFeatures(self.dock.features() ^ self.dock_features)\n",
      "Image:/home/patrice/Documents/GRO400-MANUS/Hexapod-master/Hexapod_Qt/Tensorflow/workspace/images/collectedimages/Angry/Angry.0f08fa44-af8e-11ec-88a2-dca632b24006.jpg -> Annotation:/home/patrice/Documents/GRO400-MANUS/Hexapod-master/Hexapod_Qt/Tensorflow/workspace/images/collectedimages/Angry/Angry.0f08fa44-af8e-11ec-88a2-dca632b24006.xml\n",
      "Image:/home/patrice/Documents/GRO400-MANUS/Hexapod-master/Hexapod_Qt/Tensorflow/workspace/images/collectedimages/Angry/Angry.1a1f1dba-af8d-11ec-88a2-dca632b24006.jpg -> Annotation:/home/patrice/Documents/GRO400-MANUS/Hexapod-master/Hexapod_Qt/Tensorflow/workspace/images/collectedimages/Angry/Angry.1a1f1dba-af8d-11ec-88a2-dca632b24006.xml\n",
      "Image:/home/patrice/Documents/GRO400-MANUS/Hexapod-master/Hexapod_Qt/Tensorflow/workspace/images/collectedimages/Angry/Angry.1db57f32-af8d-11ec-88a2-dca632b24006.jpg -> Annotation:/home/patrice/Documents/GRO400-MANUS/Hexapod-master/Hexapod_Qt/Tensorflow/workspace/images/collectedimages/Angry/Angry.1db57f32-af8d-11ec-88a2-dca632b24006.xml\n",
      "Image:/home/patrice/Documents/GRO400-MANUS/Hexapod-master/Hexapod_Qt/Tensorflow/workspace/images/collectedimages/Angry/Angry.7d826cb0-af86-11ec-88a2-dca632b24006.jpg -> Annotation:/home/patrice/Documents/GRO400-MANUS/Hexapod-master/Hexapod_Qt/Tensorflow/workspace/images/collectedimages/Angry/Angry.7d826cb0-af86-11ec-88a2-dca632b24006.xml\n",
      "Image:/home/patrice/Documents/GRO400-MANUS/Hexapod-master/Hexapod_Qt/Tensorflow/workspace/images/collectedimages/Angry/Angry.7f4e15b2-af86-11ec-88a2-dca632b24006.jpg -> Annotation:/home/patrice/Documents/GRO400-MANUS/Hexapod-master/Hexapod_Qt/Tensorflow/workspace/images/collectedimages/Angry/Angry.7f4e15b2-af86-11ec-88a2-dca632b24006.xml\n",
      "Image:/home/patrice/Documents/GRO400-MANUS/Hexapod-master/Hexapod_Qt/Tensorflow/workspace/images/collectedimages/Angry/Angry.8a1e76e2-af8d-11ec-88a2-dca632b24006.jpg -> Annotation:/home/patrice/Documents/GRO400-MANUS/Hexapod-master/Hexapod_Qt/Tensorflow/workspace/images/collectedimages/Angry/Angry.8a1e76e2-af8d-11ec-88a2-dca632b24006.xml\n",
      "Image:/home/patrice/Documents/GRO400-MANUS/Hexapod-master/Hexapod_Qt/Tensorflow/workspace/images/collectedimages/Angry/Angry.8be9948e-af8d-11ec-88a2-dca632b24006.jpg -> Annotation:/home/patrice/Documents/GRO400-MANUS/Hexapod-master/Hexapod_Qt/Tensorflow/workspace/images/collectedimages/Angry/Angry.8be9948e-af8d-11ec-88a2-dca632b24006.xml\n",
      "Image:/home/patrice/Documents/GRO400-MANUS/Hexapod-master/Hexapod_Qt/Tensorflow/workspace/images/collectedimages/Angry/Angry.8bed12f0-af86-11ec-88a2-dca632b24006.jpg -> Annotation:/home/patrice/Documents/GRO400-MANUS/Hexapod-master/Hexapod_Qt/Tensorflow/workspace/images/collectedimages/Angry/Angry.8bed12f0-af86-11ec-88a2-dca632b24006.xml\n",
      "Image:/home/patrice/Documents/GRO400-MANUS/Hexapod-master/Hexapod_Qt/Tensorflow/workspace/images/collectedimages/Angry/Angry.8f80fcae-af8d-11ec-88a2-dca632b24006.jpg -> Annotation:/home/patrice/Documents/GRO400-MANUS/Hexapod-master/Hexapod_Qt/Tensorflow/workspace/images/collectedimages/Angry/Angry.8f80fcae-af8d-11ec-88a2-dca632b24006.xml\n",
      "Image:/home/patrice/Documents/GRO400-MANUS/Hexapod-master/Hexapod_Qt/Tensorflow/workspace/images/collectedimages/Angry/Angry.9a49d464-af86-11ec-88a2-dca632b24006.jpg -> Annotation:/home/patrice/Documents/GRO400-MANUS/Hexapod-master/Hexapod_Qt/Tensorflow/workspace/images/collectedimages/Angry/Angry.9a49d464-af86-11ec-88a2-dca632b24006.xml\n",
      "Image:/home/patrice/Documents/GRO400-MANUS/Hexapod-master/Hexapod_Qt/Tensorflow/workspace/images/collectedimages/Angry/Angry.9a4420a8-af8d-11ec-88a2-dca632b24006.jpg -> Annotation:/home/patrice/Documents/GRO400-MANUS/Hexapod-master/Hexapod_Qt/Tensorflow/workspace/images/collectedimages/Angry/Angry.9a4420a8-af8d-11ec-88a2-dca632b24006.xml\n",
      "Image:/home/patrice/Documents/GRO400-MANUS/Hexapod-master/Hexapod_Qt/Tensorflow/workspace/images/collectedimages/Angry/Angry.9c154a94-af86-11ec-88a2-dca632b24006.jpg -> Annotation:/home/patrice/Documents/GRO400-MANUS/Hexapod-master/Hexapod_Qt/Tensorflow/workspace/images/collectedimages/Angry/Angry.9c154a94-af86-11ec-88a2-dca632b24006.xml\n",
      "Image:/home/patrice/Documents/GRO400-MANUS/Hexapod-master/Hexapod_Qt/Tensorflow/workspace/images/collectedimages/Angry/Angry.9de061a6-af86-11ec-88a2-dca632b24006.jpg -> Annotation:/home/patrice/Documents/GRO400-MANUS/Hexapod-master/Hexapod_Qt/Tensorflow/workspace/images/collectedimages/Angry/Angry.9de061a6-af86-11ec-88a2-dca632b24006.xml\n",
      "Image:/home/patrice/Documents/GRO400-MANUS/Hexapod-master/Hexapod_Qt/Tensorflow/workspace/images/collectedimages/Angry/Angry.9fabae32-af86-11ec-88a2-dca632b24006.jpg -> Annotation:/home/patrice/Documents/GRO400-MANUS/Hexapod-master/Hexapod_Qt/Tensorflow/workspace/images/collectedimages/Angry/Angry.9fabae32-af86-11ec-88a2-dca632b24006.xml\n",
      "Image:/home/patrice/Documents/GRO400-MANUS/Hexapod-master/Hexapod_Qt/Tensorflow/workspace/images/collectedimages/Angry/Angry.10d44e64-af8e-11ec-88a2-dca632b24006.jpg -> Annotation:/home/patrice/Documents/GRO400-MANUS/Hexapod-master/Hexapod_Qt/Tensorflow/workspace/images/collectedimages/Angry/Angry.10d44e64-af8e-11ec-88a2-dca632b24006.xml\n",
      "Image:/home/patrice/Documents/GRO400-MANUS/Hexapod-master/Hexapod_Qt/Tensorflow/workspace/images/collectedimages/Angry/Angry.79ecdb30-af86-11ec-88a2-dca632b24006.jpg -> Annotation:/home/patrice/Documents/GRO400-MANUS/Hexapod-master/Hexapod_Qt/Tensorflow/workspace/images/collectedimages/Angry/Angry.79ecdb30-af86-11ec-88a2-dca632b24006.xml\n",
      "Image:/home/patrice/Documents/GRO400-MANUS/Hexapod-master/Hexapod_Qt/Tensorflow/workspace/images/collectedimages/Angry/Angry.84ae7510-af86-11ec-88a2-dca632b24006.jpg -> Annotation:/home/patrice/Documents/GRO400-MANUS/Hexapod-master/Hexapod_Qt/Tensorflow/workspace/images/collectedimages/Angry/Angry.84ae7510-af86-11ec-88a2-dca632b24006.xml\n",
      "Image:/home/patrice/Documents/GRO400-MANUS/Hexapod-master/Hexapod_Qt/Tensorflow/workspace/images/collectedimages/Angry/Angry.94e81fd0-af86-11ec-88a2-dca632b24006.jpg -> Annotation:/home/patrice/Documents/GRO400-MANUS/Hexapod-master/Hexapod_Qt/Tensorflow/workspace/images/collectedimages/Angry/Angry.94e81fd0-af86-11ec-88a2-dca632b24006.xml\n",
      "Image:/home/patrice/Documents/GRO400-MANUS/Hexapod-master/Hexapod_Qt/Tensorflow/workspace/images/collectedimages/Angry/Angry.96acdc82-af8d-11ec-88a2-dca632b24006.jpg -> Annotation:/home/patrice/Documents/GRO400-MANUS/Hexapod-master/Hexapod_Qt/Tensorflow/workspace/images/collectedimages/Angry/Angry.96acdc82-af8d-11ec-88a2-dca632b24006.xml\n",
      "Image:/home/patrice/Documents/GRO400-MANUS/Hexapod-master/Hexapod_Qt/Tensorflow/workspace/images/collectedimages/Angry/Angry.96b3be5a-af86-11ec-88a2-dca632b24006.jpg -> Annotation:/home/patrice/Documents/GRO400-MANUS/Hexapod-master/Hexapod_Qt/Tensorflow/workspace/images/collectedimages/Angry/Angry.96b3be5a-af86-11ec-88a2-dca632b24006.xml\n",
      "Image:/home/patrice/Documents/GRO400-MANUS/Hexapod-master/Hexapod_Qt/Tensorflow/workspace/images/collectedimages/Angry/Angry.129f1b8e-af8e-11ec-88a2-dca632b24006.jpg -> Annotation:/home/patrice/Documents/GRO400-MANUS/Hexapod-master/Hexapod_Qt/Tensorflow/workspace/images/collectedimages/Angry/Angry.129f1b8e-af8e-11ec-88a2-dca632b24006.xml\n",
      "Image:/home/patrice/Documents/GRO400-MANUS/Hexapod-master/Hexapod_Qt/Tensorflow/workspace/images/collectedimages/Angry/Angry.146a09c4-af8e-11ec-88a2-dca632b24006.jpg -> Annotation:/home/patrice/Documents/GRO400-MANUS/Hexapod-master/Hexapod_Qt/Tensorflow/workspace/images/collectedimages/Angry/Angry.146a09c4-af8e-11ec-88a2-dca632b24006.xml\n",
      "Image:/home/patrice/Documents/GRO400-MANUS/Hexapod-master/Hexapod_Qt/Tensorflow/workspace/images/collectedimages/Angry/Angry.931c0e0a-af86-11ec-88a2-dca632b24006.jpg -> Annotation:/home/patrice/Documents/GRO400-MANUS/Hexapod-master/Hexapod_Qt/Tensorflow/workspace/images/collectedimages/Angry/Angry.931c0e0a-af86-11ec-88a2-dca632b24006.xml\n",
      "Image:/home/patrice/Documents/GRO400-MANUS/Hexapod-master/Hexapod_Qt/Tensorflow/workspace/images/collectedimages/Angry/Angry.987e911a-af86-11ec-88a2-dca632b24006.jpg -> Annotation:/home/patrice/Documents/GRO400-MANUS/Hexapod-master/Hexapod_Qt/Tensorflow/workspace/images/collectedimages/Angry/Angry.987e911a-af86-11ec-88a2-dca632b24006.xml\n"
     ]
    },
    {
     "name": "stdout",
     "output_type": "stream",
     "text": [
      "Image:/home/patrice/Documents/GRO400-MANUS/Hexapod-master/Hexapod_Qt/Tensorflow/workspace/images/collectedimages/Angry/Angry.1688ae96-af8d-11ec-88a2-dca632b24006.jpg -> Annotation:/home/patrice/Documents/GRO400-MANUS/Hexapod-master/Hexapod_Qt/Tensorflow/workspace/images/collectedimages/Angry/Angry.1688ae96-af8d-11ec-88a2-dca632b24006.xml\n",
      "Image:/home/patrice/Documents/GRO400-MANUS/Hexapod-master/Hexapod_Qt/Tensorflow/workspace/images/collectedimages/Angry/Angry.9316f490-af8d-11ec-88a2-dca632b24006.jpg -> Annotation:/home/patrice/Documents/GRO400-MANUS/Hexapod-master/Hexapod_Qt/Tensorflow/workspace/images/collectedimages/Angry/Angry.9316f490-af8d-11ec-88a2-dca632b24006.xml\n",
      "Image:/home/patrice/Documents/GRO400-MANUS/Hexapod-master/Hexapod_Qt/Tensorflow/workspace/images/collectedimages/Angry/Angry.78211e88-af86-11ec-88a2-dca632b24006.jpg -> Annotation:/home/patrice/Documents/GRO400-MANUS/Hexapod-master/Hexapod_Qt/Tensorflow/workspace/images/collectedimages/Angry/Angry.78211e88-af86-11ec-88a2-dca632b24006.xml\n",
      "Image:/home/patrice/Documents/GRO400-MANUS/Hexapod-master/Hexapod_Qt/Tensorflow/workspace/images/collectedimages/Angry/Angry.185401ee-af8d-11ec-88a2-dca632b24006.jpg -> Annotation:/home/patrice/Documents/GRO400-MANUS/Hexapod-master/Hexapod_Qt/Tensorflow/workspace/images/collectedimages/Angry/Angry.185401ee-af8d-11ec-88a2-dca632b24006.xml\n",
      "Image:/home/patrice/Documents/GRO400-MANUS/Hexapod-master/Hexapod_Qt/Tensorflow/workspace/images/collectedimages/Angry/Angry.16354606-af8e-11ec-88a2-dca632b24006.jpg -> Annotation:/home/patrice/Documents/GRO400-MANUS/Hexapod-master/Hexapod_Qt/Tensorflow/workspace/images/collectedimages/Angry/Angry.16354606-af8e-11ec-88a2-dca632b24006.xml\n",
      "Image:/home/patrice/Documents/GRO400-MANUS/Hexapod-master/Hexapod_Qt/Tensorflow/workspace/images/collectedimages/Angry/Angry.18007582-af8e-11ec-88a2-dca632b24006.jpg -> Annotation:/home/patrice/Documents/GRO400-MANUS/Hexapod-master/Hexapod_Qt/Tensorflow/workspace/images/collectedimages/Angry/Angry.18007582-af8e-11ec-88a2-dca632b24006.xml\n",
      "Image:/home/patrice/Documents/GRO400-MANUS/Hexapod-master/Hexapod_Qt/Tensorflow/workspace/images/collectedimages/Angry/Angry.d9df8bf4-af8c-11ec-88a2-dca632b24006.jpg -> Annotation:/home/patrice/Documents/GRO400-MANUS/Hexapod-master/Hexapod_Qt/Tensorflow/workspace/images/collectedimages/Angry/Angry.d9df8bf4-af8c-11ec-88a2-dca632b24006.xml\n",
      "Image:/home/patrice/Documents/GRO400-MANUS/Hexapod-master/Hexapod_Qt/Tensorflow/workspace/images/collectedimages/Angry/Angry.d6470bc0-af8c-11ec-88a2-dca632b24006.jpg -> Annotation:/home/patrice/Documents/GRO400-MANUS/Hexapod-master/Hexapod_Qt/Tensorflow/workspace/images/collectedimages/Angry/Angry.d6470bc0-af8c-11ec-88a2-dca632b24006.xml\n",
      "Image:/home/patrice/Documents/GRO400-MANUS/Hexapod-master/Hexapod_Qt/Tensorflow/workspace/images/collectedimages/Angry/Angry.d812057c-af8c-11ec-88a2-dca632b24006.jpg -> Annotation:/home/patrice/Documents/GRO400-MANUS/Hexapod-master/Hexapod_Qt/Tensorflow/workspace/images/collectedimages/Angry/Angry.d812057c-af8c-11ec-88a2-dca632b24006.xml\n",
      "Image:/home/patrice/Documents/GRO400-MANUS/Hexapod-master/Hexapod_Qt/Tensorflow/workspace/images/collectedimages/Happy/Happy.3a8519d6-af85-11ec-88a2-dca632b24006.jpg -> Annotation:/home/patrice/Documents/GRO400-MANUS/Hexapod-master/Hexapod_Qt/Tensorflow/workspace/images/collectedimages/Happy/Happy.3a8519d6-af85-11ec-88a2-dca632b24006.xml\n",
      "Image:/home/patrice/Documents/GRO400-MANUS/Hexapod-master/Hexapod_Qt/Tensorflow/workspace/images/collectedimages/Happy/Happy.3c50339a-af85-11ec-88a2-dca632b24006.jpg -> Annotation:/home/patrice/Documents/GRO400-MANUS/Hexapod-master/Hexapod_Qt/Tensorflow/workspace/images/collectedimages/Happy/Happy.3c50339a-af85-11ec-88a2-dca632b24006.xml\n",
      "Image:/home/patrice/Documents/GRO400-MANUS/Hexapod-master/Hexapod_Qt/Tensorflow/workspace/images/collectedimages/Happy/Happy.3e1c4146-af85-11ec-88a2-dca632b24006.jpg -> Annotation:/home/patrice/Documents/GRO400-MANUS/Hexapod-master/Hexapod_Qt/Tensorflow/workspace/images/collectedimages/Happy/Happy.3e1c4146-af85-11ec-88a2-dca632b24006.xml\n",
      "Image:/home/patrice/Documents/GRO400-MANUS/Hexapod-master/Hexapod_Qt/Tensorflow/workspace/images/collectedimages/Happy/Happy.3fe86bb2-af85-11ec-88a2-dca632b24006.jpg -> Annotation:/home/patrice/Documents/GRO400-MANUS/Hexapod-master/Hexapod_Qt/Tensorflow/workspace/images/collectedimages/Happy/Happy.3fe86bb2-af85-11ec-88a2-dca632b24006.xml\n",
      "Image:/home/patrice/Documents/GRO400-MANUS/Hexapod-master/Hexapod_Qt/Tensorflow/workspace/images/collectedimages/Happy/Happy.4c76f858-af85-11ec-88a2-dca632b24006.jpg -> Annotation:/home/patrice/Documents/GRO400-MANUS/Hexapod-master/Hexapod_Qt/Tensorflow/workspace/images/collectedimages/Happy/Happy.4c76f858-af85-11ec-88a2-dca632b24006.xml\n",
      "Image:/home/patrice/Documents/GRO400-MANUS/Hexapod-master/Hexapod_Qt/Tensorflow/workspace/images/collectedimages/Happy/Happy.4e5f6196-af85-11ec-88a2-dca632b24006.jpg -> Annotation:/home/patrice/Documents/GRO400-MANUS/Hexapod-master/Hexapod_Qt/Tensorflow/workspace/images/collectedimages/Happy/Happy.4e5f6196-af85-11ec-88a2-dca632b24006.xml\n",
      "Image:/home/patrice/Documents/GRO400-MANUS/Hexapod-master/Hexapod_Qt/Tensorflow/workspace/images/collectedimages/Happy/Happy.6ecf368c-af8e-11ec-88a2-dca632b24006.jpg -> Annotation:/home/patrice/Documents/GRO400-MANUS/Hexapod-master/Hexapod_Qt/Tensorflow/workspace/images/collectedimages/Happy/Happy.6ecf368c-af8e-11ec-88a2-dca632b24006.xml\n",
      "Image:/home/patrice/Documents/GRO400-MANUS/Hexapod-master/Hexapod_Qt/Tensorflow/workspace/images/collectedimages/Happy/Happy.7b5e6aa8-af8e-11ec-88a2-dca632b24006.jpg -> Annotation:/home/patrice/Documents/GRO400-MANUS/Hexapod-master/Hexapod_Qt/Tensorflow/workspace/images/collectedimages/Happy/Happy.7b5e6aa8-af8e-11ec-88a2-dca632b24006.xml\n",
      "Image:/home/patrice/Documents/GRO400-MANUS/Hexapod-master/Hexapod_Qt/Tensorflow/workspace/images/collectedimages/Happy/Happy.7d2a08d8-af8e-11ec-88a2-dca632b24006.jpg -> Annotation:/home/patrice/Documents/GRO400-MANUS/Hexapod-master/Hexapod_Qt/Tensorflow/workspace/images/collectedimages/Happy/Happy.7d2a08d8-af8e-11ec-88a2-dca632b24006.xml\n",
      "Image:/home/patrice/Documents/GRO400-MANUS/Hexapod-master/Hexapod_Qt/Tensorflow/workspace/images/collectedimages/Happy/Happy.7ef80e8a-af8e-11ec-88a2-dca632b24006.jpg -> Annotation:/home/patrice/Documents/GRO400-MANUS/Hexapod-master/Hexapod_Qt/Tensorflow/workspace/images/collectedimages/Happy/Happy.7ef80e8a-af8e-11ec-88a2-dca632b24006.xml\n",
      "Image:/home/patrice/Documents/GRO400-MANUS/Hexapod-master/Hexapod_Qt/Tensorflow/workspace/images/collectedimages/Happy/Happy.36ee58d2-af85-11ec-88a2-dca632b24006.jpg -> Annotation:/home/patrice/Documents/GRO400-MANUS/Hexapod-master/Hexapod_Qt/Tensorflow/workspace/images/collectedimages/Happy/Happy.36ee58d2-af85-11ec-88a2-dca632b24006.xml\n",
      "Image:/home/patrice/Documents/GRO400-MANUS/Hexapod-master/Hexapod_Qt/Tensorflow/workspace/images/collectedimages/Happy/Happy.38b96eea-af85-11ec-88a2-dca632b24006.jpg -> Annotation:/home/patrice/Documents/GRO400-MANUS/Hexapod-master/Hexapod_Qt/Tensorflow/workspace/images/collectedimages/Happy/Happy.38b96eea-af85-11ec-88a2-dca632b24006.xml\n",
      "Image:/home/patrice/Documents/GRO400-MANUS/Hexapod-master/Hexapod_Qt/Tensorflow/workspace/images/collectedimages/Happy/Happy.41b3a43e-af85-11ec-88a2-dca632b24006.jpg -> Annotation:/home/patrice/Documents/GRO400-MANUS/Hexapod-master/Hexapod_Qt/Tensorflow/workspace/images/collectedimages/Happy/Happy.41b3a43e-af85-11ec-88a2-dca632b24006.xml\n",
      "Image:/home/patrice/Documents/GRO400-MANUS/Hexapod-master/Hexapod_Qt/Tensorflow/workspace/images/collectedimages/Happy/Happy.51f63000-af85-11ec-88a2-dca632b24006.jpg -> Annotation:/home/patrice/Documents/GRO400-MANUS/Hexapod-master/Hexapod_Qt/Tensorflow/workspace/images/collectedimages/Happy/Happy.51f63000-af85-11ec-88a2-dca632b24006.xml\n",
      "Image:/home/patrice/Documents/GRO400-MANUS/Hexapod-master/Hexapod_Qt/Tensorflow/workspace/images/collectedimages/Happy/Happy.53c2c1a0-af85-11ec-88a2-dca632b24006.jpg -> Annotation:/home/patrice/Documents/GRO400-MANUS/Hexapod-master/Hexapod_Qt/Tensorflow/workspace/images/collectedimages/Happy/Happy.53c2c1a0-af85-11ec-88a2-dca632b24006.xml\n",
      "Image:/home/patrice/Documents/GRO400-MANUS/Hexapod-master/Hexapod_Qt/Tensorflow/workspace/images/collectedimages/Happy/Happy.75fb204c-af8e-11ec-88a2-dca632b24006.jpg -> Annotation:/home/patrice/Documents/GRO400-MANUS/Hexapod-master/Hexapod_Qt/Tensorflow/workspace/images/collectedimages/Happy/Happy.75fb204c-af8e-11ec-88a2-dca632b24006.xml\n"
     ]
    },
    {
     "name": "stdout",
     "output_type": "stream",
     "text": [
      "Image:/home/patrice/Documents/GRO400-MANUS/Hexapod-master/Hexapod_Qt/Tensorflow/workspace/images/collectedimages/Happy/Happy.77c6de3e-af8e-11ec-88a2-dca632b24006.jpg -> Annotation:/home/patrice/Documents/GRO400-MANUS/Hexapod-master/Hexapod_Qt/Tensorflow/workspace/images/collectedimages/Happy/Happy.77c6de3e-af8e-11ec-88a2-dca632b24006.xml\n",
      "Image:/home/patrice/Documents/GRO400-MANUS/Hexapod-master/Hexapod_Qt/Tensorflow/workspace/images/collectedimages/Happy/Happy.80c43d74-af8e-11ec-88a2-dca632b24006.jpg -> Annotation:/home/patrice/Documents/GRO400-MANUS/Hexapod-master/Hexapod_Qt/Tensorflow/workspace/images/collectedimages/Happy/Happy.80c43d74-af8e-11ec-88a2-dca632b24006.xml\n",
      "Image:/home/patrice/Documents/GRO400-MANUS/Hexapod-master/Hexapod_Qt/Tensorflow/workspace/images/collectedimages/Happy/Happy.454b1d20-af85-11ec-88a2-dca632b24006.jpg -> Annotation:/home/patrice/Documents/GRO400-MANUS/Hexapod-master/Hexapod_Qt/Tensorflow/workspace/images/collectedimages/Happy/Happy.454b1d20-af85-11ec-88a2-dca632b24006.xml\n",
      "Image:/home/patrice/Documents/GRO400-MANUS/Hexapod-master/Hexapod_Qt/Tensorflow/workspace/images/collectedimages/Happy/Happy.502ab250-af85-11ec-88a2-dca632b24006.jpg -> Annotation:/home/patrice/Documents/GRO400-MANUS/Hexapod-master/Hexapod_Qt/Tensorflow/workspace/images/collectedimages/Happy/Happy.502ab250-af85-11ec-88a2-dca632b24006.xml\n",
      "Image:/home/patrice/Documents/GRO400-MANUS/Hexapod-master/Hexapod_Qt/Tensorflow/workspace/images/collectedimages/Happy/Happy.709a4696-af8e-11ec-88a2-dca632b24006.jpg -> Annotation:/home/patrice/Documents/GRO400-MANUS/Hexapod-master/Hexapod_Qt/Tensorflow/workspace/images/collectedimages/Happy/Happy.709a4696-af8e-11ec-88a2-dca632b24006.xml\n",
      "Image:/home/patrice/Documents/GRO400-MANUS/Hexapod-master/Hexapod_Qt/Tensorflow/workspace/images/collectedimages/Happy/Happy.828f9928-af8e-11ec-88a2-dca632b24006.jpg -> Annotation:/home/patrice/Documents/GRO400-MANUS/Hexapod-master/Hexapod_Qt/Tensorflow/workspace/images/collectedimages/Happy/Happy.828f9928-af8e-11ec-88a2-dca632b24006.xml\n",
      "Image:/home/patrice/Documents/GRO400-MANUS/Hexapod-master/Hexapod_Qt/Tensorflow/workspace/images/collectedimages/Happy/Happy.845c723a-af8e-11ec-88a2-dca632b24006.jpg -> Annotation:/home/patrice/Documents/GRO400-MANUS/Hexapod-master/Hexapod_Qt/Tensorflow/workspace/images/collectedimages/Happy/Happy.845c723a-af8e-11ec-88a2-dca632b24006.xml\n",
      "Image:/home/patrice/Documents/GRO400-MANUS/Hexapod-master/Hexapod_Qt/Tensorflow/workspace/images/collectedimages/Happy/Happy.5758ff78-af85-11ec-88a2-dca632b24006.jpg -> Annotation:/home/patrice/Documents/GRO400-MANUS/Hexapod-master/Hexapod_Qt/Tensorflow/workspace/images/collectedimages/Happy/Happy.5758ff78-af85-11ec-88a2-dca632b24006.xml\n",
      "Image:/home/patrice/Documents/GRO400-MANUS/Hexapod-master/Hexapod_Qt/Tensorflow/workspace/images/collectedimages/Happy/Happy.7991efc4-af8e-11ec-88a2-dca632b24006.jpg -> Annotation:/home/patrice/Documents/GRO400-MANUS/Hexapod-master/Hexapod_Qt/Tensorflow/workspace/images/collectedimages/Happy/Happy.7991efc4-af8e-11ec-88a2-dca632b24006.xml\n",
      "Image:/home/patrice/Documents/GRO400-MANUS/Hexapod-master/Hexapod_Qt/Tensorflow/workspace/images/collectedimages/Happy/Happy.28971c6e-af86-11ec-88a2-dca632b24006.jpg -> Annotation:/home/patrice/Documents/GRO400-MANUS/Hexapod-master/Hexapod_Qt/Tensorflow/workspace/images/collectedimages/Happy/Happy.28971c6e-af86-11ec-88a2-dca632b24006.xml\n",
      "Image:/home/patrice/Documents/GRO400-MANUS/Hexapod-master/Hexapod_Qt/Tensorflow/workspace/images/collectedimages/Happy/Happy.35232ec4-af85-11ec-88a2-dca632b24006.jpg -> Annotation:/home/patrice/Documents/GRO400-MANUS/Hexapod-master/Hexapod_Qt/Tensorflow/workspace/images/collectedimages/Happy/Happy.35232ec4-af85-11ec-88a2-dca632b24006.xml\n",
      "Image:/home/patrice/Documents/GRO400-MANUS/Hexapod-master/Hexapod_Qt/Tensorflow/workspace/images/collectedimages/Happy/Happy.47162bcc-af85-11ec-88a2-dca632b24006.jpg -> Annotation:/home/patrice/Documents/GRO400-MANUS/Hexapod-master/Hexapod_Qt/Tensorflow/workspace/images/collectedimages/Happy/Happy.47162bcc-af85-11ec-88a2-dca632b24006.xml\n",
      "Image:/home/patrice/Documents/GRO400-MANUS/Hexapod-master/Hexapod_Qt/Tensorflow/workspace/images/collectedimages/Happy/Happy.74308cd4-af8e-11ec-88a2-dca632b24006.jpg -> Annotation:/home/patrice/Documents/GRO400-MANUS/Hexapod-master/Hexapod_Qt/Tensorflow/workspace/images/collectedimages/Happy/Happy.74308cd4-af8e-11ec-88a2-dca632b24006.xml\n",
      "Image:/home/patrice/Documents/GRO400-MANUS/Hexapod-master/Hexapod_Qt/Tensorflow/workspace/images/collectedimages/Happy/Happy.7265426e-af8e-11ec-88a2-dca632b24006.jpg -> Annotation:/home/patrice/Documents/GRO400-MANUS/Hexapod-master/Hexapod_Qt/Tensorflow/workspace/images/collectedimages/Happy/Happy.7265426e-af8e-11ec-88a2-dca632b24006.xml\n",
      "Image:/home/patrice/Documents/GRO400-MANUS/Hexapod-master/Hexapod_Qt/Tensorflow/workspace/images/collectedimages/Happy/Happy.de5e6b70-af85-11ec-88a2-dca632b24006.jpg -> Annotation:/home/patrice/Documents/GRO400-MANUS/Hexapod-master/Hexapod_Qt/Tensorflow/workspace/images/collectedimages/Happy/Happy.de5e6b70-af85-11ec-88a2-dca632b24006.xml\n",
      "Image:/home/patrice/Documents/GRO400-MANUS/Hexapod-master/Hexapod_Qt/Tensorflow/workspace/images/collectedimages/Happy/Happy.e3c25e64-af85-11ec-88a2-dca632b24006.jpg -> Annotation:/home/patrice/Documents/GRO400-MANUS/Hexapod-master/Hexapod_Qt/Tensorflow/workspace/images/collectedimages/Happy/Happy.e3c25e64-af85-11ec-88a2-dca632b24006.xml\n",
      "Image:/home/patrice/Documents/GRO400-MANUS/Hexapod-master/Hexapod_Qt/Tensorflow/workspace/images/collectedimages/Happy/Happy.e0292bac-af85-11ec-88a2-dca632b24006.jpg -> Annotation:/home/patrice/Documents/GRO400-MANUS/Hexapod-master/Hexapod_Qt/Tensorflow/workspace/images/collectedimages/Happy/Happy.e0292bac-af85-11ec-88a2-dca632b24006.xml\n"
     ]
    }
   ],
>>>>>>> Stashed changes
   "source": [
    "!cd {LABELIMG_PATH} && python labelImg.py"
   ]
  },
  {
   "cell_type": "markdown",
   "metadata": {},
   "source": [
    "# 6. Move them into a Training and Testing Partition"
   ]
  },
  {
   "cell_type": "markdown",
   "metadata": {},
   "source": [
    "# OPTIONAL - 7. Compress them for Colab Training"
   ]
  },
  {
   "cell_type": "code",
   "execution_count": 20,
   "metadata": {},
   "outputs": [],
   "source": [
    "TRAIN_PATH = os.path.join('Tensorflow', 'workspace', 'images', 'train')\n",
    "TEST_PATH = os.path.join('Tensorflow', 'workspace', 'images', 'test')\n",
    "ARCHIVE_PATH = os.path.join('Tensorflow', 'workspace', 'images', 'archive.tar.gz')"
   ]
  },
  {
   "cell_type": "code",
   "execution_count": 21,
   "metadata": {},
   "outputs": [],
   "source": [
    "!tar -czf {ARCHIVE_PATH} {TRAIN_PATH} {TEST_PATH}"
   ]
  },
  {
   "cell_type": "code",
   "execution_count": null,
   "metadata": {},
   "outputs": [],
   "source": []
  }
 ],
 "metadata": {
  "interpreter": {
   "hash": "80c71a0db24309a8254ceb5e36f21362e51c0ff1f1e696e5677cdd2e284ca521"
  },
  "kernelspec": {
   "display_name": "Qt_venv",
   "language": "python",
   "name": "qt_venv"
  },
  "language_info": {
   "codemirror_mode": {
    "name": "ipython",
    "version": 3
   },
   "file_extension": ".py",
   "mimetype": "text/x-python",
   "name": "python",
   "nbconvert_exporter": "python",
   "pygments_lexer": "ipython3",
   "version": "3.9.7"
  }
 },
 "nbformat": 4,
 "nbformat_minor": 2
}

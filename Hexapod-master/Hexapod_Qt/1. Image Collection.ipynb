{
 "cells": [
  {
   "cell_type": "markdown",
   "metadata": {},
   "source": [
    "# 1. Import Dependencies"
   ]
  },
  {
   "cell_type": "code",
<<<<<<< Updated upstream
   "execution_count": 1,
=======
   "execution_count": 2,
>>>>>>> Stashed changes
   "metadata": {},
   "outputs": [],
   "source": [
    "# Import opencv\n",
    "import cv2 \n",
    "\n",
    "# Import uuid\n",
    "import uuid\n",
    "\n",
    "# Import Operating System\n",
    "import os\n",
    "\n",
    "# Import time\n",
    "import time\n",
    "\n",
    "# Import VideoStream\n",
    "from imutils.video import VideoStream\n",
    "\n",
    "#from picamera import PiCamera"
   ]
  },
  {
   "cell_type": "markdown",
   "metadata": {},
   "source": [
    "# 2. Define Images to Collect"
   ]
  },
  {
   "cell_type": "code",
<<<<<<< Updated upstream
   "execution_count": 2,
=======
   "execution_count": 3,
>>>>>>> Stashed changes
   "metadata": {},
   "outputs": [],
   "source": [
    "labels = ['Happy']\n",
    "number_imgs = 1"
   ]
  },
  {
   "cell_type": "markdown",
   "metadata": {},
   "source": [
    "# 3. Setup Folders "
   ]
  },
  {
   "cell_type": "code",
<<<<<<< Updated upstream
   "execution_count": 3,
=======
   "execution_count": 4,
>>>>>>> Stashed changes
   "metadata": {},
   "outputs": [],
   "source": [
    "IMAGES_PATH = os.path.join('Tensorflow', 'workspace', 'images', 'collectedimages')"
   ]
  },
  {
   "cell_type": "code",
   "execution_count": 4,
   "metadata": {},
   "outputs": [],
   "source": [
    "if not os.path.exists(IMAGES_PATH):\n",
    "    if os.name == 'posix':\n",
    "        !mkdir -p {IMAGES_PATH}\n",
    "    if os.name == 'nt':\n",
    "         !mkdir {IMAGES_PATH}\n",
    "for label in labels:\n",
    "    path = os.path.join(IMAGES_PATH, label)\n",
    "    if not os.path.exists(path):\n",
    "        !mkdir {path}"
   ]
  },
  {
   "cell_type": "markdown",
   "metadata": {},
   "source": [
    "# 4. Capture Images"
   ]
  },
  {
   "cell_type": "code",
   "execution_count": 5,
   "metadata": {},
   "outputs": [
    {
     "name": "stdout",
     "output_type": "stream",
     "text": [
      "Collecting images for Happy\n",
      "Collecting image 0\n",
      "Done taking image\n"
     ]
    }
   ],
   "source": [
    "cap = VideoStream(src=0,usePiCamera=True).start()\n",
    "# cap = PiCamera()\n",
    "\n",
    "for label in labels:\n",
    "    print('Collecting images for {}'.format(label))\n",
    "    time.sleep(5)\n",
    "    for imgnum in range(number_imgs):\n",
    "        print('Collecting image {}'.format(imgnum))\n",
    "        frame = cap.read()\n",
    "        imgname = os.path.join(IMAGES_PATH,label,label+'.'+'{}.jpg'.format(str(uuid.uuid1())))\n",
    "        # frame = cap.capture(imgname)\n",
    "        cv2.imwrite(imgname, frame)\n",
    "        print(\"Done taking image\")\n",
    "        time.sleep(3)\n",
    "\n",
    "cap.stop()\n",
    "# cap.close()\n"
   ]
  },
  {
   "cell_type": "markdown",
   "metadata": {},
   "source": [
    "# 5. Image Labelling"
   ]
  },
  {
   "cell_type": "code",
   "execution_count": 5,
   "metadata": {},
   "outputs": [],
   "source": [
    "LABELIMG_PATH = os.path.join('Tensorflow', 'labelimg')"
   ]
  },
  {
   "cell_type": "code",
   "execution_count": 6,
   "metadata": {},
   "outputs": [
    {
     "name": "stdout",
     "output_type": "stream",
     "text": [
      "Cloning into 'Tensorflow/labelimg'...\n",
      "remote: Enumerating objects: 1978, done.\u001b[K\n",
      "remote: Counting objects: 100% (1/1), done.\u001b[K\n",
      "remote: Total 1978 (delta 0), reused 0 (delta 0), pack-reused 1977\u001b[K\n",
      "Receiving objects: 100% (1978/1978), 232.83 MiB | 3.54 MiB/s, done.\n",
      "Resolving deltas: 100% (1182/1182), done.\n"
     ]
    }
   ],
   "source": [
    "if not os.path.exists(LABELIMG_PATH):\n",
    "    !mkdir {LABELIMG_PATH}\n",
    "    !git clone https://github.com/tzutalin/labelImg {LABELIMG_PATH}"
   ]
  },
  {
   "cell_type": "code",
   "execution_count": 7,
   "metadata": {},
   "outputs": [
    {
     "name": "stdout",
     "output_type": "stream",
     "text": [
      "pyrcc5 -o libs/resources.py resources.qrc\r\n"
     ]
    }
   ],
   "source": [
    "if os.name == 'posix':\n",
    "    !cd {LABELIMG_PATH} && make qt5py3\n",
    "if os.name =='nt':\n",
    "    !cd {LABELIMG_PATH} && pyrcc5 -o libs/resources.py resources.qrc"
   ]
  },
  {
   "cell_type": "code",
   "execution_count": 8,
   "metadata": {},
<<<<<<< Updated upstream
   "outputs": [],
=======
   "outputs": [
    {
     "name": "stdout",
     "output_type": "stream",
     "text": [
      "/home/patrice/Documents/GRO400-MANUS/Hexapod-master/Hexapod_Qt/Tensorflow/labelimg/labelImg.py:210: DeprecationWarning: an integer is required (got type DockWidgetFeatures).  Implicit conversion to integers using __int__ is deprecated, and may be removed in a future version of Python.\n",
      "  self.dock.setFeatures(self.dock.features() ^ self.dock_features)\n",
      "Image:/home/patrice/Documents/GRO400-MANUS/Hexapod-master/Hexapod_Qt/Tensorflow/workspace/images/collectedimages/Angry/Angry.02cd77e0-b5c0-11ec-aa73-dca632b24006.jpg -> Annotation:/home/patrice/Documents/GRO400-MANUS/Hexapod-master/Hexapod_Qt/Tensorflow/workspace/images/collectedimages/Angry/Angry.02cd77e0-b5c0-11ec-aa73-dca632b24006.xml\n",
      "Image:/home/patrice/Documents/GRO400-MANUS/Hexapod-master/Hexapod_Qt/Tensorflow/workspace/images/collectedimages/Angry/Angry.5e454086-b5c4-11ec-aa73-dca632b24006.jpg -> Annotation:/home/patrice/Documents/GRO400-MANUS/Hexapod-master/Hexapod_Qt/Tensorflow/workspace/images/collectedimages/Angry/Angry.5e454086-b5c4-11ec-aa73-dca632b24006.xml\n",
      "Image:/home/patrice/Documents/GRO400-MANUS/Hexapod-master/Hexapod_Qt/Tensorflow/workspace/images/collectedimages/Angry/Angry.6ad48d7a-b5c4-11ec-aa73-dca632b24006.jpg -> Annotation:/home/patrice/Documents/GRO400-MANUS/Hexapod-master/Hexapod_Qt/Tensorflow/workspace/images/collectedimages/Angry/Angry.6ad48d7a-b5c4-11ec-aa73-dca632b24006.xml\n",
      "Image:/home/patrice/Documents/GRO400-MANUS/Hexapod-master/Hexapod_Qt/Tensorflow/workspace/images/collectedimages/Angry/Angry.5aaec8b6-b5c4-11ec-aa73-dca632b24006.jpg -> Annotation:/home/patrice/Documents/GRO400-MANUS/Hexapod-master/Hexapod_Qt/Tensorflow/workspace/images/collectedimages/Angry/Angry.5aaec8b6-b5c4-11ec-aa73-dca632b24006.xml\n",
      "Image:/home/patrice/Documents/GRO400-MANUS/Hexapod-master/Hexapod_Qt/Tensorflow/workspace/images/collectedimages/Angry/Angry.5c79fbf2-b5c4-11ec-aa73-dca632b24006.jpg -> Annotation:/home/patrice/Documents/GRO400-MANUS/Hexapod-master/Hexapod_Qt/Tensorflow/workspace/images/collectedimages/Angry/Angry.5c79fbf2-b5c4-11ec-aa73-dca632b24006.xml\n",
      "Image:/home/patrice/Documents/GRO400-MANUS/Hexapod-master/Hexapod_Qt/Tensorflow/workspace/images/collectedimages/Angry/Angry.6c9f2796-b5c4-11ec-aa73-dca632b24006.jpg -> Annotation:/home/patrice/Documents/GRO400-MANUS/Hexapod-master/Hexapod_Qt/Tensorflow/workspace/images/collectedimages/Angry/Angry.6c9f2796-b5c4-11ec-aa73-dca632b24006.xml\n",
      "Image:/home/patrice/Documents/GRO400-MANUS/Hexapod-master/Hexapod_Qt/Tensorflow/workspace/images/collectedimages/Angry/Angry.6e6a5366-b5c4-11ec-aa73-dca632b24006.jpg -> Annotation:/home/patrice/Documents/GRO400-MANUS/Hexapod-master/Hexapod_Qt/Tensorflow/workspace/images/collectedimages/Angry/Angry.6e6a5366-b5c4-11ec-aa73-dca632b24006.xml\n",
      "Image:/home/patrice/Documents/GRO400-MANUS/Hexapod-master/Hexapod_Qt/Tensorflow/workspace/images/collectedimages/Angry/Angry.58e35984-b5c4-11ec-aa73-dca632b24006.jpg -> Annotation:/home/patrice/Documents/GRO400-MANUS/Hexapod-master/Hexapod_Qt/Tensorflow/workspace/images/collectedimages/Angry/Angry.58e35984-b5c4-11ec-aa73-dca632b24006.xml\n",
      "Image:/home/patrice/Documents/GRO400-MANUS/Hexapod-master/Hexapod_Qt/Tensorflow/workspace/images/collectedimages/Angry/Angry.61dc38a8-b5c4-11ec-aa73-dca632b24006.jpg -> Annotation:/home/patrice/Documents/GRO400-MANUS/Hexapod-master/Hexapod_Qt/Tensorflow/workspace/images/collectedimages/Angry/Angry.61dc38a8-b5c4-11ec-aa73-dca632b24006.xml\n",
      "Image:/home/patrice/Documents/GRO400-MANUS/Hexapod-master/Hexapod_Qt/Tensorflow/workspace/images/collectedimages/Angry/Angry.63a73200-b5c4-11ec-aa73-dca632b24006.jpg -> Annotation:/home/patrice/Documents/GRO400-MANUS/Hexapod-master/Hexapod_Qt/Tensorflow/workspace/images/collectedimages/Angry/Angry.63a73200-b5c4-11ec-aa73-dca632b24006.xml\n",
      "Image:/home/patrice/Documents/GRO400-MANUS/Hexapod-master/Hexapod_Qt/Tensorflow/workspace/images/collectedimages/Angry/Angry.0101b912-b5c0-11ec-aa73-dca632b24006.jpg -> Annotation:/home/patrice/Documents/GRO400-MANUS/Hexapod-master/Hexapod_Qt/Tensorflow/workspace/images/collectedimages/Angry/Angry.0101b912-b5c0-11ec-aa73-dca632b24006.xml\n",
      "Image:/home/patrice/Documents/GRO400-MANUS/Hexapod-master/Hexapod_Qt/Tensorflow/workspace/images/collectedimages/Angry/Angry.554ca082-b5c4-11ec-aa73-dca632b24006.jpg -> Annotation:/home/patrice/Documents/GRO400-MANUS/Hexapod-master/Hexapod_Qt/Tensorflow/workspace/images/collectedimages/Angry/Angry.554ca082-b5c4-11ec-aa73-dca632b24006.xml\n",
      "Image:/home/patrice/Documents/GRO400-MANUS/Hexapod-master/Hexapod_Qt/Tensorflow/workspace/images/collectedimages/Angry/Angry.0663f44c-b5c0-11ec-aa73-dca632b24006.jpg -> Annotation:/home/patrice/Documents/GRO400-MANUS/Hexapod-master/Hexapod_Qt/Tensorflow/workspace/images/collectedimages/Angry/Angry.0663f44c-b5c0-11ec-aa73-dca632b24006.xml\n",
      "Image:/home/patrice/Documents/GRO400-MANUS/Hexapod-master/Hexapod_Qt/Tensorflow/workspace/images/collectedimages/Angry/Angry.673ec216-b5c4-11ec-aa73-dca632b24006.jpg -> Annotation:/home/patrice/Documents/GRO400-MANUS/Hexapod-master/Hexapod_Qt/Tensorflow/workspace/images/collectedimages/Angry/Angry.673ec216-b5c4-11ec-aa73-dca632b24006.xml\n",
      "Image:/home/patrice/Documents/GRO400-MANUS/Hexapod-master/Hexapod_Qt/Tensorflow/workspace/images/collectedimages/Angry/Angry.04988d58-b5c0-11ec-aa73-dca632b24006.jpg -> Annotation:/home/patrice/Documents/GRO400-MANUS/Hexapod-master/Hexapod_Qt/Tensorflow/workspace/images/collectedimages/Angry/Angry.04988d58-b5c0-11ec-aa73-dca632b24006.xml\n",
      "Image:/home/patrice/Documents/GRO400-MANUS/Hexapod-master/Hexapod_Qt/Tensorflow/workspace/images/collectedimages/Angry/Angry.6909a778-b5c4-11ec-aa73-dca632b24006.jpg -> Annotation:/home/patrice/Documents/GRO400-MANUS/Hexapod-master/Hexapod_Qt/Tensorflow/workspace/images/collectedimages/Angry/Angry.6909a778-b5c4-11ec-aa73-dca632b24006.xml\n",
      "Image:/home/patrice/Documents/GRO400-MANUS/Hexapod-master/Hexapod_Qt/Tensorflow/workspace/images/collectedimages/Angry/Angry.65724bf6-b5c4-11ec-aa73-dca632b24006.jpg -> Annotation:/home/patrice/Documents/GRO400-MANUS/Hexapod-master/Hexapod_Qt/Tensorflow/workspace/images/collectedimages/Angry/Angry.65724bf6-b5c4-11ec-aa73-dca632b24006.xml\n",
      "Image:/home/patrice/Documents/GRO400-MANUS/Hexapod-master/Hexapod_Qt/Tensorflow/workspace/images/collectedimages/Angry/Angry.571870d0-b5c4-11ec-aa73-dca632b24006.jpg -> Annotation:/home/patrice/Documents/GRO400-MANUS/Hexapod-master/Hexapod_Qt/Tensorflow/workspace/images/collectedimages/Angry/Angry.571870d0-b5c4-11ec-aa73-dca632b24006.xml\n",
      "Image:/home/patrice/Documents/GRO400-MANUS/Hexapod-master/Hexapod_Qt/Tensorflow/workspace/images/collectedimages/Angry/Angry.a8b2d84a-b5bf-11ec-aa73-dca632b24006.jpg -> Annotation:/home/patrice/Documents/GRO400-MANUS/Hexapod-master/Hexapod_Qt/Tensorflow/workspace/images/collectedimages/Angry/Angry.a8b2d84a-b5bf-11ec-aa73-dca632b24006.xml\n",
      "Image:/home/patrice/Documents/GRO400-MANUS/Hexapod-master/Hexapod_Qt/Tensorflow/workspace/images/collectedimages/Angry/Angry.aa837378-b5bf-11ec-aa73-dca632b24006.jpg -> Annotation:/home/patrice/Documents/GRO400-MANUS/Hexapod-master/Hexapod_Qt/Tensorflow/workspace/images/collectedimages/Angry/Angry.aa837378-b5bf-11ec-aa73-dca632b24006.xml\n",
      "Image:/home/patrice/Documents/GRO400-MANUS/Hexapod-master/Hexapod_Qt/Tensorflow/workspace/images/collectedimages/Angry/Angry.ac4e5876-b5bf-11ec-aa73-dca632b24006.jpg -> Annotation:/home/patrice/Documents/GRO400-MANUS/Hexapod-master/Hexapod_Qt/Tensorflow/workspace/images/collectedimages/Angry/Angry.ac4e5876-b5bf-11ec-aa73-dca632b24006.xml\n",
      "Image:/home/patrice/Documents/GRO400-MANUS/Hexapod-master/Hexapod_Qt/Tensorflow/workspace/images/collectedimages/Angry/Angry.ae190dea-b5bf-11ec-aa73-dca632b24006.jpg -> Annotation:/home/patrice/Documents/GRO400-MANUS/Hexapod-master/Hexapod_Qt/Tensorflow/workspace/images/collectedimages/Angry/Angry.ae190dea-b5bf-11ec-aa73-dca632b24006.xml\n",
      "Image:/home/patrice/Documents/GRO400-MANUS/Hexapod-master/Hexapod_Qt/Tensorflow/workspace/images/collectedimages/Angry/Angry.afe3c070-b5bf-11ec-aa73-dca632b24006.jpg -> Annotation:/home/patrice/Documents/GRO400-MANUS/Hexapod-master/Hexapod_Qt/Tensorflow/workspace/images/collectedimages/Angry/Angry.afe3c070-b5bf-11ec-aa73-dca632b24006.xml\n",
      "Image:/home/patrice/Documents/GRO400-MANUS/Hexapod-master/Hexapod_Qt/Tensorflow/workspace/images/collectedimages/Angry/Angry.b1aef24e-b5bf-11ec-aa73-dca632b24006.jpg -> Annotation:/home/patrice/Documents/GRO400-MANUS/Hexapod-master/Hexapod_Qt/Tensorflow/workspace/images/collectedimages/Angry/Angry.b1aef24e-b5bf-11ec-aa73-dca632b24006.xml\n"
     ]
    },
    {
     "name": "stdout",
     "output_type": "stream",
     "text": [
      "Image:/home/patrice/Documents/GRO400-MANUS/Hexapod-master/Hexapod_Qt/Tensorflow/workspace/images/collectedimages/Angry/Angry.b37a7094-b5bf-11ec-aa73-dca632b24006.jpg -> Annotation:/home/patrice/Documents/GRO400-MANUS/Hexapod-master/Hexapod_Qt/Tensorflow/workspace/images/collectedimages/Angry/Angry.b37a7094-b5bf-11ec-aa73-dca632b24006.xml\n",
      "Image:/home/patrice/Documents/GRO400-MANUS/Hexapod-master/Hexapod_Qt/Tensorflow/workspace/images/collectedimages/Angry/Angry.b54584c2-b5bf-11ec-aa73-dca632b24006.jpg -> Annotation:/home/patrice/Documents/GRO400-MANUS/Hexapod-master/Hexapod_Qt/Tensorflow/workspace/images/collectedimages/Angry/Angry.b54584c2-b5bf-11ec-aa73-dca632b24006.xml\n",
      "Image:/home/patrice/Documents/GRO400-MANUS/Hexapod-master/Hexapod_Qt/Tensorflow/workspace/images/collectedimages/Angry/Angry.b88593a2-b5bf-11ec-aa73-dca632b24006.jpg -> Annotation:/home/patrice/Documents/GRO400-MANUS/Hexapod-master/Hexapod_Qt/Tensorflow/workspace/images/collectedimages/Angry/Angry.b88593a2-b5bf-11ec-aa73-dca632b24006.xml\n",
      "Image:/home/patrice/Documents/GRO400-MANUS/Hexapod-master/Hexapod_Qt/Tensorflow/workspace/images/collectedimages/Angry/Angry.ba514c8a-b5bf-11ec-aa73-dca632b24006.jpg -> Annotation:/home/patrice/Documents/GRO400-MANUS/Hexapod-master/Hexapod_Qt/Tensorflow/workspace/images/collectedimages/Angry/Angry.ba514c8a-b5bf-11ec-aa73-dca632b24006.xml\n",
      "Image:/home/patrice/Documents/GRO400-MANUS/Hexapod-master/Hexapod_Qt/Tensorflow/workspace/images/collectedimages/Angry/Angry.bc1c9696-b5bf-11ec-aa73-dca632b24006.jpg -> Annotation:/home/patrice/Documents/GRO400-MANUS/Hexapod-master/Hexapod_Qt/Tensorflow/workspace/images/collectedimages/Angry/Angry.bc1c9696-b5bf-11ec-aa73-dca632b24006.xml\n",
      "Image:/home/patrice/Documents/GRO400-MANUS/Hexapod-master/Hexapod_Qt/Tensorflow/workspace/images/collectedimages/Angry/Angry.bde7dc60-b5bf-11ec-aa73-dca632b24006.jpg -> Annotation:/home/patrice/Documents/GRO400-MANUS/Hexapod-master/Hexapod_Qt/Tensorflow/workspace/images/collectedimages/Angry/Angry.bde7dc60-b5bf-11ec-aa73-dca632b24006.xml\n",
      "Image:/home/patrice/Documents/GRO400-MANUS/Hexapod-master/Hexapod_Qt/Tensorflow/workspace/images/collectedimages/Angry/Angry.bfb308b2-b5bf-11ec-aa73-dca632b24006.jpg -> Annotation:/home/patrice/Documents/GRO400-MANUS/Hexapod-master/Hexapod_Qt/Tensorflow/workspace/images/collectedimages/Angry/Angry.bfb308b2-b5bf-11ec-aa73-dca632b24006.xml\n",
      "Image:/home/patrice/Documents/GRO400-MANUS/Hexapod-master/Hexapod_Qt/Tensorflow/workspace/images/collectedimages/Angry/Angry.c6e01ec2-b5bf-11ec-aa73-dca632b24006.jpg -> Annotation:/home/patrice/Documents/GRO400-MANUS/Hexapod-master/Hexapod_Qt/Tensorflow/workspace/images/collectedimages/Angry/Angry.c6e01ec2-b5bf-11ec-aa73-dca632b24006.xml\n",
      "Image:/home/patrice/Documents/GRO400-MANUS/Hexapod-master/Hexapod_Qt/Tensorflow/workspace/images/collectedimages/Angry/Angry.c8ab468c-b5bf-11ec-aa73-dca632b24006.jpg -> Annotation:/home/patrice/Documents/GRO400-MANUS/Hexapod-master/Hexapod_Qt/Tensorflow/workspace/images/collectedimages/Angry/Angry.c8ab468c-b5bf-11ec-aa73-dca632b24006.xml\n",
      "Image:/home/patrice/Documents/GRO400-MANUS/Hexapod-master/Hexapod_Qt/Tensorflow/workspace/images/collectedimages/Angry/Angry.c17e4d5a-b5bf-11ec-aa73-dca632b24006.jpg -> Annotation:/home/patrice/Documents/GRO400-MANUS/Hexapod-master/Hexapod_Qt/Tensorflow/workspace/images/collectedimages/Angry/Angry.c17e4d5a-b5bf-11ec-aa73-dca632b24006.xml\n",
      "Image:/home/patrice/Documents/GRO400-MANUS/Hexapod-master/Hexapod_Qt/Tensorflow/workspace/images/collectedimages/Angry/Angry.c349a2c4-b5bf-11ec-aa73-dca632b24006.jpg -> Annotation:/home/patrice/Documents/GRO400-MANUS/Hexapod-master/Hexapod_Qt/Tensorflow/workspace/images/collectedimages/Angry/Angry.c349a2c4-b5bf-11ec-aa73-dca632b24006.xml\n",
      "Image:/home/patrice/Documents/GRO400-MANUS/Hexapod-master/Hexapod_Qt/Tensorflow/workspace/images/collectedimages/Angry/Angry.ca7736c4-b5bf-11ec-aa73-dca632b24006.jpg -> Annotation:/home/patrice/Documents/GRO400-MANUS/Hexapod-master/Hexapod_Qt/Tensorflow/workspace/images/collectedimages/Angry/Angry.ca7736c4-b5bf-11ec-aa73-dca632b24006.xml\n",
      "Image:/home/patrice/Documents/GRO400-MANUS/Hexapod-master/Hexapod_Qt/Tensorflow/workspace/images/collectedimages/Angry/Angry.cc438bec-b5bf-11ec-aa73-dca632b24006.jpg -> Annotation:/home/patrice/Documents/GRO400-MANUS/Hexapod-master/Hexapod_Qt/Tensorflow/workspace/images/collectedimages/Angry/Angry.cc438bec-b5bf-11ec-aa73-dca632b24006.xml\n",
      "Image:/home/patrice/Documents/GRO400-MANUS/Hexapod-master/Hexapod_Qt/Tensorflow/workspace/images/collectedimages/Angry/Angry.ce0e662c-b5bf-11ec-aa73-dca632b24006.jpg -> Annotation:/home/patrice/Documents/GRO400-MANUS/Hexapod-master/Hexapod_Qt/Tensorflow/workspace/images/collectedimages/Angry/Angry.ce0e662c-b5bf-11ec-aa73-dca632b24006.xml\n",
      "Image:/home/patrice/Documents/GRO400-MANUS/Hexapod-master/Hexapod_Qt/Tensorflow/workspace/images/collectedimages/Angry/Angry.d1f8c94e-b5c4-11ec-aa73-dca632b24006.jpg -> Annotation:/home/patrice/Documents/GRO400-MANUS/Hexapod-master/Hexapod_Qt/Tensorflow/workspace/images/collectedimages/Angry/Angry.d1f8c94e-b5c4-11ec-aa73-dca632b24006.xml\n",
      "Image:/home/patrice/Documents/GRO400-MANUS/Hexapod-master/Hexapod_Qt/Tensorflow/workspace/images/collectedimages/Angry/Angry.d3c40c84-b5c4-11ec-aa73-dca632b24006.jpg -> Annotation:/home/patrice/Documents/GRO400-MANUS/Hexapod-master/Hexapod_Qt/Tensorflow/workspace/images/collectedimages/Angry/Angry.d3c40c84-b5c4-11ec-aa73-dca632b24006.xml\n",
      "Image:/home/patrice/Documents/GRO400-MANUS/Hexapod-master/Hexapod_Qt/Tensorflow/workspace/images/collectedimages/Angry/Angry.d6d05df6-b5bf-11ec-aa73-dca632b24006.jpg -> Annotation:/home/patrice/Documents/GRO400-MANUS/Hexapod-master/Hexapod_Qt/Tensorflow/workspace/images/collectedimages/Angry/Angry.d6d05df6-b5bf-11ec-aa73-dca632b24006.xml\n",
      "Image:/home/patrice/Documents/GRO400-MANUS/Hexapod-master/Hexapod_Qt/Tensorflow/workspace/images/collectedimages/Angry/Angry.d58f6ea0-b5c4-11ec-aa73-dca632b24006.jpg -> Annotation:/home/patrice/Documents/GRO400-MANUS/Hexapod-master/Hexapod_Qt/Tensorflow/workspace/images/collectedimages/Angry/Angry.d58f6ea0-b5c4-11ec-aa73-dca632b24006.xml\n",
      "Image:/home/patrice/Documents/GRO400-MANUS/Hexapod-master/Hexapod_Qt/Tensorflow/workspace/images/collectedimages/Angry/Angry.d89ba44c-b5bf-11ec-aa73-dca632b24006.jpg -> Annotation:/home/patrice/Documents/GRO400-MANUS/Hexapod-master/Hexapod_Qt/Tensorflow/workspace/images/collectedimages/Angry/Angry.d89ba44c-b5bf-11ec-aa73-dca632b24006.xml\n",
      "Image:/home/patrice/Documents/GRO400-MANUS/Hexapod-master/Hexapod_Qt/Tensorflow/workspace/images/collectedimages/Angry/Angry.d335a3c2-b5bf-11ec-aa73-dca632b24006.jpg -> Annotation:/home/patrice/Documents/GRO400-MANUS/Hexapod-master/Hexapod_Qt/Tensorflow/workspace/images/collectedimages/Angry/Angry.d335a3c2-b5bf-11ec-aa73-dca632b24006.xml\n",
      "Image:/home/patrice/Documents/GRO400-MANUS/Hexapod-master/Hexapod_Qt/Tensorflow/workspace/images/collectedimages/Angry/Angry.d925f76e-b5c4-11ec-aa73-dca632b24006.jpg -> Annotation:/home/patrice/Documents/GRO400-MANUS/Hexapod-master/Hexapod_Qt/Tensorflow/workspace/images/collectedimages/Angry/Angry.d925f76e-b5c4-11ec-aa73-dca632b24006.xml\n",
      "Image:/home/patrice/Documents/GRO400-MANUS/Hexapod-master/Hexapod_Qt/Tensorflow/workspace/images/collectedimages/Angry/Angry.d5052164-b5bf-11ec-aa73-dca632b24006.jpg -> Annotation:/home/patrice/Documents/GRO400-MANUS/Hexapod-master/Hexapod_Qt/Tensorflow/workspace/images/collectedimages/Angry/Angry.d5052164-b5bf-11ec-aa73-dca632b24006.xml\n",
      "Image:/home/patrice/Documents/GRO400-MANUS/Hexapod-master/Hexapod_Qt/Tensorflow/workspace/images/collectedimages/Angry/Angry.da687bd8-b5bf-11ec-aa73-dca632b24006.jpg -> Annotation:/home/patrice/Documents/GRO400-MANUS/Hexapod-master/Hexapod_Qt/Tensorflow/workspace/images/collectedimages/Angry/Angry.da687bd8-b5bf-11ec-aa73-dca632b24006.xml\n",
      "Image:/home/patrice/Documents/GRO400-MANUS/Hexapod-master/Hexapod_Qt/Tensorflow/workspace/images/collectedimages/Angry/Angry.daf22f40-b5c4-11ec-aa73-dca632b24006.jpg -> Annotation:/home/patrice/Documents/GRO400-MANUS/Hexapod-master/Hexapod_Qt/Tensorflow/workspace/images/collectedimages/Angry/Angry.daf22f40-b5c4-11ec-aa73-dca632b24006.xml\n",
      "Image:/home/patrice/Documents/GRO400-MANUS/Hexapod-master/Hexapod_Qt/Tensorflow/workspace/images/collectedimages/Angry/Angry.dc360eb2-b5bf-11ec-aa73-dca632b24006.jpg -> Annotation:/home/patrice/Documents/GRO400-MANUS/Hexapod-master/Hexapod_Qt/Tensorflow/workspace/images/collectedimages/Angry/Angry.dc360eb2-b5bf-11ec-aa73-dca632b24006.xml\n"
     ]
    },
    {
     "name": "stdout",
     "output_type": "stream",
     "text": [
      "Image:/home/patrice/Documents/GRO400-MANUS/Hexapod-master/Hexapod_Qt/Tensorflow/workspace/images/collectedimages/Angry/Angry.de016e62-b5bf-11ec-aa73-dca632b24006.jpg -> Annotation:/home/patrice/Documents/GRO400-MANUS/Hexapod-master/Hexapod_Qt/Tensorflow/workspace/images/collectedimages/Angry/Angry.de016e62-b5bf-11ec-aa73-dca632b24006.xml\n",
      "Image:/home/patrice/Documents/GRO400-MANUS/Hexapod-master/Hexapod_Qt/Tensorflow/workspace/images/collectedimages/Angry/Angry.de89463e-b5c4-11ec-aa73-dca632b24006.jpg -> Annotation:/home/patrice/Documents/GRO400-MANUS/Hexapod-master/Hexapod_Qt/Tensorflow/workspace/images/collectedimages/Angry/Angry.de89463e-b5c4-11ec-aa73-dca632b24006.xml\n",
      "Image:/home/patrice/Documents/GRO400-MANUS/Hexapod-master/Hexapod_Qt/Tensorflow/workspace/images/collectedimages/Angry/Angry.dfcc83ee-b5bf-11ec-aa73-dca632b24006.jpg -> Annotation:/home/patrice/Documents/GRO400-MANUS/Hexapod-master/Hexapod_Qt/Tensorflow/workspace/images/collectedimages/Angry/Angry.dfcc83ee-b5bf-11ec-aa73-dca632b24006.xml\n",
      "Image:/home/patrice/Documents/GRO400-MANUS/Hexapod-master/Hexapod_Qt/Tensorflow/workspace/images/collectedimages/Angry/Angry.e6fcbf1c-b5bf-11ec-aa73-dca632b24006.jpg -> Annotation:/home/patrice/Documents/GRO400-MANUS/Hexapod-master/Hexapod_Qt/Tensorflow/workspace/images/collectedimages/Angry/Angry.e6fcbf1c-b5bf-11ec-aa73-dca632b24006.xml\n",
      "Image:/home/patrice/Documents/GRO400-MANUS/Hexapod-master/Hexapod_Qt/Tensorflow/workspace/images/collectedimages/Angry/Angry.e8c75e2e-b5bf-11ec-aa73-dca632b24006.jpg -> Annotation:/home/patrice/Documents/GRO400-MANUS/Hexapod-master/Hexapod_Qt/Tensorflow/workspace/images/collectedimages/Angry/Angry.e8c75e2e-b5bf-11ec-aa73-dca632b24006.xml\n",
      "Image:/home/patrice/Documents/GRO400-MANUS/Hexapod-master/Hexapod_Qt/Tensorflow/workspace/images/collectedimages/Angry/Angry.e21fbc1a-b5c4-11ec-aa73-dca632b24006.jpg -> Annotation:/home/patrice/Documents/GRO400-MANUS/Hexapod-master/Hexapod_Qt/Tensorflow/workspace/images/collectedimages/Angry/Angry.e21fbc1a-b5c4-11ec-aa73-dca632b24006.xml\n",
      "Image:/home/patrice/Documents/GRO400-MANUS/Hexapod-master/Hexapod_Qt/Tensorflow/workspace/images/collectedimages/Angry/Angry.e054ba8e-b5c4-11ec-aa73-dca632b24006.jpg -> Annotation:/home/patrice/Documents/GRO400-MANUS/Hexapod-master/Hexapod_Qt/Tensorflow/workspace/images/collectedimages/Angry/Angry.e054ba8e-b5c4-11ec-aa73-dca632b24006.xml\n",
      "Image:/home/patrice/Documents/GRO400-MANUS/Hexapod-master/Hexapod_Qt/Tensorflow/workspace/images/collectedimages/Angry/Angry.e363eda8-b5bf-11ec-aa73-dca632b24006.jpg -> Annotation:/home/patrice/Documents/GRO400-MANUS/Hexapod-master/Hexapod_Qt/Tensorflow/workspace/images/collectedimages/Angry/Angry.e363eda8-b5bf-11ec-aa73-dca632b24006.xml\n",
      "Image:/home/patrice/Documents/GRO400-MANUS/Hexapod-master/Hexapod_Qt/Tensorflow/workspace/images/collectedimages/Angry/Angry.e1972d6e-b5bf-11ec-aa73-dca632b24006.jpg -> Annotation:/home/patrice/Documents/GRO400-MANUS/Hexapod-master/Hexapod_Qt/Tensorflow/workspace/images/collectedimages/Angry/Angry.e1972d6e-b5bf-11ec-aa73-dca632b24006.xml\n",
      "Image:/home/patrice/Documents/GRO400-MANUS/Hexapod-master/Hexapod_Qt/Tensorflow/workspace/images/collectedimages/Angry/Angry.e5311a3e-b5bf-11ec-aa73-dca632b24006.jpg -> Annotation:/home/patrice/Documents/GRO400-MANUS/Hexapod-master/Hexapod_Qt/Tensorflow/workspace/images/collectedimages/Angry/Angry.e5311a3e-b5bf-11ec-aa73-dca632b24006.xml\n",
      "Image:/home/patrice/Documents/GRO400-MANUS/Hexapod-master/Hexapod_Qt/Tensorflow/workspace/images/collectedimages/Angry/Angry.ea934d76-b5bf-11ec-aa73-dca632b24006.jpg -> Annotation:/home/patrice/Documents/GRO400-MANUS/Hexapod-master/Hexapod_Qt/Tensorflow/workspace/images/collectedimages/Angry/Angry.ea934d76-b5bf-11ec-aa73-dca632b24006.xml\n",
      "Image:/home/patrice/Documents/GRO400-MANUS/Hexapod-master/Hexapod_Qt/Tensorflow/workspace/images/collectedimages/Angry/Angry.ed45bc2a-b5bf-11ec-aa73-dca632b24006.jpg -> Annotation:/home/patrice/Documents/GRO400-MANUS/Hexapod-master/Hexapod_Qt/Tensorflow/workspace/images/collectedimages/Angry/Angry.ed45bc2a-b5bf-11ec-aa73-dca632b24006.xml\n",
      "Image:/home/patrice/Documents/GRO400-MANUS/Hexapod-master/Hexapod_Qt/Tensorflow/workspace/images/collectedimages/Angry/Angry.ef10d058-b5bf-11ec-aa73-dca632b24006.jpg -> Annotation:/home/patrice/Documents/GRO400-MANUS/Hexapod-master/Hexapod_Qt/Tensorflow/workspace/images/collectedimages/Angry/Angry.ef10d058-b5bf-11ec-aa73-dca632b24006.xml\n",
      "Image:/home/patrice/Documents/GRO400-MANUS/Hexapod-master/Hexapod_Qt/Tensorflow/workspace/images/collectedimages/Angry/Angry.f0dbf19c-b5bf-11ec-aa73-dca632b24006.jpg -> Annotation:/home/patrice/Documents/GRO400-MANUS/Hexapod-master/Hexapod_Qt/Tensorflow/workspace/images/collectedimages/Angry/Angry.f0dbf19c-b5bf-11ec-aa73-dca632b24006.xml\n",
      "Image:/home/patrice/Documents/GRO400-MANUS/Hexapod-master/Hexapod_Qt/Tensorflow/workspace/images/collectedimages/Angry/Angry.f2a6eb62-b5bf-11ec-aa73-dca632b24006.jpg -> Annotation:/home/patrice/Documents/GRO400-MANUS/Hexapod-master/Hexapod_Qt/Tensorflow/workspace/images/collectedimages/Angry/Angry.f2a6eb62-b5bf-11ec-aa73-dca632b24006.xml\n",
      "Image:/home/patrice/Documents/GRO400-MANUS/Hexapod-master/Hexapod_Qt/Tensorflow/workspace/images/collectedimages/Angry/Angry.f9d355ba-b5bf-11ec-aa73-dca632b24006.jpg -> Annotation:/home/patrice/Documents/GRO400-MANUS/Hexapod-master/Hexapod_Qt/Tensorflow/workspace/images/collectedimages/Angry/Angry.f9d355ba-b5bf-11ec-aa73-dca632b24006.xml\n",
      "Image:/home/patrice/Documents/GRO400-MANUS/Hexapod-master/Hexapod_Qt/Tensorflow/workspace/images/collectedimages/Angry/Angry.f63c8f16-b5bf-11ec-aa73-dca632b24006.jpg -> Annotation:/home/patrice/Documents/GRO400-MANUS/Hexapod-master/Hexapod_Qt/Tensorflow/workspace/images/collectedimages/Angry/Angry.f63c8f16-b5bf-11ec-aa73-dca632b24006.xml\n",
      "Image:/home/patrice/Documents/GRO400-MANUS/Hexapod-master/Hexapod_Qt/Tensorflow/workspace/images/collectedimages/Angry/Angry.f4717f84-b5bf-11ec-aa73-dca632b24006.jpg -> Annotation:/home/patrice/Documents/GRO400-MANUS/Hexapod-master/Hexapod_Qt/Tensorflow/workspace/images/collectedimages/Angry/Angry.f4717f84-b5bf-11ec-aa73-dca632b24006.xml\n",
      "Image:/home/patrice/Documents/GRO400-MANUS/Hexapod-master/Hexapod_Qt/Tensorflow/workspace/images/collectedimages/Angry/Angry.f8083782-b5bf-11ec-aa73-dca632b24006.jpg -> Annotation:/home/patrice/Documents/GRO400-MANUS/Hexapod-master/Hexapod_Qt/Tensorflow/workspace/images/collectedimages/Angry/Angry.f8083782-b5bf-11ec-aa73-dca632b24006.xml\n",
      "Image:/home/patrice/Documents/GRO400-MANUS/Hexapod-master/Hexapod_Qt/Tensorflow/workspace/images/collectedimages/Angry/Angry.fb9eaf98-b5bf-11ec-aa73-dca632b24006.jpg -> Annotation:/home/patrice/Documents/GRO400-MANUS/Hexapod-master/Hexapod_Qt/Tensorflow/workspace/images/collectedimages/Angry/Angry.fb9eaf98-b5bf-11ec-aa73-dca632b24006.xml\n",
      "Image:/home/patrice/Documents/GRO400-MANUS/Hexapod-master/Hexapod_Qt/Tensorflow/workspace/images/collectedimages/Angry/Angry.fd6ac8fc-b5bf-11ec-aa73-dca632b24006.jpg -> Annotation:/home/patrice/Documents/GRO400-MANUS/Hexapod-master/Hexapod_Qt/Tensorflow/workspace/images/collectedimages/Angry/Angry.fd6ac8fc-b5bf-11ec-aa73-dca632b24006.xml\n",
      "Image:/home/patrice/Documents/GRO400-MANUS/Hexapod-master/Hexapod_Qt/Tensorflow/workspace/images/collectedimages/Angry/Angry.ff36bdda-b5bf-11ec-aa73-dca632b24006.jpg -> Annotation:/home/patrice/Documents/GRO400-MANUS/Hexapod-master/Hexapod_Qt/Tensorflow/workspace/images/collectedimages/Angry/Angry.ff36bdda-b5bf-11ec-aa73-dca632b24006.xml\n",
      "Image:/home/patrice/Documents/GRO400-MANUS/Hexapod-master/Hexapod_Qt/Tensorflow/workspace/images/collectedimages/Happy/Happy.8a345fae-b5c1-11ec-aa73-dca632b24006.jpg -> Annotation:/home/patrice/Documents/GRO400-MANUS/Hexapod-master/Hexapod_Qt/Tensorflow/workspace/images/collectedimages/Happy/Happy.8a345fae-b5c1-11ec-aa73-dca632b24006.xml\n",
      "Image:/home/patrice/Documents/GRO400-MANUS/Hexapod-master/Hexapod_Qt/Tensorflow/workspace/images/collectedimages/Happy/Happy.8b4ff444-b5c5-11ec-aa73-dca632b24006.jpg -> Annotation:/home/patrice/Documents/GRO400-MANUS/Hexapod-master/Hexapod_Qt/Tensorflow/workspace/images/collectedimages/Happy/Happy.8b4ff444-b5c5-11ec-aa73-dca632b24006.xml\n",
      "Image:/home/patrice/Documents/GRO400-MANUS/Hexapod-master/Hexapod_Qt/Tensorflow/workspace/images/collectedimages/Happy/Happy.8bff247c-b5c1-11ec-aa73-dca632b24006.jpg -> Annotation:/home/patrice/Documents/GRO400-MANUS/Hexapod-master/Hexapod_Qt/Tensorflow/workspace/images/collectedimages/Happy/Happy.8bff247c-b5c1-11ec-aa73-dca632b24006.xml\n"
     ]
    },
    {
     "name": "stdout",
     "output_type": "stream",
     "text": [
      "Image:/home/patrice/Documents/GRO400-MANUS/Hexapod-master/Hexapod_Qt/Tensorflow/workspace/images/collectedimages/Happy/Happy.8d1ba1ba-b5c5-11ec-aa73-dca632b24006.jpg -> Annotation:/home/patrice/Documents/GRO400-MANUS/Hexapod-master/Hexapod_Qt/Tensorflow/workspace/images/collectedimages/Happy/Happy.8d1ba1ba-b5c5-11ec-aa73-dca632b24006.xml\n",
      "Image:/home/patrice/Documents/GRO400-MANUS/Hexapod-master/Hexapod_Qt/Tensorflow/workspace/images/collectedimages/Happy/Happy.8dcb40c4-b5c1-11ec-aa73-dca632b24006.jpg -> Annotation:/home/patrice/Documents/GRO400-MANUS/Hexapod-master/Hexapod_Qt/Tensorflow/workspace/images/collectedimages/Happy/Happy.8dcb40c4-b5c1-11ec-aa73-dca632b24006.xml\n",
      "Image:/home/patrice/Documents/GRO400-MANUS/Hexapod-master/Hexapod_Qt/Tensorflow/workspace/images/collectedimages/Happy/Happy.8ee77942-b5c5-11ec-aa73-dca632b24006.jpg -> Annotation:/home/patrice/Documents/GRO400-MANUS/Hexapod-master/Hexapod_Qt/Tensorflow/workspace/images/collectedimages/Happy/Happy.8ee77942-b5c5-11ec-aa73-dca632b24006.xml\n",
      "Image:/home/patrice/Documents/GRO400-MANUS/Hexapod-master/Hexapod_Qt/Tensorflow/workspace/images/collectedimages/Happy/Happy.8f962748-b5c1-11ec-aa73-dca632b24006.jpg -> Annotation:/home/patrice/Documents/GRO400-MANUS/Hexapod-master/Hexapod_Qt/Tensorflow/workspace/images/collectedimages/Happy/Happy.8f962748-b5c1-11ec-aa73-dca632b24006.xml\n",
      "Image:/home/patrice/Documents/GRO400-MANUS/Hexapod-master/Hexapod_Qt/Tensorflow/workspace/images/collectedimages/Happy/Happy.9a5942e6-b5c1-11ec-aa73-dca632b24006.jpg -> Annotation:/home/patrice/Documents/GRO400-MANUS/Hexapod-master/Hexapod_Qt/Tensorflow/workspace/images/collectedimages/Happy/Happy.9a5942e6-b5c1-11ec-aa73-dca632b24006.xml\n",
      "Image:/home/patrice/Documents/GRO400-MANUS/Hexapod-master/Hexapod_Qt/Tensorflow/workspace/images/collectedimages/Happy/Happy.9baf3bec-b5c5-11ec-aa73-dca632b24006.jpg -> Annotation:/home/patrice/Documents/GRO400-MANUS/Hexapod-master/Hexapod_Qt/Tensorflow/workspace/images/collectedimages/Happy/Happy.9baf3bec-b5c5-11ec-aa73-dca632b24006.xml\n",
      "Image:/home/patrice/Documents/GRO400-MANUS/Hexapod-master/Hexapod_Qt/Tensorflow/workspace/images/collectedimages/Happy/Happy.9c243630-b5c1-11ec-aa73-dca632b24006.jpg -> Annotation:/home/patrice/Documents/GRO400-MANUS/Hexapod-master/Hexapod_Qt/Tensorflow/workspace/images/collectedimages/Happy/Happy.9c243630-b5c1-11ec-aa73-dca632b24006.xml\n",
      "Image:/home/patrice/Documents/GRO400-MANUS/Hexapod-master/Hexapod_Qt/Tensorflow/workspace/images/collectedimages/Happy/Happy.9d7ab136-b5c5-11ec-aa73-dca632b24006.jpg -> Annotation:/home/patrice/Documents/GRO400-MANUS/Hexapod-master/Hexapod_Qt/Tensorflow/workspace/images/collectedimages/Happy/Happy.9d7ab136-b5c5-11ec-aa73-dca632b24006.xml\n",
      "Image:/home/patrice/Documents/GRO400-MANUS/Hexapod-master/Hexapod_Qt/Tensorflow/workspace/images/collectedimages/Happy/Happy.9def1e26-b5c1-11ec-aa73-dca632b24006.jpg -> Annotation:/home/patrice/Documents/GRO400-MANUS/Hexapod-master/Hexapod_Qt/Tensorflow/workspace/images/collectedimages/Happy/Happy.9def1e26-b5c1-11ec-aa73-dca632b24006.xml\n",
      "Image:/home/patrice/Documents/GRO400-MANUS/Hexapod-master/Hexapod_Qt/Tensorflow/workspace/images/collectedimages/Happy/Happy.9f4654ac-b5c5-11ec-aa73-dca632b24006.jpg -> Annotation:/home/patrice/Documents/GRO400-MANUS/Hexapod-master/Hexapod_Qt/Tensorflow/workspace/images/collectedimages/Happy/Happy.9f4654ac-b5c5-11ec-aa73-dca632b24006.xml\n",
      "Image:/home/patrice/Documents/GRO400-MANUS/Hexapod-master/Hexapod_Qt/Tensorflow/workspace/images/collectedimages/Happy/Happy.9fb9aba4-b5c1-11ec-aa73-dca632b24006.jpg -> Annotation:/home/patrice/Documents/GRO400-MANUS/Hexapod-master/Hexapod_Qt/Tensorflow/workspace/images/collectedimages/Happy/Happy.9fb9aba4-b5c1-11ec-aa73-dca632b24006.xml\n",
      "Image:/home/patrice/Documents/GRO400-MANUS/Hexapod-master/Hexapod_Qt/Tensorflow/workspace/images/collectedimages/Happy/Happy.84d296e8-b5c1-11ec-aa73-dca632b24006.jpg -> Annotation:/home/patrice/Documents/GRO400-MANUS/Hexapod-master/Hexapod_Qt/Tensorflow/workspace/images/collectedimages/Happy/Happy.84d296e8-b5c1-11ec-aa73-dca632b24006.xml\n",
      "Image:/home/patrice/Documents/GRO400-MANUS/Hexapod-master/Hexapod_Qt/Tensorflow/workspace/images/collectedimages/Happy/Happy.85ee2462-b5c5-11ec-aa73-dca632b24006.jpg -> Annotation:/home/patrice/Documents/GRO400-MANUS/Hexapod-master/Hexapod_Qt/Tensorflow/workspace/images/collectedimages/Happy/Happy.85ee2462-b5c5-11ec-aa73-dca632b24006.xml\n",
      "Image:/home/patrice/Documents/GRO400-MANUS/Hexapod-master/Hexapod_Qt/Tensorflow/workspace/images/collectedimages/Happy/Happy.87b96ac2-b5c5-11ec-aa73-dca632b24006.jpg -> Annotation:/home/patrice/Documents/GRO400-MANUS/Hexapod-master/Hexapod_Qt/Tensorflow/workspace/images/collectedimages/Happy/Happy.87b96ac2-b5c5-11ec-aa73-dca632b24006.xml\n",
      "Image:/home/patrice/Documents/GRO400-MANUS/Hexapod-master/Hexapod_Qt/Tensorflow/workspace/images/collectedimages/Happy/Happy.90b27862-b5c5-11ec-aa73-dca632b24006.jpg -> Annotation:/home/patrice/Documents/GRO400-MANUS/Hexapod-master/Hexapod_Qt/Tensorflow/workspace/images/collectedimages/Happy/Happy.90b27862-b5c5-11ec-aa73-dca632b24006.xml\n",
      "Image:/home/patrice/Documents/GRO400-MANUS/Hexapod-master/Hexapod_Qt/Tensorflow/workspace/images/collectedimages/Happy/Happy.94f72d72-b5c1-11ec-aa73-dca632b24006.jpg -> Annotation:/home/patrice/Documents/GRO400-MANUS/Hexapod-master/Hexapod_Qt/Tensorflow/workspace/images/collectedimages/Happy/Happy.94f72d72-b5c1-11ec-aa73-dca632b24006.xml\n",
      "Image:/home/patrice/Documents/GRO400-MANUS/Hexapod-master/Hexapod_Qt/Tensorflow/workspace/images/collectedimages/Happy/Happy.96c2ad5c-b5c1-11ec-aa73-dca632b24006.jpg -> Annotation:/home/patrice/Documents/GRO400-MANUS/Hexapod-master/Hexapod_Qt/Tensorflow/workspace/images/collectedimages/Happy/Happy.96c2ad5c-b5c1-11ec-aa73-dca632b24006.xml\n",
      "Image:/home/patrice/Documents/GRO400-MANUS/Hexapod-master/Hexapod_Qt/Tensorflow/workspace/images/collectedimages/Happy/Happy.97def660-b5c5-11ec-aa73-dca632b24006.jpg -> Annotation:/home/patrice/Documents/GRO400-MANUS/Hexapod-master/Hexapod_Qt/Tensorflow/workspace/images/collectedimages/Happy/Happy.97def660-b5c5-11ec-aa73-dca632b24006.xml\n",
      "Image:/home/patrice/Documents/GRO400-MANUS/Hexapod-master/Hexapod_Qt/Tensorflow/workspace/images/collectedimages/Happy/Happy.99ab1708-b5c5-11ec-aa73-dca632b24006.jpg -> Annotation:/home/patrice/Documents/GRO400-MANUS/Hexapod-master/Hexapod_Qt/Tensorflow/workspace/images/collectedimages/Happy/Happy.99ab1708-b5c5-11ec-aa73-dca632b24006.xml\n",
      "Image:/home/patrice/Documents/GRO400-MANUS/Hexapod-master/Hexapod_Qt/Tensorflow/workspace/images/collectedimages/Happy/Happy.808c43aa-b5c5-11ec-aa73-dca632b24006.jpg -> Annotation:/home/patrice/Documents/GRO400-MANUS/Hexapod-master/Hexapod_Qt/Tensorflow/workspace/images/collectedimages/Happy/Happy.808c43aa-b5c5-11ec-aa73-dca632b24006.xml\n",
      "Image:/home/patrice/Documents/GRO400-MANUS/Hexapod-master/Hexapod_Qt/Tensorflow/workspace/images/collectedimages/Happy/Happy.813be200-b5c1-11ec-aa73-dca632b24006.jpg -> Annotation:/home/patrice/Documents/GRO400-MANUS/Hexapod-master/Hexapod_Qt/Tensorflow/workspace/images/collectedimages/Happy/Happy.813be200-b5c1-11ec-aa73-dca632b24006.xml\n",
      "Image:/home/patrice/Documents/GRO400-MANUS/Hexapod-master/Hexapod_Qt/Tensorflow/workspace/images/collectedimages/Happy/Happy.869e19f2-b5c1-11ec-aa73-dca632b24006.jpg -> Annotation:/home/patrice/Documents/GRO400-MANUS/Hexapod-master/Hexapod_Qt/Tensorflow/workspace/images/collectedimages/Happy/Happy.869e19f2-b5c1-11ec-aa73-dca632b24006.xml\n",
      "Image:/home/patrice/Documents/GRO400-MANUS/Hexapod-master/Hexapod_Qt/Tensorflow/workspace/images/collectedimages/Happy/Happy.932c28bc-b5c1-11ec-aa73-dca632b24006.jpg -> Annotation:/home/patrice/Documents/GRO400-MANUS/Hexapod-master/Hexapod_Qt/Tensorflow/workspace/images/collectedimages/Happy/Happy.932c28bc-b5c1-11ec-aa73-dca632b24006.xml\n",
      "Image:/home/patrice/Documents/GRO400-MANUS/Hexapod-master/Hexapod_Qt/Tensorflow/workspace/images/collectedimages/Happy/Happy.988e029e-b5c1-11ec-aa73-dca632b24006.jpg -> Annotation:/home/patrice/Documents/GRO400-MANUS/Hexapod-master/Hexapod_Qt/Tensorflow/workspace/images/collectedimages/Happy/Happy.988e029e-b5c1-11ec-aa73-dca632b24006.xml\n",
      "Image:/home/patrice/Documents/GRO400-MANUS/Hexapod-master/Hexapod_Qt/Tensorflow/workspace/images/collectedimages/Happy/Happy.82577bf0-b5c5-11ec-aa73-dca632b24006.jpg -> Annotation:/home/patrice/Documents/GRO400-MANUS/Hexapod-master/Hexapod_Qt/Tensorflow/workspace/images/collectedimages/Happy/Happy.82577bf0-b5c5-11ec-aa73-dca632b24006.xml\n"
     ]
    },
    {
     "name": "stdout",
     "output_type": "stream",
     "text": [
      "Image:/home/patrice/Documents/GRO400-MANUS/Hexapod-master/Hexapod_Qt/Tensorflow/workspace/images/collectedimages/Happy/Happy.83077b12-b5c1-11ec-aa73-dca632b24006.jpg -> Annotation:/home/patrice/Documents/GRO400-MANUS/Hexapod-master/Hexapod_Qt/Tensorflow/workspace/images/collectedimages/Happy/Happy.83077b12-b5c1-11ec-aa73-dca632b24006.xml\n",
      "Image:/home/patrice/Documents/GRO400-MANUS/Hexapod-master/Hexapod_Qt/Tensorflow/workspace/images/collectedimages/Happy/Happy.88694dce-b5c1-11ec-aa73-dca632b24006.jpg -> Annotation:/home/patrice/Documents/GRO400-MANUS/Hexapod-master/Hexapod_Qt/Tensorflow/workspace/images/collectedimages/Happy/Happy.88694dce-b5c1-11ec-aa73-dca632b24006.xml\n",
      "Image:/home/patrice/Documents/GRO400-MANUS/Hexapod-master/Hexapod_Qt/Tensorflow/workspace/images/collectedimages/Happy/Happy.91612ed8-b5c1-11ec-aa73-dca632b24006.jpg -> Annotation:/home/patrice/Documents/GRO400-MANUS/Hexapod-master/Hexapod_Qt/Tensorflow/workspace/images/collectedimages/Happy/Happy.91612ed8-b5c1-11ec-aa73-dca632b24006.xml\n",
      "Image:/home/patrice/Documents/GRO400-MANUS/Hexapod-master/Hexapod_Qt/Tensorflow/workspace/images/collectedimages/Happy/Happy.96142ea4-b5c5-11ec-aa73-dca632b24006.jpg -> Annotation:/home/patrice/Documents/GRO400-MANUS/Hexapod-master/Hexapod_Qt/Tensorflow/workspace/images/collectedimages/Happy/Happy.96142ea4-b5c5-11ec-aa73-dca632b24006.xml\n",
      "Image:/home/patrice/Documents/GRO400-MANUS/Hexapod-master/Hexapod_Qt/Tensorflow/workspace/images/collectedimages/Happy/Happy.84226486-b5c5-11ec-aa73-dca632b24006.jpg -> Annotation:/home/patrice/Documents/GRO400-MANUS/Hexapod-master/Hexapod_Qt/Tensorflow/workspace/images/collectedimages/Happy/Happy.84226486-b5c5-11ec-aa73-dca632b24006.xml\n",
      "Image:/home/patrice/Documents/GRO400-MANUS/Hexapod-master/Hexapod_Qt/Tensorflow/workspace/images/collectedimages/Happy/Happy.89847644-b5c5-11ec-aa73-dca632b24006.jpg -> Annotation:/home/patrice/Documents/GRO400-MANUS/Hexapod-master/Hexapod_Qt/Tensorflow/workspace/images/collectedimages/Happy/Happy.89847644-b5c5-11ec-aa73-dca632b24006.xml\n",
      "Image:/home/patrice/Documents/GRO400-MANUS/Hexapod-master/Hexapod_Qt/Tensorflow/workspace/images/collectedimages/Happy/Happy.94495342-b5c5-11ec-aa73-dca632b24006.jpg -> Annotation:/home/patrice/Documents/GRO400-MANUS/Hexapod-master/Hexapod_Qt/Tensorflow/workspace/images/collectedimages/Happy/Happy.94495342-b5c5-11ec-aa73-dca632b24006.xml\n",
      "Image:/home/patrice/Documents/GRO400-MANUS/Hexapod-master/Hexapod_Qt/Tensorflow/workspace/images/collectedimages/Happy/Happy.a2dcd992-b5c5-11ec-aa73-dca632b24006.jpg -> Annotation:/home/patrice/Documents/GRO400-MANUS/Hexapod-master/Hexapod_Qt/Tensorflow/workspace/images/collectedimages/Happy/Happy.a2dcd992-b5c5-11ec-aa73-dca632b24006.xml\n",
      "Image:/home/patrice/Documents/GRO400-MANUS/Hexapod-master/Hexapod_Qt/Tensorflow/workspace/images/collectedimages/Happy/Happy.a4a7b558-b5c5-11ec-aa73-dca632b24006.jpg -> Annotation:/home/patrice/Documents/GRO400-MANUS/Hexapod-master/Hexapod_Qt/Tensorflow/workspace/images/collectedimages/Happy/Happy.a4a7b558-b5c5-11ec-aa73-dca632b24006.xml\n",
      "Image:/home/patrice/Documents/GRO400-MANUS/Hexapod-master/Hexapod_Qt/Tensorflow/workspace/images/collectedimages/Happy/Happy.a6e6f3e6-b5c1-11ec-aa73-dca632b24006.jpg -> Annotation:/home/patrice/Documents/GRO400-MANUS/Hexapod-master/Hexapod_Qt/Tensorflow/workspace/images/collectedimages/Happy/Happy.a6e6f3e6-b5c1-11ec-aa73-dca632b24006.xml\n",
      "Image:/home/patrice/Documents/GRO400-MANUS/Hexapod-master/Hexapod_Qt/Tensorflow/workspace/images/collectedimages/Happy/Happy.a8b1f57c-b5c1-11ec-aa73-dca632b24006.jpg -> Annotation:/home/patrice/Documents/GRO400-MANUS/Hexapod-master/Hexapod_Qt/Tensorflow/workspace/images/collectedimages/Happy/Happy.a8b1f57c-b5c1-11ec-aa73-dca632b24006.xml\n",
      "Image:/home/patrice/Documents/GRO400-MANUS/Hexapod-master/Hexapod_Qt/Tensorflow/workspace/images/collectedimages/Happy/Happy.a51c6e9c-b5c1-11ec-aa73-dca632b24006.jpg -> Annotation:/home/patrice/Documents/GRO400-MANUS/Hexapod-master/Hexapod_Qt/Tensorflow/workspace/images/collectedimages/Happy/Happy.a51c6e9c-b5c1-11ec-aa73-dca632b24006.xml\n",
      "Image:/home/patrice/Documents/GRO400-MANUS/Hexapod-master/Hexapod_Qt/Tensorflow/workspace/images/collectedimages/Happy/Happy.a870f0a0-b5c5-11ec-aa73-dca632b24006.jpg -> Annotation:/home/patrice/Documents/GRO400-MANUS/Hexapod-master/Hexapod_Qt/Tensorflow/workspace/images/collectedimages/Happy/Happy.a870f0a0-b5c5-11ec-aa73-dca632b24006.xml\n",
      "Image:/home/patrice/Documents/GRO400-MANUS/Hexapod-master/Hexapod_Qt/Tensorflow/workspace/images/collectedimages/Happy/Happy.a3504a02-b5c1-11ec-aa73-dca632b24006.jpg -> Annotation:/home/patrice/Documents/GRO400-MANUS/Hexapod-master/Hexapod_Qt/Tensorflow/workspace/images/collectedimages/Happy/Happy.a3504a02-b5c1-11ec-aa73-dca632b24006.xml\n",
      "Image:/home/patrice/Documents/GRO400-MANUS/Hexapod-master/Hexapod_Qt/Tensorflow/workspace/images/collectedimages/Happy/Happy.a67345e6-b5c5-11ec-aa73-dca632b24006.jpg -> Annotation:/home/patrice/Documents/GRO400-MANUS/Hexapod-master/Hexapod_Qt/Tensorflow/workspace/images/collectedimages/Happy/Happy.a67345e6-b5c5-11ec-aa73-dca632b24006.xml\n",
      "Image:/home/patrice/Documents/GRO400-MANUS/Hexapod-master/Hexapod_Qt/Tensorflow/workspace/images/collectedimages/Happy/Happy.a1116358-b5c5-11ec-aa73-dca632b24006.jpg -> Annotation:/home/patrice/Documents/GRO400-MANUS/Hexapod-master/Hexapod_Qt/Tensorflow/workspace/images/collectedimages/Happy/Happy.a1116358-b5c5-11ec-aa73-dca632b24006.xml\n",
      "Image:/home/patrice/Documents/GRO400-MANUS/Hexapod-master/Hexapod_Qt/Tensorflow/workspace/images/collectedimages/Happy/Happy.aa3c13ec-b5c5-11ec-aa73-dca632b24006.jpg -> Annotation:/home/patrice/Documents/GRO400-MANUS/Hexapod-master/Hexapod_Qt/Tensorflow/workspace/images/collectedimages/Happy/Happy.aa3c13ec-b5c5-11ec-aa73-dca632b24006.xml\n",
      "Image:/home/patrice/Documents/GRO400-MANUS/Hexapod-master/Hexapod_Qt/Tensorflow/workspace/images/collectedimages/Happy/Happy.aa7d0a9a-b5c1-11ec-aa73-dca632b24006.jpg -> Annotation:/home/patrice/Documents/GRO400-MANUS/Hexapod-master/Hexapod_Qt/Tensorflow/workspace/images/collectedimages/Happy/Happy.aa7d0a9a-b5c1-11ec-aa73-dca632b24006.xml\n",
      "Image:/home/patrice/Documents/GRO400-MANUS/Hexapod-master/Hexapod_Qt/Tensorflow/workspace/images/collectedimages/Happy/Happy.ac08abf4-b5c5-11ec-aa73-dca632b24006.jpg -> Annotation:/home/patrice/Documents/GRO400-MANUS/Hexapod-master/Hexapod_Qt/Tensorflow/workspace/images/collectedimages/Happy/Happy.ac08abf4-b5c5-11ec-aa73-dca632b24006.xml\n",
      "Image:/home/patrice/Documents/GRO400-MANUS/Hexapod-master/Hexapod_Qt/Tensorflow/workspace/images/collectedimages/Happy/Happy.ac4899d4-b5c1-11ec-aa73-dca632b24006.jpg -> Annotation:/home/patrice/Documents/GRO400-MANUS/Hexapod-master/Hexapod_Qt/Tensorflow/workspace/images/collectedimages/Happy/Happy.ac4899d4-b5c1-11ec-aa73-dca632b24006.xml\n",
      "Image:/home/patrice/Documents/GRO400-MANUS/Hexapod-master/Hexapod_Qt/Tensorflow/workspace/images/collectedimages/Happy/Happy.add4f23a-b5c5-11ec-aa73-dca632b24006.jpg -> Annotation:/home/patrice/Documents/GRO400-MANUS/Hexapod-master/Hexapod_Qt/Tensorflow/workspace/images/collectedimages/Happy/Happy.add4f23a-b5c5-11ec-aa73-dca632b24006.xml\n",
      "Image:/home/patrice/Documents/GRO400-MANUS/Hexapod-master/Hexapod_Qt/Tensorflow/workspace/images/collectedimages/Happy/Happy.ae1435d4-b5c1-11ec-aa73-dca632b24006.jpg -> Annotation:/home/patrice/Documents/GRO400-MANUS/Hexapod-master/Hexapod_Qt/Tensorflow/workspace/images/collectedimages/Happy/Happy.ae1435d4-b5c1-11ec-aa73-dca632b24006.xml\n",
      "Image:/home/patrice/Documents/GRO400-MANUS/Hexapod-master/Hexapod_Qt/Tensorflow/workspace/images/collectedimages/Happy/Happy.afa002e4-b5c5-11ec-aa73-dca632b24006.jpg -> Annotation:/home/patrice/Documents/GRO400-MANUS/Hexapod-master/Hexapod_Qt/Tensorflow/workspace/images/collectedimages/Happy/Happy.afa002e4-b5c5-11ec-aa73-dca632b24006.xml\n",
      "Image:/home/patrice/Documents/GRO400-MANUS/Hexapod-master/Hexapod_Qt/Tensorflow/workspace/images/collectedimages/Happy/Happy.afdf2eb4-b5c1-11ec-aa73-dca632b24006.jpg -> Annotation:/home/patrice/Documents/GRO400-MANUS/Hexapod-master/Hexapod_Qt/Tensorflow/workspace/images/collectedimages/Happy/Happy.afdf2eb4-b5c1-11ec-aa73-dca632b24006.xml\n",
      "Image:/home/patrice/Documents/GRO400-MANUS/Hexapod-master/Hexapod_Qt/Tensorflow/workspace/images/collectedimages/Happy/Happy.b1aa8266-b5c1-11ec-aa73-dca632b24006.jpg -> Annotation:/home/patrice/Documents/GRO400-MANUS/Hexapod-master/Hexapod_Qt/Tensorflow/workspace/images/collectedimages/Happy/Happy.b1aa8266-b5c1-11ec-aa73-dca632b24006.xml\n"
     ]
    },
    {
     "name": "stdout",
     "output_type": "stream",
     "text": [
      "Image:/home/patrice/Documents/GRO400-MANUS/Hexapod-master/Hexapod_Qt/Tensorflow/workspace/images/collectedimages/Happy/Happy.b8d7a762-b5c1-11ec-aa73-dca632b24006.jpg -> Annotation:/home/patrice/Documents/GRO400-MANUS/Hexapod-master/Hexapod_Qt/Tensorflow/workspace/images/collectedimages/Happy/Happy.b8d7a762-b5c1-11ec-aa73-dca632b24006.xml\n",
      "Image:/home/patrice/Documents/GRO400-MANUS/Hexapod-master/Hexapod_Qt/Tensorflow/workspace/images/collectedimages/Happy/Happy.b16ae1ca-b5c5-11ec-aa73-dca632b24006.jpg -> Annotation:/home/patrice/Documents/GRO400-MANUS/Hexapod-master/Hexapod_Qt/Tensorflow/workspace/images/collectedimages/Happy/Happy.b16ae1ca-b5c5-11ec-aa73-dca632b24006.xml\n",
      "Image:/home/patrice/Documents/GRO400-MANUS/Hexapod-master/Hexapod_Qt/Tensorflow/workspace/images/collectedimages/Happy/Happy.b70cf07c-b5c1-11ec-aa73-dca632b24006.jpg -> Annotation:/home/patrice/Documents/GRO400-MANUS/Hexapod-master/Hexapod_Qt/Tensorflow/workspace/images/collectedimages/Happy/Happy.b70cf07c-b5c1-11ec-aa73-dca632b24006.xml\n",
      "Image:/home/patrice/Documents/GRO400-MANUS/Hexapod-master/Hexapod_Qt/Tensorflow/workspace/images/collectedimages/Happy/Happy.b33632fc-b5c5-11ec-aa73-dca632b24006.jpg -> Annotation:/home/patrice/Documents/GRO400-MANUS/Hexapod-master/Hexapod_Qt/Tensorflow/workspace/images/collectedimages/Happy/Happy.b33632fc-b5c5-11ec-aa73-dca632b24006.xml\n",
      "Image:/home/patrice/Documents/GRO400-MANUS/Hexapod-master/Hexapod_Qt/Tensorflow/workspace/images/collectedimages/Happy/Happy.b37665a6-b5c1-11ec-aa73-dca632b24006.jpg -> Annotation:/home/patrice/Documents/GRO400-MANUS/Hexapod-master/Hexapod_Qt/Tensorflow/workspace/images/collectedimages/Happy/Happy.b37665a6-b5c1-11ec-aa73-dca632b24006.xml\n",
      "Image:/home/patrice/Documents/GRO400-MANUS/Hexapod-master/Hexapod_Qt/Tensorflow/workspace/images/collectedimages/Happy/Happy.b541252e-b5c1-11ec-aa73-dca632b24006.jpg -> Annotation:/home/patrice/Documents/GRO400-MANUS/Hexapod-master/Hexapod_Qt/Tensorflow/workspace/images/collectedimages/Happy/Happy.b541252e-b5c1-11ec-aa73-dca632b24006.xml\n",
      "Image:/home/patrice/Documents/GRO400-MANUS/Hexapod-master/Hexapod_Qt/Tensorflow/workspace/images/collectedimages/Happy/Happy.b5014298-b5c5-11ec-aa73-dca632b24006.jpg -> Annotation:/home/patrice/Documents/GRO400-MANUS/Hexapod-master/Hexapod_Qt/Tensorflow/workspace/images/collectedimages/Happy/Happy.b5014298-b5c5-11ec-aa73-dca632b24006.xml\n",
      "Image:/home/patrice/Documents/GRO400-MANUS/Hexapod-master/Hexapod_Qt/Tensorflow/workspace/images/collectedimages/Happy/Happy.baa2d08a-b5c1-11ec-aa73-dca632b24006.jpg -> Annotation:/home/patrice/Documents/GRO400-MANUS/Hexapod-master/Hexapod_Qt/Tensorflow/workspace/images/collectedimages/Happy/Happy.baa2d08a-b5c1-11ec-aa73-dca632b24006.xml\n",
      "Image:/home/patrice/Documents/GRO400-MANUS/Hexapod-master/Hexapod_Qt/Tensorflow/workspace/images/collectedimages/Happy/Happy.bc6ee142-b5c1-11ec-aa73-dca632b24006.jpg -> Annotation:/home/patrice/Documents/GRO400-MANUS/Hexapod-master/Hexapod_Qt/Tensorflow/workspace/images/collectedimages/Happy/Happy.bc6ee142-b5c1-11ec-aa73-dca632b24006.xml\n",
      "Image:/home/patrice/Documents/GRO400-MANUS/Hexapod-master/Hexapod_Qt/Tensorflow/workspace/images/collectedimages/Happy/Happy.be3a216c-b5c1-11ec-aa73-dca632b24006.jpg -> Annotation:/home/patrice/Documents/GRO400-MANUS/Hexapod-master/Hexapod_Qt/Tensorflow/workspace/images/collectedimages/Happy/Happy.be3a216c-b5c1-11ec-aa73-dca632b24006.xml\n",
      "Image:/home/patrice/Documents/GRO400-MANUS/Hexapod-master/Hexapod_Qt/Tensorflow/workspace/images/collectedimages/Happy/Happy.c1d0d7a8-b5c1-11ec-aa73-dca632b24006.jpg -> Annotation:/home/patrice/Documents/GRO400-MANUS/Hexapod-master/Hexapod_Qt/Tensorflow/workspace/images/collectedimages/Happy/Happy.c1d0d7a8-b5c1-11ec-aa73-dca632b24006.xml\n",
      "Image:/home/patrice/Documents/GRO400-MANUS/Hexapod-master/Hexapod_Qt/Tensorflow/workspace/images/collectedimages/Happy/Happy.c8feb90a-b5c1-11ec-aa73-dca632b24006.jpg -> Annotation:/home/patrice/Documents/GRO400-MANUS/Hexapod-master/Hexapod_Qt/Tensorflow/workspace/images/collectedimages/Happy/Happy.c8feb90a-b5c1-11ec-aa73-dca632b24006.xml\n",
      "Image:/home/patrice/Documents/GRO400-MANUS/Hexapod-master/Hexapod_Qt/Tensorflow/workspace/images/collectedimages/Happy/Happy.c39b69cc-b5c1-11ec-aa73-dca632b24006.jpg -> Annotation:/home/patrice/Documents/GRO400-MANUS/Hexapod-master/Hexapod_Qt/Tensorflow/workspace/images/collectedimages/Happy/Happy.c39b69cc-b5c1-11ec-aa73-dca632b24006.xml\n",
      "Image:/home/patrice/Documents/GRO400-MANUS/Hexapod-master/Hexapod_Qt/Tensorflow/workspace/images/collectedimages/Happy/Happy.c566fe4c-b5c1-11ec-aa73-dca632b24006.jpg -> Annotation:/home/patrice/Documents/GRO400-MANUS/Hexapod-master/Hexapod_Qt/Tensorflow/workspace/images/collectedimages/Happy/Happy.c566fe4c-b5c1-11ec-aa73-dca632b24006.xml\n",
      "Image:/home/patrice/Documents/GRO400-MANUS/Hexapod-master/Hexapod_Qt/Tensorflow/workspace/images/collectedimages/Happy/Happy.c733c6ba-b5c1-11ec-aa73-dca632b24006.jpg -> Annotation:/home/patrice/Documents/GRO400-MANUS/Hexapod-master/Hexapod_Qt/Tensorflow/workspace/images/collectedimages/Happy/Happy.c733c6ba-b5c1-11ec-aa73-dca632b24006.xml\n",
      "Image:/home/patrice/Documents/GRO400-MANUS/Hexapod-master/Hexapod_Qt/Tensorflow/workspace/images/collectedimages/Happy/Happy.c0051326-b5c1-11ec-aa73-dca632b24006.jpg -> Annotation:/home/patrice/Documents/GRO400-MANUS/Hexapod-master/Hexapod_Qt/Tensorflow/workspace/images/collectedimages/Happy/Happy.c0051326-b5c1-11ec-aa73-dca632b24006.xml\n",
      "Image:/home/patrice/Documents/GRO400-MANUS/Hexapod-master/Hexapod_Qt/Tensorflow/workspace/images/collectedimages/Happy/Happy.caccac24-b5c1-11ec-aa73-dca632b24006.jpg -> Annotation:/home/patrice/Documents/GRO400-MANUS/Hexapod-master/Hexapod_Qt/Tensorflow/workspace/images/collectedimages/Happy/Happy.caccac24-b5c1-11ec-aa73-dca632b24006.xml\n",
      "Image:/home/patrice/Documents/GRO400-MANUS/Hexapod-master/Hexapod_Qt/Tensorflow/workspace/images/collectedimages/Happy/Happy.cc98026a-b5c1-11ec-aa73-dca632b24006.jpg -> Annotation:/home/patrice/Documents/GRO400-MANUS/Hexapod-master/Hexapod_Qt/Tensorflow/workspace/images/collectedimages/Happy/Happy.cc98026a-b5c1-11ec-aa73-dca632b24006.xml\n",
      "Image:/home/patrice/Documents/GRO400-MANUS/Hexapod-master/Hexapod_Qt/Tensorflow/workspace/images/collectedimages/Happy/Happy.ce63d786-b5c1-11ec-aa73-dca632b24006.jpg -> Annotation:/home/patrice/Documents/GRO400-MANUS/Hexapod-master/Hexapod_Qt/Tensorflow/workspace/images/collectedimages/Happy/Happy.ce63d786-b5c1-11ec-aa73-dca632b24006.xml\n",
      "Image:/home/patrice/Documents/GRO400-MANUS/Hexapod-master/Hexapod_Qt/Tensorflow/workspace/images/collectedimages/Happy/Happy.d1fa5438-b5c1-11ec-aa73-dca632b24006.jpg -> Annotation:/home/patrice/Documents/GRO400-MANUS/Hexapod-master/Hexapod_Qt/Tensorflow/workspace/images/collectedimages/Happy/Happy.d1fa5438-b5c1-11ec-aa73-dca632b24006.xml\n",
      "Image:/home/patrice/Documents/GRO400-MANUS/Hexapod-master/Hexapod_Qt/Tensorflow/workspace/images/collectedimages/Happy/Happy.d02f4b4a-b5c1-11ec-aa73-dca632b24006.jpg -> Annotation:/home/patrice/Documents/GRO400-MANUS/Hexapod-master/Hexapod_Qt/Tensorflow/workspace/images/collectedimages/Happy/Happy.d02f4b4a-b5c1-11ec-aa73-dca632b24006.xml\n",
      "Image:/home/patrice/Documents/GRO400-MANUS/Hexapod-master/Hexapod_Qt/Tensorflow/workspace/images/collectedimages/Happy/Happy.d3c54156-b5c1-11ec-aa73-dca632b24006.jpg -> Annotation:/home/patrice/Documents/GRO400-MANUS/Hexapod-master/Hexapod_Qt/Tensorflow/workspace/images/collectedimages/Happy/Happy.d3c54156-b5c1-11ec-aa73-dca632b24006.xml\n",
      "Image:/home/patrice/Documents/GRO400-MANUS/Hexapod-master/Hexapod_Qt/Tensorflow/workspace/images/collectedimages/Happy/Happy.d75b68cc-b5c1-11ec-aa73-dca632b24006.jpg -> Annotation:/home/patrice/Documents/GRO400-MANUS/Hexapod-master/Hexapod_Qt/Tensorflow/workspace/images/collectedimages/Happy/Happy.d75b68cc-b5c1-11ec-aa73-dca632b24006.xml\n",
      "Image:/home/patrice/Documents/GRO400-MANUS/Hexapod-master/Hexapod_Qt/Tensorflow/workspace/images/collectedimages/Happy/Happy.d5906ae2-b5c1-11ec-aa73-dca632b24006.jpg -> Annotation:/home/patrice/Documents/GRO400-MANUS/Hexapod-master/Hexapod_Qt/Tensorflow/workspace/images/collectedimages/Happy/Happy.d5906ae2-b5c1-11ec-aa73-dca632b24006.xml\n",
      "Image:/home/patrice/Documents/GRO400-MANUS/Hexapod-master/Hexapod_Qt/Tensorflow/workspace/images/collectedimages/Happy/Happy.d9272718-b5c1-11ec-aa73-dca632b24006.jpg -> Annotation:/home/patrice/Documents/GRO400-MANUS/Hexapod-master/Hexapod_Qt/Tensorflow/workspace/images/collectedimages/Happy/Happy.d9272718-b5c1-11ec-aa73-dca632b24006.xml\n"
     ]
    }
   ],
>>>>>>> Stashed changes
   "source": [
    "!cd {LABELIMG_PATH} && python labelImg.py"
   ]
  },
  {
   "cell_type": "markdown",
   "metadata": {},
   "source": [
    "# 6. Move them into a Training and Testing Partition"
   ]
  },
  {
   "cell_type": "markdown",
   "metadata": {},
   "source": [
    "# OPTIONAL - 7. Compress them for Colab Training"
   ]
  },
  {
   "cell_type": "code",
   "execution_count": 20,
   "metadata": {},
   "outputs": [],
   "source": [
    "TRAIN_PATH = os.path.join('Tensorflow', 'workspace', 'images', 'train')\n",
    "TEST_PATH = os.path.join('Tensorflow', 'workspace', 'images', 'test')\n",
    "ARCHIVE_PATH = os.path.join('Tensorflow', 'workspace', 'images', 'archive.tar.gz')"
   ]
  },
  {
   "cell_type": "code",
   "execution_count": 21,
   "metadata": {},
   "outputs": [],
   "source": [
    "!tar -czf {ARCHIVE_PATH} {TRAIN_PATH} {TEST_PATH}"
   ]
  },
  {
   "cell_type": "code",
   "execution_count": null,
   "metadata": {},
   "outputs": [],
   "source": []
  }
 ],
 "metadata": {
  "interpreter": {
   "hash": "80c71a0db24309a8254ceb5e36f21362e51c0ff1f1e696e5677cdd2e284ca521"
  },
  "kernelspec": {
   "display_name": "Qt_venv",
   "language": "python",
   "name": "python3"
  },
  "language_info": {
   "codemirror_mode": {
    "name": "ipython",
    "version": 3
   },
   "file_extension": ".py",
   "mimetype": "text/x-python",
   "name": "python",
   "nbconvert_exporter": "python",
   "pygments_lexer": "ipython3",
   "version": "3.9.2"
  }
 },
 "nbformat": 4,
 "nbformat_minor": 2
}
